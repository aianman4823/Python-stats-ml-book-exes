{
 "cells": [
  {
   "cell_type": "code",
   "execution_count": 1,
   "id": "23e634ec",
   "metadata": {},
   "outputs": [
    {
     "name": "stderr",
     "output_type": "stream",
     "text": [
      "/Users/akito_harada/Documents/python/stats/ml/venv/lib/python3.8/site-packages/pandas/compat/__init__.py:97: UserWarning: Could not import the lzma module. Your installed Python is incomplete. Attempting to use lzma compression will result in a RuntimeError.\n",
      "  warnings.warn(msg)\n"
     ]
    }
   ],
   "source": [
    "import numpy as np\n",
    "import matplotlib.pyplot as plt\n",
    "import pandas as pd\n",
    "from sklearn.decomposition import PCA"
   ]
  },
  {
   "cell_type": "code",
   "execution_count": 2,
   "id": "8c01c548",
   "metadata": {},
   "outputs": [],
   "source": [
    "dat = pd.read_csv('data/Davis.csv')"
   ]
  },
  {
   "cell_type": "code",
   "execution_count": 3,
   "id": "482c6b63",
   "metadata": {},
   "outputs": [
    {
     "data": {
      "text/plain": [
       "Index(['sex', 'weight', 'height', 'repwt', 'repht'], dtype='object')"
      ]
     },
     "execution_count": 3,
     "metadata": {},
     "output_type": "execute_result"
    }
   ],
   "source": [
    "dat.columns"
   ]
  },
  {
   "cell_type": "code",
   "execution_count": 4,
   "id": "4bcfa8a1",
   "metadata": {},
   "outputs": [
    {
     "name": "stdout",
     "output_type": "stream",
     "text": [
      "0    77\n",
      "1    58\n",
      "2    53\n",
      "3    68\n",
      "4    59\n",
      "5    76\n",
      "6    76\n",
      "7    69\n",
      "8    71\n",
      "9    65\n",
      "Name: weight, dtype: int64 0    182\n",
      "1    161\n",
      "2    161\n",
      "3    177\n",
      "4    157\n",
      "5    170\n",
      "6    167\n",
      "7    186\n",
      "8    178\n",
      "9    171\n",
      "Name: height, dtype: int64\n",
      "0    4.343805\n",
      "1    4.060443\n",
      "2    3.970292\n",
      "3    4.219508\n",
      "4    4.077537\n",
      "5    4.330733\n",
      "6    4.330733\n",
      "7    4.234107\n",
      "8    4.262680\n",
      "9    4.174387\n",
      "Name: weight, dtype: float64\n"
     ]
    }
   ],
   "source": [
    "print(dat['weight'][:10], dat['height'][:10])\n",
    "print(np.log(dat['weight'][:10]))"
   ]
  },
  {
   "cell_type": "code",
   "execution_count": 5,
   "id": "443f96ba",
   "metadata": {},
   "outputs": [
    {
     "data": {
      "text/plain": [
       "array([[4.34380542, 0.5988365 ],\n",
       "       [4.06044301, 0.47623418],\n",
       "       [3.97029191, 0.47623418],\n",
       "       [4.21950771, 0.57097955],\n",
       "       [4.07753744, 0.45107562],\n",
       "       [4.33073334, 0.53062825],\n",
       "       [4.33073334, 0.51282363],\n",
       "       [4.2341065 , 0.62057649],\n",
       "       [4.26267988, 0.57661336],\n",
       "       [4.17438727, 0.53649337]])"
      ]
     },
     "execution_count": 5,
     "metadata": {},
     "output_type": "execute_result"
    }
   ],
   "source": [
    "logdat = np.log(np.c_[dat['weight'], dat['height']/100].astype(\"float\"))\n",
    "logdat[:10]"
   ]
  },
  {
   "cell_type": "code",
   "execution_count": 6,
   "id": "b11b979d",
   "metadata": {},
   "outputs": [
    {
     "data": {
      "image/png": "[encoded data removed]",
      "text/plain": [
       "<Figure size 432x288 with 1 Axes>"
      ]
     },
     "metadata": {
      "needs_background": "light"
     },
     "output_type": "display_data"
    }
   ],
   "source": [
    "plt.plot(logdat[:, 0], logdat[:, 1], '.')\n",
    "plt.show();"
   ]
  },
  {
   "cell_type": "code",
   "execution_count": 7,
   "id": "98c5f684",
   "metadata": {},
   "outputs": [],
   "source": [
    "# 外れ値を削除\n",
    "clean_logdat = np.delete(logdat, 11, axis = 0)"
   ]
  },
  {
   "cell_type": "code",
   "execution_count": 8,
   "id": "00fd892a",
   "metadata": {},
   "outputs": [
    {
     "data": {
      "text/plain": [
       "PCA()"
      ]
     },
     "execution_count": 8,
     "metadata": {},
     "output_type": "execute_result"
    }
   ],
   "source": [
    "# 外れ値を削除したデータに対して主成分分析を実行\n",
    "pca = PCA()\n",
    "pca.fit(clean_logdat)"
   ]
  },
  {
   "cell_type": "code",
   "execution_count": 9,
   "id": "2640bebc",
   "metadata": {},
   "outputs": [
    {
     "data": {
      "text/plain": [
       "array([[ 0.97754866,  0.21070979],\n",
       "       [-0.21070979,  0.97754866]])"
      ]
     },
     "execution_count": 9,
     "metadata": {},
     "output_type": "execute_result"
    }
   ],
   "source": [
    "pca.components_"
   ]
  },
  {
   "cell_type": "code",
   "execution_count": 10,
   "id": "04d17f44",
   "metadata": {},
   "outputs": [],
   "source": [
    "feature = pca.transform(clean_logdat)"
   ]
  },
  {
   "cell_type": "code",
   "execution_count": 11,
   "id": "36ce531f",
   "metadata": {},
   "outputs": [
    {
     "data": {
      "text/html": [
       "<div>\n",
       "<style scoped>\n",
       "    .dataframe tbody tr th:only-of-type {\n",
       "        vertical-align: middle;\n",
       "    }\n",
       "\n",
       "    .dataframe tbody tr th {\n",
       "        vertical-align: top;\n",
       "    }\n",
       "\n",
       "    .dataframe thead th {\n",
       "        text-align: right;\n",
       "    }\n",
       "</style>\n",
       "<table border=\"1\" class=\"dataframe\">\n",
       "  <thead>\n",
       "    <tr style=\"text-align: right;\">\n",
       "      <th></th>\n",
       "      <th>0</th>\n",
       "      <th>1</th>\n",
       "    </tr>\n",
       "  </thead>\n",
       "  <tbody>\n",
       "    <tr>\n",
       "      <th>0</th>\n",
       "      <td>0.194143</td>\n",
       "      <td>0.025791</td>\n",
       "    </tr>\n",
       "    <tr>\n",
       "      <th>1</th>\n",
       "      <td>-0.108691</td>\n",
       "      <td>-0.034352</td>\n",
       "    </tr>\n",
       "    <tr>\n",
       "      <th>2</th>\n",
       "      <td>-0.196818</td>\n",
       "      <td>-0.015356</td>\n",
       "    </tr>\n",
       "    <tr>\n",
       "      <th>3</th>\n",
       "      <td>0.066766</td>\n",
       "      <td>0.024750</td>\n",
       "    </tr>\n",
       "    <tr>\n",
       "      <th>4</th>\n",
       "      <td>-0.097282</td>\n",
       "      <td>-0.062547</td>\n",
       "    </tr>\n",
       "  </tbody>\n",
       "</table>\n",
       "</div>"
      ],
      "text/plain": [
       "          0         1\n",
       "0  0.194143  0.025791\n",
       "1 -0.108691 -0.034352\n",
       "2 -0.196818 -0.015356\n",
       "3  0.066766  0.024750\n",
       "4 -0.097282 -0.062547"
      ]
     },
     "execution_count": 11,
     "metadata": {},
     "output_type": "execute_result"
    }
   ],
   "source": [
    "# 主成分得点\n",
    "pd.DataFrame(feature).head()"
   ]
  },
  {
   "cell_type": "code",
   "execution_count": 12,
   "id": "9e9d5427",
   "metadata": {},
   "outputs": [
    {
     "data": {
      "text/html": [
       "<div>\n",
       "<style scoped>\n",
       "    .dataframe tbody tr th:only-of-type {\n",
       "        vertical-align: middle;\n",
       "    }\n",
       "\n",
       "    .dataframe tbody tr th {\n",
       "        vertical-align: top;\n",
       "    }\n",
       "\n",
       "    .dataframe thead th {\n",
       "        text-align: right;\n",
       "    }\n",
       "</style>\n",
       "<table border=\"1\" class=\"dataframe\">\n",
       "  <thead>\n",
       "    <tr style=\"text-align: right;\">\n",
       "      <th></th>\n",
       "      <th>0</th>\n",
       "    </tr>\n",
       "  </thead>\n",
       "  <tbody>\n",
       "    <tr>\n",
       "      <th>0</th>\n",
       "      <td>0.975367</td>\n",
       "    </tr>\n",
       "    <tr>\n",
       "      <th>1</th>\n",
       "      <td>0.024633</td>\n",
       "    </tr>\n",
       "  </tbody>\n",
       "</table>\n",
       "</div>"
      ],
      "text/plain": [
       "          0\n",
       "0  0.975367\n",
       "1  0.024633"
      ]
     },
     "execution_count": 12,
     "metadata": {},
     "output_type": "execute_result"
    }
   ],
   "source": [
    "# 寄与率と累積寄与率は、第何主成分まででどのくらいの情報を説明できるかという指標\n",
    "pd.DataFrame(pca.explained_variance_ratio_)"
   ]
  },
  {
   "cell_type": "code",
   "execution_count": 13,
   "id": "a23aeed7",
   "metadata": {},
   "outputs": [
    {
     "data": {
      "image/png": "[encoded data removed]",
      "text/plain": [
       "<Figure size 432x288 with 1 Axes>"
      ]
     },
     "metadata": {
      "needs_background": "light"
     },
     "output_type": "display_data"
    }
   ],
   "source": [
    "# 累積寄与率を図示する\n",
    "import matplotlib.ticker as ticker\n",
    "plt.gca().get_xaxis().set_major_locator(ticker.MaxNLocator(integer=True))\n",
    "plt.plot([0] + list( np.cumsum(pca.explained_variance_ratio_)), \"-o\")\n",
    "plt.xlabel(\"Number of principal components\")\n",
    "plt.ylabel(\"Cumulative contribution rate\")\n",
    "plt.grid()\n",
    "plt.show()"
   ]
  },
  {
   "cell_type": "code",
   "execution_count": 14,
   "id": "6400043a",
   "metadata": {},
   "outputs": [
    {
     "data": {
      "text/html": [
       "<div>\n",
       "<style scoped>\n",
       "    .dataframe tbody tr th:only-of-type {\n",
       "        vertical-align: middle;\n",
       "    }\n",
       "\n",
       "    .dataframe tbody tr th {\n",
       "        vertical-align: top;\n",
       "    }\n",
       "\n",
       "    .dataframe thead th {\n",
       "        text-align: right;\n",
       "    }\n",
       "</style>\n",
       "<table border=\"1\" class=\"dataframe\">\n",
       "  <thead>\n",
       "    <tr style=\"text-align: right;\">\n",
       "      <th></th>\n",
       "      <th>0</th>\n",
       "    </tr>\n",
       "  </thead>\n",
       "  <tbody>\n",
       "    <tr>\n",
       "      <th>0</th>\n",
       "      <td>0.039947</td>\n",
       "    </tr>\n",
       "    <tr>\n",
       "      <th>1</th>\n",
       "      <td>0.001009</td>\n",
       "    </tr>\n",
       "  </tbody>\n",
       "</table>\n",
       "</div>"
      ],
      "text/plain": [
       "          0\n",
       "0  0.039947\n",
       "1  0.001009"
      ]
     },
     "execution_count": 14,
     "metadata": {},
     "output_type": "execute_result"
    }
   ],
   "source": [
    "# PCA の固有値\n",
    "pd.DataFrame(pca.explained_variance_)"
   ]
  },
  {
   "cell_type": "code",
   "execution_count": 15,
   "id": "293242cb",
   "metadata": {},
   "outputs": [
    {
     "data": {
      "text/html": [
       "<div>\n",
       "<style scoped>\n",
       "    .dataframe tbody tr th:only-of-type {\n",
       "        vertical-align: middle;\n",
       "    }\n",
       "\n",
       "    .dataframe tbody tr th {\n",
       "        vertical-align: top;\n",
       "    }\n",
       "\n",
       "    .dataframe thead th {\n",
       "        text-align: right;\n",
       "    }\n",
       "</style>\n",
       "<table border=\"1\" class=\"dataframe\">\n",
       "  <thead>\n",
       "    <tr style=\"text-align: right;\">\n",
       "      <th></th>\n",
       "      <th>0</th>\n",
       "      <th>1</th>\n",
       "    </tr>\n",
       "  </thead>\n",
       "  <tbody>\n",
       "    <tr>\n",
       "      <th>0</th>\n",
       "      <td>0.977549</td>\n",
       "      <td>0.210710</td>\n",
       "    </tr>\n",
       "    <tr>\n",
       "      <th>1</th>\n",
       "      <td>-0.210710</td>\n",
       "      <td>0.977549</td>\n",
       "    </tr>\n",
       "  </tbody>\n",
       "</table>\n",
       "</div>"
      ],
      "text/plain": [
       "          0         1\n",
       "0  0.977549  0.210710\n",
       "1 -0.210710  0.977549"
      ]
     },
     "execution_count": 15,
     "metadata": {},
     "output_type": "execute_result"
    }
   ],
   "source": [
    "# PCA の固有ベクトル\n",
    "pd.DataFrame(pca.components_)"
   ]
  },
  {
   "cell_type": "code",
   "execution_count": 16,
   "id": "7356fd87",
   "metadata": {},
   "outputs": [
    {
     "data": {
      "image/png": "[encoded data removed]",
      "text/plain": [
       "<Figure size 432x432 with 1 Axes>"
      ]
     },
     "metadata": {
      "needs_background": "light"
     },
     "output_type": "display_data"
    }
   ],
   "source": [
    "# 第一主成分と第二主成分における観測変数の寄与度をプロットする\n",
    "plt.figure(figsize=(6, 6))\n",
    "for x, y, name in zip(pca.components_[0], pca.components_[1], ['weight', 'height']):\n",
    "    plt.text(x, y, name)\n",
    "plt.scatter(pca.components_[0], pca.components_[1], alpha=0.8)\n",
    "plt.grid()\n",
    "plt.xlabel(\"PC1\")\n",
    "plt.ylabel(\"PC2\")\n",
    "plt.show()"
   ]
  },
  {
   "cell_type": "code",
   "execution_count": 17,
   "id": "09240082",
   "metadata": {},
   "outputs": [],
   "source": [
    "# 因子分析\n",
    "from sklearn.datasets import load_boston"
   ]
  },
  {
   "cell_type": "code",
   "execution_count": 18,
   "id": "43a9a44d",
   "metadata": {},
   "outputs": [],
   "source": [
    "BostonHousing = load_boston()"
   ]
  },
  {
   "cell_type": "code",
   "execution_count": 19,
   "id": "75605151",
   "metadata": {},
   "outputs": [
    {
     "data": {
      "text/plain": [
       "{'data': array([[6.3200e-03, 1.8000e+01, 2.3100e+00, ..., 1.5300e+01, 3.9690e+02,\n",
       "         4.9800e+00],\n",
       "        [2.7310e-02, 0.0000e+00, 7.0700e+00, ..., 1.7800e+01, 3.9690e+02,\n",
       "         9.1400e+00],\n",
       "        [2.7290e-02, 0.0000e+00, 7.0700e+00, ..., 1.7800e+01, 3.9283e+02,\n",
       "         4.0300e+00],\n",
       "        ...,\n",
       "        [6.0760e-02, 0.0000e+00, 1.1930e+01, ..., 2.1000e+01, 3.9690e+02,\n",
       "         5.6400e+00],\n",
       "        [1.0959e-01, 0.0000e+00, 1.1930e+01, ..., 2.1000e+01, 3.9345e+02,\n",
       "         6.4800e+00],\n",
       "        [4.7410e-02, 0.0000e+00, 1.1930e+01, ..., 2.1000e+01, 3.9690e+02,\n",
       "         7.8800e+00]]),\n",
       " 'target': array([24. , 21.6, 34.7, 33.4, 36.2, 28.7, 22.9, 27.1, 16.5, 18.9, 15. ,\n",
       "        18.9, 21.7, 20.4, 18.2, 19.9, 23.1, 17.5, 20.2, 18.2, 13.6, 19.6,\n",
       "        15.2, 14.5, 15.6, 13.9, 16.6, 14.8, 18.4, 21. , 12.7, 14.5, 13.2,\n",
       "        13.1, 13.5, 18.9, 20. , 21. , 24.7, 30.8, 34.9, 26.6, 25.3, 24.7,\n",
       "        21.2, 19.3, 20. , 16.6, 14.4, 19.4, 19.7, 20.5, 25. , 23.4, 18.9,\n",
       "        35.4, 24.7, 31.6, 23.3, 19.6, 18.7, 16. , 22.2, 25. , 33. , 23.5,\n",
       "        19.4, 22. , 17.4, 20.9, 24.2, 21.7, 22.8, 23.4, 24.1, 21.4, 20. ,\n",
       "        20.8, 21.2, 20.3, 28. , 23.9, 24.8, 22.9, 23.9, 26.6, 22.5, 22.2,\n",
       "        23.6, 28.7, 22.6, 22. , 22.9, 25. , 20.6, 28.4, 21.4, 38.7, 43.8,\n",
       "        33.2, 27.5, 26.5, 18.6, 19.3, 20.1, 19.5, 19.5, 20.4, 19.8, 19.4,\n",
       "        21.7, 22.8, 18.8, 18.7, 18.5, 18.3, 21.2, 19.2, 20.4, 19.3, 22. ,\n",
       "        20.3, 20.5, 17.3, 18.8, 21.4, 15.7, 16.2, 18. , 14.3, 19.2, 19.6,\n",
       "        23. , 18.4, 15.6, 18.1, 17.4, 17.1, 13.3, 17.8, 14. , 14.4, 13.4,\n",
       "        15.6, 11.8, 13.8, 15.6, 14.6, 17.8, 15.4, 21.5, 19.6, 15.3, 19.4,\n",
       "        17. , 15.6, 13.1, 41.3, 24.3, 23.3, 27. , 50. , 50. , 50. , 22.7,\n",
       "        25. , 50. , 23.8, 23.8, 22.3, 17.4, 19.1, 23.1, 23.6, 22.6, 29.4,\n",
       "        23.2, 24.6, 29.9, 37.2, 39.8, 36.2, 37.9, 32.5, 26.4, 29.6, 50. ,\n",
       "        32. , 29.8, 34.9, 37. , 30.5, 36.4, 31.1, 29.1, 50. , 33.3, 30.3,\n",
       "        34.6, 34.9, 32.9, 24.1, 42.3, 48.5, 50. , 22.6, 24.4, 22.5, 24.4,\n",
       "        20. , 21.7, 19.3, 22.4, 28.1, 23.7, 25. , 23.3, 28.7, 21.5, 23. ,\n",
       "        26.7, 21.7, 27.5, 30.1, 44.8, 50. , 37.6, 31.6, 46.7, 31.5, 24.3,\n",
       "        31.7, 41.7, 48.3, 29. , 24. , 25.1, 31.5, 23.7, 23.3, 22. , 20.1,\n",
       "        22.2, 23.7, 17.6, 18.5, 24.3, 20.5, 24.5, 26.2, 24.4, 24.8, 29.6,\n",
       "        42.8, 21.9, 20.9, 44. , 50. , 36. , 30.1, 33.8, 43.1, 48.8, 31. ,\n",
       "        36.5, 22.8, 30.7, 50. , 43.5, 20.7, 21.1, 25.2, 24.4, 35.2, 32.4,\n",
       "        32. , 33.2, 33.1, 29.1, 35.1, 45.4, 35.4, 46. , 50. , 32.2, 22. ,\n",
       "        20.1, 23.2, 22.3, 24.8, 28.5, 37.3, 27.9, 23.9, 21.7, 28.6, 27.1,\n",
       "        20.3, 22.5, 29. , 24.8, 22. , 26.4, 33.1, 36.1, 28.4, 33.4, 28.2,\n",
       "        22.8, 20.3, 16.1, 22.1, 19.4, 21.6, 23.8, 16.2, 17.8, 19.8, 23.1,\n",
       "        21. , 23.8, 23.1, 20.4, 18.5, 25. , 24.6, 23. , 22.2, 19.3, 22.6,\n",
       "        19.8, 17.1, 19.4, 22.2, 20.7, 21.1, 19.5, 18.5, 20.6, 19. , 18.7,\n",
       "        32.7, 16.5, 23.9, 31.2, 17.5, 17.2, 23.1, 24.5, 26.6, 22.9, 24.1,\n",
       "        18.6, 30.1, 18.2, 20.6, 17.8, 21.7, 22.7, 22.6, 25. , 19.9, 20.8,\n",
       "        16.8, 21.9, 27.5, 21.9, 23.1, 50. , 50. , 50. , 50. , 50. , 13.8,\n",
       "        13.8, 15. , 13.9, 13.3, 13.1, 10.2, 10.4, 10.9, 11.3, 12.3,  8.8,\n",
       "         7.2, 10.5,  7.4, 10.2, 11.5, 15.1, 23.2,  9.7, 13.8, 12.7, 13.1,\n",
       "        12.5,  8.5,  5. ,  6.3,  5.6,  7.2, 12.1,  8.3,  8.5,  5. , 11.9,\n",
       "        27.9, 17.2, 27.5, 15. , 17.2, 17.9, 16.3,  7. ,  7.2,  7.5, 10.4,\n",
       "         8.8,  8.4, 16.7, 14.2, 20.8, 13.4, 11.7,  8.3, 10.2, 10.9, 11. ,\n",
       "         9.5, 14.5, 14.1, 16.1, 14.3, 11.7, 13.4,  9.6,  8.7,  8.4, 12.8,\n",
       "        10.5, 17.1, 18.4, 15.4, 10.8, 11.8, 14.9, 12.6, 14.1, 13. , 13.4,\n",
       "        15.2, 16.1, 17.8, 14.9, 14.1, 12.7, 13.5, 14.9, 20. , 16.4, 17.7,\n",
       "        19.5, 20.2, 21.4, 19.9, 19. , 19.1, 19.1, 20.1, 19.9, 19.6, 23.2,\n",
       "        29.8, 13.8, 13.3, 16.7, 12. , 14.6, 21.4, 23. , 23.7, 25. , 21.8,\n",
       "        20.6, 21.2, 19.1, 20.6, 15.2,  7. ,  8.1, 13.6, 20.1, 21.8, 24.5,\n",
       "        23.1, 19.7, 18.3, 21.2, 17.5, 16.8, 22.4, 20.6, 23.9, 22. , 11.9]),\n",
       " 'feature_names': array(['CRIM', 'ZN', 'INDUS', 'CHAS', 'NOX', 'RM', 'AGE', 'DIS', 'RAD',\n",
       "        'TAX', 'PTRATIO', 'B', 'LSTAT'], dtype='<U7'),\n",
       " 'DESCR': \".. _boston_dataset:\\n\\nBoston house prices dataset\\n---------------------------\\n\\n**Data Set Characteristics:**  \\n\\n    :Number of Instances: 506 \\n\\n    :Number of Attributes: 13 numeric/categorical predictive. Median Value (attribute 14) is usually the target.\\n\\n    :Attribute Information (in order):\\n        - CRIM     per capita crime rate by town\\n        - ZN       proportion of residential land zoned for lots over 25,000 sq.ft.\\n        - INDUS    proportion of non-retail business acres per town\\n        - CHAS     Charles River dummy variable (= 1 if tract bounds river; 0 otherwise)\\n        - NOX      nitric oxides concentration (parts per 10 million)\\n        - RM       average number of rooms per dwelling\\n        - AGE      proportion of owner-occupied units built prior to 1940\\n        - DIS      weighted distances to five Boston employment centres\\n        - RAD      index of accessibility to radial highways\\n        - TAX      full-value property-tax rate per $10,000\\n        - PTRATIO  pupil-teacher ratio by town\\n        - B        1000(Bk - 0.63)^2 where Bk is the proportion of black people by town\\n        - LSTAT    % lower status of the population\\n        - MEDV     Median value of owner-occupied homes in $1000's\\n\\n    :Missing Attribute Values: None\\n\\n    :Creator: Harrison, D. and Rubinfeld, D.L.\\n\\nThis is a copy of UCI ML housing dataset.\\nhttps://archive.ics.uci.edu/ml/machine-learning-databases/housing/\\n\\n\\nThis dataset was taken from the StatLib library which is maintained at Carnegie Mellon University.\\n\\nThe Boston house-price data of Harrison, D. and Rubinfeld, D.L. 'Hedonic\\nprices and the demand for clean air', J. Environ. Economics & Management,\\nvol.5, 81-102, 1978.   Used in Belsley, Kuh & Welsch, 'Regression diagnostics\\n...', Wiley, 1980.   N.B. Various transformations are used in the table on\\npages 244-261 of the latter.\\n\\nThe Boston house-price data has been used in many machine learning papers that address regression\\nproblems.   \\n     \\n.. topic:: References\\n\\n   - Belsley, Kuh & Welsch, 'Regression diagnostics: Identifying Influential Data and Sources of Collinearity', Wiley, 1980. 244-261.\\n   - Quinlan,R. (1993). Combining Instance-Based and Model-Based Learning. In Proceedings on the Tenth International Conference of Machine Learning, 236-243, University of Massachusetts, Amherst. Morgan Kaufmann.\\n\",\n",
       " 'filename': '/Users/akito_harada/Documents/python/stats/ml/venv/lib/python3.8/site-packages/sklearn/datasets/data/boston_house_prices.csv'}"
      ]
     },
     "execution_count": 19,
     "metadata": {},
     "output_type": "execute_result"
    }
   ],
   "source": [
    "BostonHousing"
   ]
  },
  {
   "cell_type": "code",
   "execution_count": 20,
   "id": "e264f7b5",
   "metadata": {},
   "outputs": [],
   "source": [
    "from sklearn.decomposition import FactorAnalysis\n",
    "from sklearn.preprocessing import scale\n"
   ]
  },
  {
   "cell_type": "code",
   "execution_count": 21,
   "id": "842026a6",
   "metadata": {},
   "outputs": [],
   "source": [
    "# データのスケーリング\n",
    "X = scale(BostonHousing.data)"
   ]
  },
  {
   "cell_type": "code",
   "execution_count": 22,
   "id": "78ca0cf6",
   "metadata": {},
   "outputs": [
    {
     "data": {
      "text/plain": [
       "(506, 13)"
      ]
     },
     "execution_count": 22,
     "metadata": {},
     "output_type": "execute_result"
    }
   ],
   "source": [
    "# データ行列のサイズ(データ数, 次元)\n",
    "X.shape"
   ]
  },
  {
   "cell_type": "code",
   "execution_count": 23,
   "id": "2265ed48",
   "metadata": {},
   "outputs": [
    {
     "data": {
      "text/plain": [
       "(506, 3)"
      ]
     },
     "execution_count": 23,
     "metadata": {},
     "output_type": "execute_result"
    }
   ],
   "source": [
    "fa = FactorAnalysis(n_components=3) # 因子数を3で推定\n",
    "rX = fa.fit_transform(X) # 因子スコア\n",
    "rX.shape"
   ]
  },
  {
   "cell_type": "code",
   "execution_count": 24,
   "id": "4c62472e",
   "metadata": {},
   "outputs": [
    {
     "data": {
      "text/plain": [
       "array([[ 0.6121372 , -0.4957598 ,  0.81341902,  0.00512797,  0.80406482,\n",
       "        -0.3737183 ,  0.67562989, -0.71558151,  0.88828641,  0.93353022,\n",
       "         0.47185072, -0.4688966 ,  0.66715612],\n",
       "       [-0.14078614, -0.50308575,  0.26434287,  0.12250032,  0.3361002 ,\n",
       "        -0.24617668,  0.47316763, -0.50591099, -0.31994494, -0.2548487 ,\n",
       "        -0.09045084,  0.06657234,  0.27624587],\n",
       "       [-0.04355955, -0.0156834 , -0.02700214,  0.18605562,  0.1230639 ,\n",
       "         0.74390582,  0.12903434, -0.25659733,  0.05578977, -0.00510409,\n",
       "        -0.27274263, -0.00219808, -0.39340095]])"
      ]
     },
     "execution_count": 24,
     "metadata": {},
     "output_type": "execute_result"
    }
   ],
   "source": [
    "# 因子負荷行列\n",
    "fa.components_"
   ]
  },
  {
   "cell_type": "code",
   "execution_count": 25,
   "id": "59af44be",
   "metadata": {},
   "outputs": [
    {
     "data": {
      "text/plain": [
       "(3, 13)"
      ]
     },
     "execution_count": 25,
     "metadata": {},
     "output_type": "execute_result"
    }
   ],
   "source": [
    "fa.components_.shape # サイズは(因子数, 次元)"
   ]
  },
  {
   "cell_type": "code",
   "execution_count": 26,
   "id": "85de0436",
   "metadata": {},
   "outputs": [
    {
     "data": {
      "text/plain": [
       "array(['TAX', 'RAD', 'INDUS', 'NOX', 'DIS', 'AGE', 'LSTAT', 'CRIM', 'ZN',\n",
       "       'PTRATIO', 'B', 'RM', 'CHAS'], dtype='<U7')"
      ]
     },
     "execution_count": 26,
     "metadata": {},
     "output_type": "execute_result"
    }
   ],
   "source": [
    "# 因子負荷行列の要素: 絶対値の大きさでソート\n",
    "# NumPyの関数numpy.sort()を2次元のNumPy配列ndarrayに適用すると、各行・各列の値が別々に昇順にソートされたndarrayを取得できる。\n",
    "# 特定の行または列を基準にソートしたい場合はnumpy.argsort()を使う。numpy.argsort()はソートされた値ではなくインデックスのndarrayを返す関数\n",
    "BostonHousing.feature_names[np.argsort(np.abs(fa.components_[0,]))[::-1]]"
   ]
  },
  {
   "cell_type": "code",
   "execution_count": 27,
   "id": "f77bd9e9",
   "metadata": {},
   "outputs": [],
   "source": [
    "import statsmodels.api as sm\n",
    "from statsmodels.multivariate.factor_rotation import rotate_factors"
   ]
  },
  {
   "cell_type": "code",
   "execution_count": 28,
   "id": "54eb15e6",
   "metadata": {},
   "outputs": [],
   "source": [
    "L, T = sm.multivariate.factor_rotation.rotate_factors(fa.components_.T, 'varimax')"
   ]
  },
  {
   "cell_type": "code",
   "execution_count": 29,
   "id": "221a3284",
   "metadata": {},
   "outputs": [
    {
     "name": "stdout",
     "output_type": "stream",
     "text": [
      "[[ 0.57043995  0.21934573 -0.15137979]\n",
      " [-0.09178679 -0.66322651  0.22544355]\n",
      " [ 0.48692369  0.64452273 -0.28240492]\n",
      " [-0.06175166  0.15858936  0.14382443]\n",
      " [ 0.44269911  0.74439351 -0.15660172]\n",
      " [-0.11661929 -0.1440654   0.84812104]\n",
      " [ 0.25798213  0.77891875 -0.15409093]\n",
      " [-0.27557962 -0.86904556  0.05158209]\n",
      " [ 0.90274757  0.27065679 -0.0795093 ]\n",
      " [ 0.89683556  0.32472334 -0.16338088]\n",
      " [ 0.41839969  0.10212588 -0.346013  ]\n",
      " [-0.41359763 -0.21133849  0.09259467]\n",
      " [ 0.34734964  0.448523   -0.59527198]]\n",
      "(13, 3)\n"
     ]
    }
   ],
   "source": [
    "print(L)\n",
    "print(L.shape)"
   ]
  },
  {
   "cell_type": "code",
   "execution_count": 30,
   "id": "8d76cca5",
   "metadata": {},
   "outputs": [
    {
     "name": "stdout",
     "output_type": "stream",
     "text": [
      "[[ 0.79617975  0.55689587 -0.23656878]\n",
      " [-0.6034943   0.75901602 -0.24431396]\n",
      " [ 0.04350206  0.33728574  0.94039667]]\n",
      "(3, 3)\n"
     ]
    }
   ],
   "source": [
    "print(T)\n",
    "print(T.shape)"
   ]
  },
  {
   "cell_type": "code",
   "execution_count": 31,
   "id": "0846dcf3",
   "metadata": {},
   "outputs": [],
   "source": [
    "from sklearn.manifold import MDS\n",
    "from sklearn.metrics.pairwise import euclidean_distances"
   ]
  },
  {
   "cell_type": "code",
   "execution_count": 32,
   "id": "45c1a00b",
   "metadata": {},
   "outputs": [],
   "source": [
    "n = 10 # データ数\n",
    "k = 2 # データの次元\n",
    "V = np.random.rand(n, k) # 真の配置\n",
    "d = euclidean_distances(V) # 距離行列"
   ]
  },
  {
   "cell_type": "code",
   "execution_count": 33,
   "id": "3968f246",
   "metadata": {},
   "outputs": [
    {
     "data": {
      "text/plain": [
       "(10, 10)"
      ]
     },
     "execution_count": 33,
     "metadata": {},
     "output_type": "execute_result"
    }
   ],
   "source": [
    "d.shape"
   ]
  },
  {
   "cell_type": "code",
   "execution_count": 34,
   "id": "7d4f003f",
   "metadata": {},
   "outputs": [],
   "source": [
    "# 計量的MDS(次元2): 10個の初期値で計算し、最適な解を採用\n",
    "md = MDS(n_components=2, metric=True, dissimilarity='precomputed',\n",
    "        n_init=10, max_iter=3000)"
   ]
  },
  {
   "cell_type": "code",
   "execution_count": 35,
   "id": "aa957f4d",
   "metadata": {},
   "outputs": [
    {
     "data": {
      "text/plain": [
       "MDS(dissimilarity='precomputed', max_iter=3000, n_init=10)"
      ]
     },
     "execution_count": 35,
     "metadata": {},
     "output_type": "execute_result"
    }
   ],
   "source": [
    "md.fit(d)"
   ]
  },
  {
   "cell_type": "code",
   "execution_count": 36,
   "id": "8d50f2aa",
   "metadata": {},
   "outputs": [],
   "source": [
    "# 再構成された2次元点配置\n",
    "rV2 = md.embedding_"
   ]
  },
  {
   "cell_type": "code",
   "execution_count": 37,
   "id": "9eb225f4",
   "metadata": {},
   "outputs": [
    {
     "data": {
      "text/plain": [
       "array([[ 0.09325894, -0.25869026],\n",
       "       [-0.21688933,  0.1394674 ],\n",
       "       [-0.51674897, -0.09107815],\n",
       "       [-0.2891557 , -0.23264274],\n",
       "       [ 0.2025718 ,  0.18065014],\n",
       "       [ 0.51762947,  0.15675262],\n",
       "       [-0.13252145,  0.01095856],\n",
       "       [ 0.35005812, -0.41887474],\n",
       "       [ 0.0522063 ,  0.34217146],\n",
       "       [-0.06040917,  0.17128571]])"
      ]
     },
     "execution_count": 37,
     "metadata": {},
     "output_type": "execute_result"
    }
   ],
   "source": [
    "rV2"
   ]
  },
  {
   "cell_type": "code",
   "execution_count": 38,
   "id": "f69008ea",
   "metadata": {},
   "outputs": [
    {
     "data": {
      "text/plain": [
       "MDS(dissimilarity='precomputed', max_iter=3000, n_components=1, n_init=10)"
      ]
     },
     "execution_count": 38,
     "metadata": {},
     "output_type": "execute_result"
    }
   ],
   "source": [
    "md.set_params(n_components = 1)"
   ]
  },
  {
   "cell_type": "code",
   "execution_count": 39,
   "id": "c5602699",
   "metadata": {},
   "outputs": [
    {
     "data": {
      "text/plain": [
       "MDS(dissimilarity='precomputed', max_iter=3000, n_components=1, n_init=10)"
      ]
     },
     "execution_count": 39,
     "metadata": {},
     "output_type": "execute_result"
    }
   ],
   "source": [
    "md.fit(d)"
   ]
  },
  {
   "cell_type": "code",
   "execution_count": 40,
   "id": "fffb97d1",
   "metadata": {},
   "outputs": [],
   "source": [
    "# 再構成された1次元点配置\n",
    "rV1 = md.embedding_"
   ]
  },
  {
   "cell_type": "code",
   "execution_count": 41,
   "id": "87e52008",
   "metadata": {},
   "outputs": [
    {
     "data": {
      "text/plain": [
       "array([[-0.22560151],\n",
       "       [-0.13339723],\n",
       "       [-0.56723701],\n",
       "       [-0.41103512],\n",
       "       [ 0.17666437],\n",
       "       [ 0.59418612],\n",
       "       [-0.10510304],\n",
       "       [ 0.32622278],\n",
       "       [ 0.34427908],\n",
       "       [ 0.00102157]])"
      ]
     },
     "execution_count": 41,
     "metadata": {},
     "output_type": "execute_result"
    }
   ],
   "source": [
    "rV1"
   ]
  },
  {
   "cell_type": "code",
   "execution_count": 42,
   "id": "f3043bfc",
   "metadata": {},
   "outputs": [
    {
     "data": {
      "image/png": "[encoded data removed]",
      "text/plain": [
       "<Figure size 432x288 with 1 Axes>"
      ]
     },
     "metadata": {
      "needs_background": "light"
     },
     "output_type": "display_data"
    }
   ],
   "source": [
    "# 元データのプロット\n",
    "plt.scatter(V[:, 0], V[:, 1], marker='.');\n",
    "for i, (x, y) in enumerate(zip(V[:, 0], V[:, 1])):\n",
    "    plt.annotate(str(i), (x, y), fontsize=20) # 点番号も表示\n",
    "plt.show()"
   ]
  },
  {
   "cell_type": "code",
   "execution_count": 43,
   "id": "5c6b8f13",
   "metadata": {},
   "outputs": [
    {
     "data": {
      "image/png": "[encoded data removed]",
      "text/plain": [
       "<Figure size 432x288 with 1 Axes>"
      ]
     },
     "metadata": {
      "needs_background": "light"
     },
     "output_type": "display_data"
    }
   ],
   "source": [
    "# 計量的MDSで再構成した点のプロット\n",
    "plt.scatter(rV2[:, 0], rV2[:, 1], marker='.');\n",
    "for i , (x, y) in enumerate(zip(rV2[:, 0], rV2[:, 1])):\n",
    "    plt.annotate(str(i), (x, y), fontsize=20)\n",
    "plt.show()"
   ]
  },
  {
   "cell_type": "code",
   "execution_count": 44,
   "id": "d3ed6caf",
   "metadata": {},
   "outputs": [
    {
     "name": "stdout",
     "output_type": "stream",
     "text": [
      "Help on function annotate in module matplotlib.pyplot:\n",
      "\n",
      "annotate(text, xy, *args, **kwargs)\n",
      "    Annotate the point *xy* with text *text*.\n",
      "    \n",
      "    In the simplest form, the text is placed at *xy*.\n",
      "    \n",
      "    Optionally, the text can be displayed in another position *xytext*.\n",
      "    An arrow pointing from the text to the annotated point *xy* can then\n",
      "    be added by defining *arrowprops*.\n",
      "    \n",
      "    Parameters\n",
      "    ----------\n",
      "    text : str\n",
      "        The text of the annotation.\n",
      "    \n",
      "    xy : (float, float)\n",
      "        The point *(x, y)* to annotate. The coordinate system is determined\n",
      "        by *xycoords*.\n",
      "    \n",
      "    xytext : (float, float), default: *xy*\n",
      "        The position *(x, y)* to place the text at. The coordinate system\n",
      "        is determined by *textcoords*.\n",
      "    \n",
      "    xycoords : str or `.Artist` or `.Transform` or callable or (float, float), default: 'data'\n",
      "    \n",
      "        The coordinate system that *xy* is given in. The following types\n",
      "        of values are supported:\n",
      "    \n",
      "        - One of the following strings:\n",
      "    \n",
      "          ==================== ============================================\n",
      "          Value                Description\n",
      "          ==================== ============================================\n",
      "          'figure points'      Points from the lower left of the figure\n",
      "          'figure pixels'      Pixels from the lower left of the figure\n",
      "          'figure fraction'    Fraction of figure from lower left\n",
      "          'subfigure points'   Points from the lower left of the subfigure\n",
      "          'subfigure pixels'   Pixels from the lower left of the subfigure\n",
      "          'subfigure fraction' Fraction of subfigure from lower left\n",
      "          'axes points'        Points from lower left corner of axes\n",
      "          'axes pixels'        Pixels from lower left corner of axes\n",
      "          'axes fraction'      Fraction of axes from lower left\n",
      "          'data'               Use the coordinate system of the object\n",
      "                               being annotated (default)\n",
      "          'polar'              *(theta, r)* if not native 'data'\n",
      "                               coordinates\n",
      "          ==================== ============================================\n",
      "    \n",
      "          Note that 'subfigure pixels' and 'figure pixels' are the same\n",
      "          for the parent figure, so users who want code that is usable in\n",
      "          a subfigure can use 'subfigure pixels'.\n",
      "    \n",
      "        - An `.Artist`: *xy* is interpreted as a fraction of the artist's\n",
      "          `~matplotlib.transforms.Bbox`. E.g. *(0, 0)* would be the lower\n",
      "          left corner of the bounding box and *(0.5, 1)* would be the\n",
      "          center top of the bounding box.\n",
      "    \n",
      "        - A `.Transform` to transform *xy* to screen coordinates.\n",
      "    \n",
      "        - A function with one of the following signatures::\n",
      "    \n",
      "            def transform(renderer) -> Bbox\n",
      "            def transform(renderer) -> Transform\n",
      "    \n",
      "          where *renderer* is a `.RendererBase` subclass.\n",
      "    \n",
      "          The result of the function is interpreted like the `.Artist` and\n",
      "          `.Transform` cases above.\n",
      "    \n",
      "        - A tuple *(xcoords, ycoords)* specifying separate coordinate\n",
      "          systems for *x* and *y*. *xcoords* and *ycoords* must each be\n",
      "          of one of the above described types.\n",
      "    \n",
      "        See :ref:`plotting-guide-annotation` for more details.\n",
      "    \n",
      "    textcoords : str or `.Artist` or `.Transform` or callable or (float, float), default: value of *xycoords*\n",
      "        The coordinate system that *xytext* is given in.\n",
      "    \n",
      "        All *xycoords* values are valid as well as the following\n",
      "        strings:\n",
      "    \n",
      "        =================   =========================================\n",
      "        Value               Description\n",
      "        =================   =========================================\n",
      "        'offset points'     Offset (in points) from the *xy* value\n",
      "        'offset pixels'     Offset (in pixels) from the *xy* value\n",
      "        =================   =========================================\n",
      "    \n",
      "    arrowprops : dict, optional\n",
      "        The properties used to draw a `.FancyArrowPatch` arrow between the\n",
      "        positions *xy* and *xytext*. Note that the edge of the arrow\n",
      "        pointing to *xytext* will be centered on the text itself and may\n",
      "        not point directly to the coordinates given in *xytext*.\n",
      "    \n",
      "        If *arrowprops* does not contain the key 'arrowstyle' the\n",
      "        allowed keys are:\n",
      "    \n",
      "        ==========   ======================================================\n",
      "        Key          Description\n",
      "        ==========   ======================================================\n",
      "        width        The width of the arrow in points\n",
      "        headwidth    The width of the base of the arrow head in points\n",
      "        headlength   The length of the arrow head in points\n",
      "        shrink       Fraction of total length to shrink from both ends\n",
      "        ?            Any key to :class:`matplotlib.patches.FancyArrowPatch`\n",
      "        ==========   ======================================================\n",
      "    \n",
      "        If *arrowprops* contains the key 'arrowstyle' the\n",
      "        above keys are forbidden.  The allowed values of\n",
      "        ``'arrowstyle'`` are:\n",
      "    \n",
      "        ============   =============================================\n",
      "        Name           Attrs\n",
      "        ============   =============================================\n",
      "        ``'-'``        None\n",
      "        ``'->'``       head_length=0.4,head_width=0.2\n",
      "        ``'-['``       widthB=1.0,lengthB=0.2,angleB=None\n",
      "        ``'|-|'``      widthA=1.0,widthB=1.0\n",
      "        ``'-|>'``      head_length=0.4,head_width=0.2\n",
      "        ``'<-'``       head_length=0.4,head_width=0.2\n",
      "        ``'<->'``      head_length=0.4,head_width=0.2\n",
      "        ``'<|-'``      head_length=0.4,head_width=0.2\n",
      "        ``'<|-|>'``    head_length=0.4,head_width=0.2\n",
      "        ``'fancy'``    head_length=0.4,head_width=0.4,tail_width=0.4\n",
      "        ``'simple'``   head_length=0.5,head_width=0.5,tail_width=0.2\n",
      "        ``'wedge'``    tail_width=0.3,shrink_factor=0.5\n",
      "        ============   =============================================\n",
      "    \n",
      "        Valid keys for `~matplotlib.patches.FancyArrowPatch` are:\n",
      "    \n",
      "        ===============  ==================================================\n",
      "        Key              Description\n",
      "        ===============  ==================================================\n",
      "        arrowstyle       the arrow style\n",
      "        connectionstyle  the connection style\n",
      "        relpos           default is (0.5, 0.5)\n",
      "        patchA           default is bounding box of the text\n",
      "        patchB           default is None\n",
      "        shrinkA          default is 2 points\n",
      "        shrinkB          default is 2 points\n",
      "        mutation_scale   default is text size (in points)\n",
      "        mutation_aspect  default is 1.\n",
      "        ?                any key for :class:`matplotlib.patches.PathPatch`\n",
      "        ===============  ==================================================\n",
      "    \n",
      "        Defaults to None, i.e. no arrow is drawn.\n",
      "    \n",
      "    annotation_clip : bool or None, default: None\n",
      "        Whether to draw the annotation when the annotation point *xy* is\n",
      "        outside the axes area.\n",
      "    \n",
      "        - If *True*, the annotation will only be drawn when *xy* is\n",
      "          within the axes.\n",
      "        - If *False*, the annotation will always be drawn.\n",
      "        - If *None*, the annotation will only be drawn when *xy* is\n",
      "          within the axes and *xycoords* is 'data'.\n",
      "    \n",
      "    **kwargs\n",
      "        Additional kwargs are passed to `~matplotlib.text.Text`.\n",
      "    \n",
      "    Returns\n",
      "    -------\n",
      "    `.Annotation`\n",
      "    \n",
      "    See Also\n",
      "    --------\n",
      "    :ref:`plotting-guide-annotation`\n",
      "\n"
     ]
    }
   ],
   "source": [
    "# annotateメソッドの使い方\n",
    "help(plt.annotate)"
   ]
  },
  {
   "cell_type": "code",
   "execution_count": 45,
   "id": "d470bb3e",
   "metadata": {},
   "outputs": [],
   "source": [
    "from sklearn.manifold import MDS"
   ]
  },
  {
   "cell_type": "code",
   "execution_count": 52,
   "id": "75262bbd",
   "metadata": {},
   "outputs": [
    {
     "data": {
      "text/plain": [
       "(15, 16)"
      ]
     },
     "execution_count": 52,
     "metadata": {},
     "output_type": "execute_result"
    }
   ],
   "source": [
    "data = pd.read_csv('data/voting.csv').values\n",
    "data.shape"
   ]
  },
  {
   "cell_type": "code",
   "execution_count": 55,
   "id": "5ef39a32",
   "metadata": {},
   "outputs": [],
   "source": [
    "# S: 非類似度行列(投票行動), pidx: 所属する党(0/1)\n",
    "S = data[:, :15]\n",
    "pidx = data[:, 15]"
   ]
  },
  {
   "cell_type": "code",
   "execution_count": 56,
   "id": "e33fa815",
   "metadata": {},
   "outputs": [],
   "source": [
    "# 所属する党を区別するマーク\n",
    "col = ['red', 'blue']\n",
    "mk = ['x', 'o']"
   ]
  },
  {
   "cell_type": "code",
   "execution_count": 58,
   "id": "ff2f03d3",
   "metadata": {},
   "outputs": [
    {
     "data": {
      "text/plain": [
       "(15, 15)"
      ]
     },
     "execution_count": 58,
     "metadata": {},
     "output_type": "execute_result"
    }
   ],
   "source": [
    "S.shape"
   ]
  },
  {
   "cell_type": "code",
   "execution_count": 63,
   "id": "be12e232",
   "metadata": {},
   "outputs": [],
   "source": [
    "# 非計量的MDS\n",
    "nmd = MDS(n_components=2, metric=False, dissimilarity='precomputed',\n",
    "         n_init=100, max_iter=3000)"
   ]
  },
  {
   "cell_type": "code",
   "execution_count": 64,
   "id": "f88ad947",
   "metadata": {},
   "outputs": [
    {
     "data": {
      "text/plain": [
       "MDS(dissimilarity='precomputed', max_iter=3000, metric=False, n_init=100)"
      ]
     },
     "execution_count": 64,
     "metadata": {},
     "output_type": "execute_result"
    }
   ],
   "source": [
    "# フィッティング\n",
    "nmd.fit(S)"
   ]
  },
  {
   "cell_type": "code",
   "execution_count": 65,
   "id": "29b97273",
   "metadata": {},
   "outputs": [],
   "source": [
    "# nmd.embedding_は再構成された2次元点配置\n",
    "px = nmd.embedding_[:, 0]\n",
    "py = nmd.embedding_[:, 1]"
   ]
  },
  {
   "cell_type": "code",
   "execution_count": 66,
   "id": "7e69321d",
   "metadata": {},
   "outputs": [
    {
     "data": {
      "image/png": "[encoded data removed]",
      "text/plain": [
       "<Figure size 432x288 with 1 Axes>"
      ]
     },
     "metadata": {
      "needs_background": "light"
     },
     "output_type": "display_data"
    }
   ],
   "source": [
    "for i in [0, 1]:\n",
    "    plt.scatter(px[pidx == i], py[pidx == i], c = col[i],\n",
    "               marker = mk[i], s = 100)\n",
    "\n",
    "for i , (x, y) in enumerate(zip(px, py)):\n",
    "    plt.annotate(str(i), (x, y), fontsize = 20)\n",
    "plt.show()"
   ]
  },
  {
   "cell_type": "code",
   "execution_count": 67,
   "id": "ab7364d4",
   "metadata": {},
   "outputs": [
    {
     "data": {
      "text/plain": [
       "MDS(dissimilarity='precomputed', max_iter=3000, n_init=100)"
      ]
     },
     "execution_count": 67,
     "metadata": {},
     "output_type": "execute_result"
    }
   ],
   "source": [
    "# 計量的MDS\n",
    "nmd.set_params(metric = True)\n"
   ]
  },
  {
   "cell_type": "code",
   "execution_count": 68,
   "id": "16a3fb48",
   "metadata": {},
   "outputs": [
    {
     "data": {
      "text/plain": [
       "MDS(dissimilarity='precomputed', max_iter=3000, n_init=100)"
      ]
     },
     "execution_count": 68,
     "metadata": {},
     "output_type": "execute_result"
    }
   ],
   "source": [
    "nmd.fit(S)"
   ]
  },
  {
   "cell_type": "code",
   "execution_count": 69,
   "id": "219fcbb0",
   "metadata": {},
   "outputs": [],
   "source": [
    "# nmd.embedding_は再構成された2次元点配置\n",
    "px = nmd.embedding_[:, 0]\n",
    "py = nmd.embedding_[:, 1]"
   ]
  },
  {
   "cell_type": "code",
   "execution_count": 70,
   "id": "4fa7f7a3",
   "metadata": {},
   "outputs": [
    {
     "data": {
      "image/png": "[encoded data removed]",
      "text/plain": [
       "<Figure size 432x288 with 1 Axes>"
      ]
     },
     "metadata": {
      "needs_background": "light"
     },
     "output_type": "display_data"
    }
   ],
   "source": [
    "for i in [0, 1]:\n",
    "    plt.scatter(px[pidx == i], py[pidx == i], c = col[i],\n",
    "               marker = mk[i], s = 100)\n",
    "\n",
    "for i , (x, y) in enumerate(zip(px, py)):\n",
    "    plt.annotate(str(i), (x, y), fontsize = 20)\n",
    "plt.show()"
   ]
  },
  {
   "cell_type": "code",
   "execution_count": null,
   "id": "d7240839",
   "metadata": {},
   "outputs": [],
   "source": []
  }
 ],
 "metadata": {
  "kernelspec": {
   "display_name": "Python 3",
   "language": "python",
   "name": "python3"
  },
  "language_info": {
   "codemirror_mode": {
    "name": "ipython",
    "version": 3
   },
   "file_extension": ".py",
   "mimetype": "text/x-python",
   "name": "python",
   "nbconvert_exporter": "python",
   "pygments_lexer": "ipython3",
   "version": "3.8.5"
  }
 },
 "nbformat": 4,
 "nbformat_minor": 5
}
