{
 "cells": [
  {
   "cell_type": "code",
   "execution_count": 4,
   "id": "37d2c895",
   "metadata": {},
   "outputs": [
    {
     "name": "stderr",
     "output_type": "stream",
     "text": [
      "/Users/akito_harada/Documents/python/stats/ml/venv/lib/python3.8/site-packages/pandas/compat/__init__.py:97: UserWarning: Could not import the lzma module. Your installed Python is incomplete. Attempting to use lzma compression will result in a RuntimeError.\n",
      "  warnings.warn(msg)\n"
     ]
    }
   ],
   "source": [
    "import numpy as np\n",
    "import pandas as pd\n",
    "import matplotlib.pyplot as plt\n",
    "import scipy as sp\n",
    "from sklearn import cluster, datasets\n",
    "from sklearn.preprocessing import scale\n",
    "from sklearn.decomposition import PCA"
   ]
  },
  {
   "cell_type": "code",
   "execution_count": 5,
   "id": "e7e16213",
   "metadata": {},
   "outputs": [
    {
     "data": {
      "text/plain": [
       "array([[1.423e+01, 1.710e+00, 2.430e+00, ..., 1.040e+00, 3.920e+00,\n",
       "        1.065e+03],\n",
       "       [1.320e+01, 1.780e+00, 2.140e+00, ..., 1.050e+00, 3.400e+00,\n",
       "        1.050e+03],\n",
       "       [1.316e+01, 2.360e+00, 2.670e+00, ..., 1.030e+00, 3.170e+00,\n",
       "        1.185e+03],\n",
       "       ...,\n",
       "       [1.327e+01, 4.280e+00, 2.260e+00, ..., 5.900e-01, 1.560e+00,\n",
       "        8.350e+02],\n",
       "       [1.317e+01, 2.590e+00, 2.370e+00, ..., 6.000e-01, 1.620e+00,\n",
       "        8.400e+02],\n",
       "       [1.413e+01, 4.100e+00, 2.740e+00, ..., 6.100e-01, 1.600e+00,\n",
       "        5.600e+02]])"
      ]
     },
     "execution_count": 5,
     "metadata": {},
     "output_type": "execute_result"
    }
   ],
   "source": [
    "d = datasets.load_wine()\n",
    "d.data"
   ]
  },
  {
   "cell_type": "code",
   "execution_count": 6,
   "id": "0097aee2",
   "metadata": {},
   "outputs": [
    {
     "data": {
      "text/plain": [
       "array(['class_0', 'class_1', 'class_2'], dtype='<U7')"
      ]
     },
     "execution_count": 6,
     "metadata": {},
     "output_type": "execute_result"
    }
   ],
   "source": [
    "d.target_names"
   ]
  },
  {
   "cell_type": "code",
   "execution_count": 7,
   "id": "b2d251ef",
   "metadata": {},
   "outputs": [
    {
     "data": {
      "text/plain": [
       "['alcohol',\n",
       " 'malic_acid',\n",
       " 'ash',\n",
       " 'alcalinity_of_ash',\n",
       " 'magnesium',\n",
       " 'total_phenols',\n",
       " 'flavanoids',\n",
       " 'nonflavanoid_phenols',\n",
       " 'proanthocyanins',\n",
       " 'color_intensity',\n",
       " 'hue',\n",
       " 'od280/od315_of_diluted_wines',\n",
       " 'proline']"
      ]
     },
     "execution_count": 7,
     "metadata": {},
     "output_type": "execute_result"
    }
   ],
   "source": [
    "d.feature_names"
   ]
  },
  {
   "cell_type": "code",
   "execution_count": 8,
   "id": "93d77ec0",
   "metadata": {},
   "outputs": [
    {
     "data": {
      "text/plain": [
       "(178, 13)"
      ]
     },
     "execution_count": 8,
     "metadata": {},
     "output_type": "execute_result"
    }
   ],
   "source": [
    "d.data.shape"
   ]
  },
  {
   "cell_type": "code",
   "execution_count": 9,
   "id": "2ee8442e",
   "metadata": {},
   "outputs": [
    {
     "data": {
      "text/plain": [
       "array([[ 1.51861254, -0.5622498 ,  0.23205254, ...,  0.36217728,\n",
       "         1.84791957,  1.01300893],\n",
       "       [ 0.24628963, -0.49941338, -0.82799632, ...,  0.40605066,\n",
       "         1.1134493 ,  0.96524152],\n",
       "       [ 0.19687903,  0.02123125,  1.10933436, ...,  0.31830389,\n",
       "         0.78858745,  1.39514818],\n",
       "       ...,\n",
       "       [ 0.33275817,  1.74474449, -0.38935541, ..., -1.61212515,\n",
       "        -1.48544548,  0.28057537],\n",
       "       [ 0.20923168,  0.22769377,  0.01273209, ..., -1.56825176,\n",
       "        -1.40069891,  0.29649784],\n",
       "       [ 1.39508604,  1.58316512,  1.36520822, ..., -1.52437837,\n",
       "        -1.42894777, -0.59516041]])"
      ]
     },
     "execution_count": 9,
     "metadata": {},
     "output_type": "execute_result"
    }
   ],
   "source": [
    "xs = scale(d.data)\n",
    "xs"
   ]
  },
  {
   "cell_type": "code",
   "execution_count": 10,
   "id": "b666a2fd",
   "metadata": {},
   "outputs": [],
   "source": [
    "# k = 3でK平均法を実行: 10種類の初期値を試す\n",
    "km = cluster.KMeans(n_clusters=3, n_init=10)"
   ]
  },
  {
   "cell_type": "code",
   "execution_count": 11,
   "id": "928dd56f",
   "metadata": {},
   "outputs": [
    {
     "data": {
      "text/plain": [
       "KMeans(n_clusters=3)"
      ]
     },
     "execution_count": 11,
     "metadata": {},
     "output_type": "execute_result"
    }
   ],
   "source": [
    "km.fit(xs)\n"
   ]
  },
  {
   "cell_type": "code",
   "execution_count": 12,
   "id": "ce24e04a",
   "metadata": {},
   "outputs": [],
   "source": [
    "cl = km.labels_"
   ]
  },
  {
   "cell_type": "code",
   "execution_count": 13,
   "id": "a1d7b021",
   "metadata": {},
   "outputs": [],
   "source": [
    "# データを主成分分析により、2次元に射影し、品種による分類とk平均法による分類でそれぞれをプロットする\n",
    "pc = PCA(n_components=2)\n",
    "pc.fit(xs)\n",
    "pxs = pc.transform(xs) # 主成分スコア"
   ]
  },
  {
   "cell_type": "code",
   "execution_count": 14,
   "id": "c00cb36e",
   "metadata": {},
   "outputs": [
    {
     "data": {
      "image/png": "[encoded data removed]",
      "text/plain": [
       "<Figure size 432x288 with 1 Axes>"
      ]
     },
     "metadata": {
      "needs_background": "light"
     },
     "output_type": "display_data"
    }
   ],
   "source": [
    "# 品種による分類でプロット\n",
    "mk = ['.', '+', 'v']\n",
    "for i in np.arange(3):\n",
    "    idx = (d.target == i)\n",
    "    plt.scatter(pxs[idx, 0], pxs[idx, 1], marker = mk[i])\n",
    "plt.show();"
   ]
  },
  {
   "cell_type": "code",
   "execution_count": 15,
   "id": "fe06cf40",
   "metadata": {},
   "outputs": [
    {
     "data": {
      "image/png": "[encoded data removed]",
      "text/plain": [
       "<Figure size 432x288 with 1 Axes>"
      ]
     },
     "metadata": {
      "needs_background": "light"
     },
     "output_type": "display_data"
    }
   ],
   "source": [
    "# k平均法による分類をプロット\n",
    "for i in np.arange(3):\n",
    "    idx = (cl == i)\n",
    "    plt.scatter(pxs[idx, 0], pxs[idx, 1], marker = mk[i])\n",
    "plt.show();"
   ]
  },
  {
   "cell_type": "code",
   "execution_count": 16,
   "id": "bf03615f",
   "metadata": {},
   "outputs": [],
   "source": [
    "# このデータでは、化学的分析の結果は品種の違いをよく反映していると言える"
   ]
  },
  {
   "cell_type": "code",
   "execution_count": 17,
   "id": "d29bac41",
   "metadata": {},
   "outputs": [
    {
     "data": {
      "text/plain": [
       "(150, 4)"
      ]
     },
     "execution_count": 17,
     "metadata": {},
     "output_type": "execute_result"
    }
   ],
   "source": [
    "d = datasets.load_iris()\n",
    "d.data.shape"
   ]
  },
  {
   "cell_type": "code",
   "execution_count": 18,
   "id": "27c7b668",
   "metadata": {},
   "outputs": [
    {
     "data": {
      "text/plain": [
       "['sepal length (cm)',\n",
       " 'sepal width (cm)',\n",
       " 'petal length (cm)',\n",
       " 'petal width (cm)']"
      ]
     },
     "execution_count": 18,
     "metadata": {},
     "output_type": "execute_result"
    }
   ],
   "source": [
    "d.feature_names"
   ]
  },
  {
   "cell_type": "code",
   "execution_count": 19,
   "id": "75873fed",
   "metadata": {},
   "outputs": [
    {
     "data": {
      "text/plain": [
       "array(['setosa', 'versicolor', 'virginica'], dtype='<U10')"
      ]
     },
     "execution_count": 19,
     "metadata": {},
     "output_type": "execute_result"
    }
   ],
   "source": [
    "d.target_names"
   ]
  },
  {
   "cell_type": "code",
   "execution_count": 20,
   "id": "f0973db7",
   "metadata": {},
   "outputs": [],
   "source": [
    "xs = scale(d.data)"
   ]
  },
  {
   "cell_type": "code",
   "execution_count": 21,
   "id": "91041d78",
   "metadata": {},
   "outputs": [],
   "source": [
    "km = cluster.KMeans(n_clusters=3, n_init=10)\n",
    "km.fit(xs)\n",
    "kmx = km.labels_"
   ]
  },
  {
   "cell_type": "code",
   "execution_count": 22,
   "id": "46e22189",
   "metadata": {},
   "outputs": [],
   "source": [
    "pc = PCA(n_components=2)\n",
    "pc.fit(xs)\n",
    "pcx = pc.transform(xs)"
   ]
  },
  {
   "cell_type": "code",
   "execution_count": 23,
   "id": "74605aa0",
   "metadata": {},
   "outputs": [],
   "source": [
    "mk = ['.', '+', 'v']"
   ]
  },
  {
   "cell_type": "code",
   "execution_count": 24,
   "id": "f4dc4a11",
   "metadata": {},
   "outputs": [
    {
     "data": {
      "image/png": "[encoded data removed]",
      "text/plain": [
       "<Figure size 432x288 with 1 Axes>"
      ]
     },
     "metadata": {
      "needs_background": "light"
     },
     "output_type": "display_data"
    }
   ],
   "source": [
    "for i in np.arange(3):\n",
    "    idx = (kmx == i)\n",
    "    plt.scatter(pcx[idx, 0], pcx[idx, 1], marker=mk[i])\n",
    "plt.show();"
   ]
  },
  {
   "cell_type": "code",
   "execution_count": 25,
   "id": "f8e799d2",
   "metadata": {},
   "outputs": [
    {
     "data": {
      "image/png": "[encoded data removed]",
      "text/plain": [
       "<Figure size 432x288 with 1 Axes>"
      ]
     },
     "metadata": {
      "needs_background": "light"
     },
     "output_type": "display_data"
    }
   ],
   "source": [
    "for i in np.arange(3):\n",
    "    idx = (d.target == i)\n",
    "    plt.scatter(pcx[idx, 0], pcx[idx, 1], marker=mk[i])\n",
    "plt.show();"
   ]
  },
  {
   "cell_type": "code",
   "execution_count": 26,
   "id": "436f29f8",
   "metadata": {},
   "outputs": [],
   "source": [
    "# スペクトラルクラスタリング\n",
    "# グラフラプラシアンについて(https://qiita.com/silva0215/items/0d1d25ef51b6865a6e15)\n",
    "from common import mlbench as ml"
   ]
  },
  {
   "cell_type": "code",
   "execution_count": 34,
   "id": "c78b0b36",
   "metadata": {},
   "outputs": [
    {
     "data": {
      "image/png": "[encoded data removed]",
      "text/plain": [
       "<Figure size 432x288 with 1 Axes>"
      ]
     },
     "metadata": {
      "needs_background": "light"
     },
     "output_type": "display_data"
    },
    {
     "name": "stdout",
     "output_type": "stream",
     "text": [
      "(300, 2) (300,)\n"
     ]
    }
   ],
   "source": [
    "x, y = ml.spirals(300, cycles=1, sd = 0.05)\n",
    "plt.scatter(x[:, 0], x[:, 1], s= 10)\n",
    "plt.show();\n",
    "print(x.shape, y.shape)"
   ]
  },
  {
   "cell_type": "code",
   "execution_count": 45,
   "id": "76f631ff",
   "metadata": {},
   "outputs": [],
   "source": [
    "# スペクトラルクラスタリングを適用\n",
    "sc = cluster.SpectralClustering(n_clusters=2, gamma=300, n_init=100)"
   ]
  },
  {
   "cell_type": "code",
   "execution_count": 49,
   "id": "710aa2e3",
   "metadata": {},
   "outputs": [],
   "source": [
    "sc.fit(x)\n",
    "cl = sc.labels_"
   ]
  },
  {
   "cell_type": "code",
   "execution_count": 47,
   "id": "07ed130b",
   "metadata": {},
   "outputs": [
    {
     "data": {
      "image/png": "[encoded data removed]",
      "text/plain": [
       "<Figure size 432x288 with 1 Axes>"
      ]
     },
     "metadata": {
      "needs_background": "light"
     },
     "output_type": "display_data"
    }
   ],
   "source": [
    "# プロット\n",
    "plt.scatter(x[cl == 0, 0], x[cl == 0, 1], marker='.')\n",
    "plt.scatter(x[cl == 1, 0], x[cl == 1, 1], marker='+')\n",
    "plt.show();"
   ]
  },
  {
   "cell_type": "code",
   "execution_count": 50,
   "id": "42ca9b64",
   "metadata": {},
   "outputs": [],
   "source": [
    "# スペクトラルクラスタリングで使われている局所性保存射影\n",
    "# 局所性保存射影と多次元尺度構成法"
   ]
  },
  {
   "cell_type": "code",
   "execution_count": 51,
   "id": "c9d8b7a6",
   "metadata": {},
   "outputs": [],
   "source": [
    "from sklearn.manifold import MDS"
   ]
  },
  {
   "cell_type": "code",
   "execution_count": 83,
   "id": "d38e1c8c",
   "metadata": {},
   "outputs": [
    {
     "data": {
      "text/plain": [
       "(15, 16)"
      ]
     },
     "execution_count": 83,
     "metadata": {},
     "output_type": "execute_result"
    }
   ],
   "source": [
    "data = pd.read_csv('data/voting.csv').values\n",
    "data.shape"
   ]
  },
  {
   "cell_type": "code",
   "execution_count": 84,
   "id": "52466401",
   "metadata": {},
   "outputs": [],
   "source": [
    "S, pidx = data[:, :15], data[:, 15] # 類似度\n",
    "mk = ['x', '.']; col = ['red', 'blue'] # プロット設定"
   ]
  },
  {
   "cell_type": "code",
   "execution_count": 85,
   "id": "9efe0ec2",
   "metadata": {},
   "outputs": [
    {
     "data": {
      "text/plain": [
       "(15, 15)"
      ]
     },
     "execution_count": 85,
     "metadata": {},
     "output_type": "execute_result"
    }
   ],
   "source": [
    "# 局所性保存射影\n",
    "W = np.exp(-S/np.median(S)) # 重みに変換(15次行列)\n",
    "W.shape"
   ]
  },
  {
   "cell_type": "code",
   "execution_count": 86,
   "id": "7971a985",
   "metadata": {},
   "outputs": [],
   "source": [
    "# np.diag()の引数にnumpy.ndarrayを指定すると、対角成分が一次元配列として返される。\n",
    "# また、引数に一次元配列を指定するとその配列を対角成分とした対角行列が生成される。\n",
    "L = np.diag(np.sum(W, 1)) - W  # グラフラプラシアン\n",
    "# np.sum(W, 1)は1次元配列なので、その成分を対角成分とした対角行列が生成される\n",
    "# np.diag(np.sum(W, 1))"
   ]
  },
  {
   "cell_type": "code",
   "execution_count": 87,
   "id": "aeec8160",
   "metadata": {},
   "outputs": [
    {
     "name": "stdout",
     "output_type": "stream",
     "text": [
      "[1.24344979e-14 3.66735929e+00 4.15734063e+00 4.74609740e+00\n",
      " 4.77970838e+00 5.13447404e+00 5.55919195e+00 5.86241286e+00\n",
      " 6.35465321e+00 6.58271992e+00 6.74605869e+00 7.01357029e+00\n",
      " 7.59588894e+00 7.99459004e+00 8.24128491e+00] [1.24344979e-14 3.66735929e+00 4.15734063e+00 4.74609740e+00\n",
      " 4.77970838e+00 5.13447404e+00 5.55919195e+00 5.86241286e+00\n",
      " 6.35465321e+00 6.58271992e+00 6.74605869e+00 7.01357029e+00\n",
      " 7.59588894e+00 7.99459004e+00 8.24128491e+00]\n"
     ]
    }
   ],
   "source": [
    "# 固有値、固有ベクトルの計算\n",
    "# 小さい順にソートされた固有値が出力される\n",
    "la, l = sp.linalg.eigh(L)\n",
    "print(np.sort(la), la)\n",
    "# 小さい固有値に対応する固有ベクトル\n",
    "px = l[:, 1]; py = l[:, 2]"
   ]
  },
  {
   "cell_type": "code",
   "execution_count": 78,
   "id": "c917d01d",
   "metadata": {},
   "outputs": [
    {
     "data": {
      "image/png": "[encoded data removed]",
      "text/plain": [
       "<Figure size 432x288 with 1 Axes>"
      ]
     },
     "metadata": {
      "needs_background": "light"
     },
     "output_type": "display_data"
    }
   ],
   "source": [
    "# 局所性保存射影の結果をプロット\n",
    "for i in [0, 1]:\n",
    "    plt.scatter(px[pidx == i], py[pidx == i], c = col[i], marker=mk[i], s = 100)\n",
    "\n",
    "for i, (x, y) in enumerate(zip(px, py)):\n",
    "    plt.annotate(str(i), (x, y), fontsize = 20)\n",
    "plt.show();"
   ]
  },
  {
   "cell_type": "code",
   "execution_count": 88,
   "id": "ce231a45",
   "metadata": {},
   "outputs": [],
   "source": [
    "# ここまではデータの分布に特別な過程をおかずにデータをクラスタリングする方法を行なってきた"
   ]
  },
  {
   "cell_type": "code",
   "execution_count": 89,
   "id": "de442340",
   "metadata": {},
   "outputs": [],
   "source": [
    "# 次はデータがある確率分布に従うと仮定し、その知識を用いてクラスタリングを行う手法"
   ]
  },
  {
   "cell_type": "code",
   "execution_count": 90,
   "id": "a4eb9bc5",
   "metadata": {},
   "outputs": [],
   "source": [
    "# 混合正規分布によるクラスタリング\n",
    "from sklearn.mixture import GaussianMixture"
   ]
  },
  {
   "cell_type": "code",
   "execution_count": 92,
   "id": "3e0b664b",
   "metadata": {},
   "outputs": [
    {
     "data": {
      "text/plain": [
       "(178, 13)"
      ]
     },
     "execution_count": 92,
     "metadata": {},
     "output_type": "execute_result"
    }
   ],
   "source": [
    "d = datasets.load_wine()\n",
    "d.data.shape"
   ]
  },
  {
   "cell_type": "code",
   "execution_count": 93,
   "id": "950e1113",
   "metadata": {},
   "outputs": [
    {
     "data": {
      "text/plain": [
       "(178,)"
      ]
     },
     "execution_count": 93,
     "metadata": {},
     "output_type": "execute_result"
    }
   ],
   "source": [
    "x, y = d.data, d.target\n",
    "y.shape"
   ]
  },
  {
   "cell_type": "code",
   "execution_count": 94,
   "id": "e9949ef4",
   "metadata": {},
   "outputs": [],
   "source": [
    "ncl = 3 # コンポーネント数3の混合正規分布(コンポーネントとは混合正規分布に含まれる1つ1つの正規分布のこと)"
   ]
  },
  {
   "cell_type": "code",
   "execution_count": 95,
   "id": "edfc5d34",
   "metadata": {},
   "outputs": [],
   "source": [
    "mg = GaussianMixture(ncl).fit(x)\n",
    "cl = mg.predict(x)"
   ]
  },
  {
   "cell_type": "code",
   "execution_count": 98,
   "id": "67f748c4",
   "metadata": {},
   "outputs": [],
   "source": [
    "pc = PCA(n_components=2)\n",
    "pc.fit(x)\n",
    "px = pc.transform(x) # 主成分スコア"
   ]
  },
  {
   "cell_type": "code",
   "execution_count": 99,
   "id": "923c06f1",
   "metadata": {},
   "outputs": [],
   "source": [
    "mk = ['.', '+', 'v'] # クラスタリングの結果をプロット"
   ]
  },
  {
   "cell_type": "code",
   "execution_count": 101,
   "id": "9c12de14",
   "metadata": {},
   "outputs": [
    {
     "data": {
      "image/png": "[encoded data removed]",
      "text/plain": [
       "<Figure size 432x288 with 1 Axes>"
      ]
     },
     "metadata": {
      "needs_background": "light"
     },
     "output_type": "display_data"
    }
   ],
   "source": [
    "for i in np.arange(ncl):\n",
    "    j = (cl == i)\n",
    "    plt.scatter(px[j, 0], px[j, 1], marker = mk[i])\n",
    "plt.show();"
   ]
  },
  {
   "cell_type": "code",
   "execution_count": 108,
   "id": "cda0553d",
   "metadata": {},
   "outputs": [],
   "source": [
    "# BICを利用してグループ数をデータから自動的に選択する\n",
    "bics = np.array([])\n",
    "nc = np.arange(1, 101) # クラスタ数: 1から100"
   ]
  },
  {
   "cell_type": "code",
   "execution_count": 109,
   "id": "ad88b31d",
   "metadata": {},
   "outputs": [
    {
     "data": {
      "text/plain": [
       "25"
      ]
     },
     "execution_count": 109,
     "metadata": {},
     "output_type": "execute_result"
    }
   ],
   "source": [
    "for k in nc:\n",
    "    bics = np.r_[bics, GaussianMixture(k, n_init=10).fit(x).bic(x)]\n",
    "nc[np.argmin(bics)]"
   ]
  },
  {
   "cell_type": "code",
   "execution_count": 110,
   "id": "30b08ad8",
   "metadata": {},
   "outputs": [
    {
     "name": "stdout",
     "output_type": "stream",
     "text": [
      "(100,)\n"
     ]
    },
    {
     "data": {
      "image/png": "[encoded data removed]",
      "text/plain": [
       "<Figure size 432x288 with 1 Axes>"
      ]
     },
     "metadata": {
      "needs_background": "light"
     },
     "output_type": "display_data"
    }
   ],
   "source": [
    "print(bics.shape)\n",
    "plt.plot(nc, bics) # クラスタ数に対するBICの値をプロット\n",
    "plt.show();"
   ]
  },
  {
   "cell_type": "code",
   "execution_count": null,
   "id": "8db08835",
   "metadata": {},
   "outputs": [],
   "source": []
  }
 ],
 "metadata": {
  "kernelspec": {
   "display_name": "Python 3",
   "language": "python",
   "name": "python3"
  },
  "language_info": {
   "codemirror_mode": {
    "name": "ipython",
    "version": 3
   },
   "file_extension": ".py",
   "mimetype": "text/x-python",
   "name": "python",
   "nbconvert_exporter": "python",
   "pygments_lexer": "ipython3",
   "version": "3.8.5"
  }
 },
 "nbformat": 4,
 "nbformat_minor": 5
}
