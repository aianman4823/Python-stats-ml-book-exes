{
 "cells": [
  {
   "cell_type": "code",
   "execution_count": 1,
   "id": "32dd0926",
   "metadata": {},
   "outputs": [
    {
     "name": "stderr",
     "output_type": "stream",
     "text": [
      "/Users/akito_harada/Documents/python/stats/ml/venv/lib/python3.8/site-packages/pandas/compat/__init__.py:97: UserWarning: Could not import the lzma module. Your installed Python is incomplete. Attempting to use lzma compression will result in a RuntimeError.\n",
      "  warnings.warn(msg)\n"
     ]
    }
   ],
   "source": [
    "import numpy as np\n",
    "import pandas as pd\n",
    "import matplotlib.pyplot as plt"
   ]
  },
  {
   "cell_type": "code",
   "execution_count": 11,
   "id": "6119e570",
   "metadata": {},
   "outputs": [],
   "source": [
    "dat = pd.read_csv('data/morley.csv').values.ravel()"
   ]
  },
  {
   "cell_type": "code",
   "execution_count": 12,
   "id": "ca86c6d0",
   "metadata": {},
   "outputs": [
    {
     "data": {
      "text/plain": [
       "array([299850., 299740., 299900., 300070., 299930., 299850., 299950.,\n",
       "       299980., 299980., 299880., 300000., 299980., 299930., 299650.,\n",
       "       299760., 299810., 300000., 300000., 299960., 299960., 299960.,\n",
       "       299940., 299960., 299940., 299880., 299800., 299850., 299880.,\n",
       "       299900., 299840., 299830., 299790., 299810., 299880., 299880.,\n",
       "       299830., 299800., 299790., 299760., 299800., 299880., 299880.,\n",
       "       299880., 299860., 299720., 299720., 299620., 299860., 299970.,\n",
       "       299950., 299880., 299910., 299850., 299870., 299840., 299840.,\n",
       "       299850., 299840., 299840., 299840., 299890., 299810., 299810.,\n",
       "       299820., 299800., 299770., 299760., 299740., 299750., 299760.,\n",
       "       299910., 299920., 299890., 299860., 299880., 299720., 299840.,\n",
       "       299850., 299850., 299780., 299890., 299840., 299780., 299810.,\n",
       "       299760., 299810., 299790., 299810., 299820., 299850., 299870.,\n",
       "       299870., 299810., 299740., 299810., 299940., 299950., 299800.,\n",
       "       299810., 299870.])"
      ]
     },
     "execution_count": 12,
     "metadata": {},
     "output_type": "execute_result"
    }
   ],
   "source": [
    "dat"
   ]
  },
  {
   "cell_type": "code",
   "execution_count": 14,
   "id": "a75ff961",
   "metadata": {},
   "outputs": [
    {
     "data": {
      "image/png": "[encoded data removed]",
      "text/plain": [
       "<Figure size 432x288 with 1 Axes>"
      ]
     },
     "metadata": {
      "needs_background": "light"
     },
     "output_type": "display_data"
    }
   ],
   "source": [
    "plt.hist(dat, bins = 20, rwidth=0.9)\n",
    "plt.show();"
   ]
  },
  {
   "cell_type": "code",
   "execution_count": 21,
   "id": "9f16448e",
   "metadata": {},
   "outputs": [],
   "source": [
    "x = np.random.uniform(size = 10)"
   ]
  },
  {
   "cell_type": "code",
   "execution_count": 22,
   "id": "092e9fe0",
   "metadata": {},
   "outputs": [
    {
     "data": {
      "text/plain": [
       "0.950780118654689"
      ]
     },
     "execution_count": 22,
     "metadata": {},
     "output_type": "execute_result"
    }
   ],
   "source": [
    "np.max(x)"
   ]
  },
  {
   "cell_type": "code",
   "execution_count": 23,
   "id": "feb02e4c",
   "metadata": {},
   "outputs": [
    {
     "data": {
      "text/plain": [
       "0.98989663622538"
      ]
     },
     "execution_count": 23,
     "metadata": {},
     "output_type": "execute_result"
    }
   ],
   "source": [
    "# データ数が増えれば増えるほど、母数パラメータを推定する精度は高くなる\n",
    "x = np.random.uniform(size = 100)\n",
    "np.max(x)"
   ]
  },
  {
   "cell_type": "code",
   "execution_count": 35,
   "id": "b34cf56e",
   "metadata": {},
   "outputs": [
    {
     "data": {
      "text/plain": [
       "1.044405855772563"
      ]
     },
     "execution_count": 35,
     "metadata": {},
     "output_type": "execute_result"
    }
   ],
   "source": [
    "n = 10\n",
    "x = np.random.uniform(size = n)\n",
    "((n+1)/ n) * np.max(x)"
   ]
  },
  {
   "cell_type": "code",
   "execution_count": 36,
   "id": "ec2582e6",
   "metadata": {},
   "outputs": [
    {
     "data": {
      "text/plain": [
       "(100, 10)"
      ]
     },
     "execution_count": 36,
     "metadata": {},
     "output_type": "execute_result"
    }
   ],
   "source": [
    "# 100セットデータを生成\n",
    "X = np.random.rand(100, n)\n",
    "X.shape"
   ]
  },
  {
   "cell_type": "code",
   "execution_count": 38,
   "id": "b3d9c88f",
   "metadata": {},
   "outputs": [
    {
     "data": {
      "text/plain": [
       "0.9218399859596832"
      ]
     },
     "execution_count": 38,
     "metadata": {},
     "output_type": "execute_result"
    }
   ],
   "source": [
    "# 最尤推定の平均値\n",
    "# np.amaxで行列Xの各行(axis = 1)にmaxを適応。それらの平均値を求める\n",
    "np.mean(np.max(X, axis = 1))"
   ]
  },
  {
   "cell_type": "code",
   "execution_count": 39,
   "id": "dae45e66",
   "metadata": {},
   "outputs": [
    {
     "data": {
      "text/plain": [
       "1.0140239845556516"
      ]
     },
     "execution_count": 39,
     "metadata": {},
     "output_type": "execute_result"
    }
   ],
   "source": [
    "# 普遍推定の平均値\n",
    "np.mean((n+1)/n * np.max(X, axis = 1))"
   ]
  },
  {
   "cell_type": "code",
   "execution_count": 40,
   "id": "335c3acd",
   "metadata": {},
   "outputs": [],
   "source": [
    "df = pd.DataFrame(X)"
   ]
  },
  {
   "cell_type": "code",
   "execution_count": 41,
   "id": "f93b1e48",
   "metadata": {},
   "outputs": [
    {
     "data": {
      "text/plain": [
       "0.9218399859596832"
      ]
     },
     "execution_count": 41,
     "metadata": {},
     "output_type": "execute_result"
    }
   ],
   "source": [
    "# 最尤推定の平均値\n",
    "np.mean(df.apply(np.max, axis = 1))"
   ]
  },
  {
   "cell_type": "code",
   "execution_count": 42,
   "id": "2a3ab95e",
   "metadata": {},
   "outputs": [
    {
     "data": {
      "text/plain": [
       "1.0140239845556516"
      ]
     },
     "execution_count": 42,
     "metadata": {},
     "output_type": "execute_result"
    }
   ],
   "source": [
    "# 普遍推定の平均値\n",
    "np.mean(df.apply(lambda x: (n+1)/n * np.max(x), axis = 1))\n"
   ]
  },
  {
   "cell_type": "code",
   "execution_count": 43,
   "id": "2a25374e",
   "metadata": {},
   "outputs": [],
   "source": [
    "from scipy.optimize import fmin"
   ]
  },
  {
   "cell_type": "code",
   "execution_count": 44,
   "id": "d2b96be7",
   "metadata": {},
   "outputs": [],
   "source": [
    "# fminは最小を推定するので最大尤度をするように負の尤度関数を作る\n",
    "# theta = np.array([thetaA, thetaB])\n",
    "# n= np.array([nA, nB, nAB, nO])\n",
    "def nlikelihood(theta, n):\n",
    "    a, b, o = theta[0], theta[1], 1-theta[0] - theta[1]\n",
    "    p = np.array([a **2 + 2*a*o, b**2 + 2*b*o, 2*a*b, o**2])\n",
    "    return (-np.sum(n * np.log(p)))"
   ]
  },
  {
   "cell_type": "code",
   "execution_count": 45,
   "id": "79522084",
   "metadata": {},
   "outputs": [],
   "source": [
    "# 最尤推定値の計算\n",
    "# 入力 n = np.array([nA, nB, nAB, nO])\n",
    "# 出力 [thetaA, thetaB, thetaC]\n",
    "# 1/3にした理由はa, b, cの3つの確率変数だから\n",
    "def mle(n):\n",
    "    sol = fmin(nlikelihood, [1/3, 1/3], args = (n, ))\n",
    "    return np.array([sol[0], sol[1], 1-np.sum(sol)])"
   ]
  },
  {
   "cell_type": "code",
   "execution_count": 47,
   "id": "e1633fb2",
   "metadata": {},
   "outputs": [],
   "source": [
    "# A:40, B: 30, AB:10, O:20\n",
    "n = np.array([40, 30, 10, 20])"
   ]
  },
  {
   "cell_type": "code",
   "execution_count": 48,
   "id": "2bcd0de5",
   "metadata": {},
   "outputs": [
    {
     "name": "stdout",
     "output_type": "stream",
     "text": [
      "Optimization terminated successfully.\n",
      "         Current function value: 128.937985\n",
      "         Iterations: 29\n",
      "         Function evaluations: 55\n"
     ]
    },
    {
     "data": {
      "text/plain": [
       "array([0.29787785, 0.22930651, 0.47281564])"
      ]
     },
     "execution_count": 48,
     "metadata": {},
     "output_type": "execute_result"
    }
   ],
   "source": [
    "mle(n)"
   ]
  },
  {
   "cell_type": "code",
   "execution_count": 56,
   "id": "9e119ff5",
   "metadata": {},
   "outputs": [],
   "source": [
    "# EMアルゴリズム\n",
    "class EMmixBernoulli:\n",
    "    def __init__(self, K = 5, maxitr = 1000, tol = 1e-5, succ = 3):\n",
    "        self.K = K # コンポーネント数\n",
    "        self.maxitr = maxitr # EMアルゴリズムの最大反復数\n",
    "        self.tol = tol; self.succ = succ # 収束判定パラメータ\n",
    "        \n",
    "    def fit(self, x):\n",
    "        K = self.K; maxitr = self.maxitr\n",
    "        tol = self.tol; succ = self.succ\n",
    "        n, d = x.shape # データ数nと次元d\n",
    "        #  マシンイプシロン(https://qiita.com/yoshi1406/items/9ac6cacf253d1c74e900)\n",
    "        eps = np.finfo(float).eps\n",
    "        # コンポーネントの初期設定\n",
    "        mu = np.mean(x)\n",
    "        # 共役事前分布(https://ai-trend.jp/basic-study/bayes/conjugate-prior-distribution/)\n",
    "        p = np.random.beta(mu, 1-mu, size = K * d).reshape(K, d)\n",
    "        # np.repeatの使い方(https://python.atelierkobato.com/numpy_repeat/)\n",
    "        q = np.repeat(1/K, K)\n",
    "        ul = np.inf\n",
    "        converge_ = False\n",
    "        succ_dec = np.repeat(False, succ)\n",
    "        # パラメータ更新\n",
    "        for itr in np.arange(maxitr):\n",
    "            # 多次元ベルヌーイ分布の確率を計算\n",
    "            mp = (np.exp(np.dot(np.log(p), x.T) + np.dot(np.log(1-p), 1-x.T)).T*q).T\n",
    "            # gmm, q, pの更新. np.clipで発散を防ぐ\n",
    "            gmm = np.clip(mp/np.sum(mp, 0), eps, 1-eps)\n",
    "            q = np.clip(np.sum(gmm, 1)/n, eps, 1-eps)\n",
    "            p = np.clip((np.dot(gmm, x).T/(n*q)).T, eps, 1-eps)\n",
    "            # 負の対数尤度\n",
    "            lp = np.dot(np.log(p), x.T) + np.dot(np.log(1-p), 1-x.T)\n",
    "            uln = -np.sum(gmm * ((lp.T + np.log(q)).T - np.log(gmm)))\n",
    "            succ_dec = np.append((ul - uln > 0) and (ul - uln < tol), succ_dec)[:succ]\n",
    "            # 停止条件: 減少量が連続succ回tol未満\n",
    "            if all(succ_dec):\n",
    "                converge_ = True\n",
    "                break\n",
    "            # ulは最尤推定量(つまりmax)\n",
    "            ul = uln\n",
    "        # モデルパラメータをBayes流で推定するならばBIC。最尤法で求めるならAIC\n",
    "        BIC = ul + 0.5 * (d*K + (K-1)) * np.log(n) # BIC\n",
    "        self.p = p; self.q = q; self.BIC = BIC; self.gmm = gmm\n",
    "        self.converge_ = converge_; self.itr = itr\n",
    "        return self\n",
    "    \n",
    "    # クラスタ所属確率\n",
    "    def predict_proba(self, newx):\n",
    "        p = self.p; q = self.q\n",
    "        # 同時確率\n",
    "        jp = np.exp(np.dot(np.log(p), newx.T) + np.dot(np.log(1-p), 1-newx.T)).T * q\n",
    "        # 周辺確率\n",
    "        mp = np.sum(jp, 1)\n",
    "        # 条件付き確率\n",
    "        cp = (jp.T / mp).T\n",
    "        return cp\n",
    "    \n",
    "    # クラスタ予測\n",
    "    def predict(self, newx):\n",
    "        # 条件付き確率の計算\n",
    "        cp = self.predict_proba(newx)\n",
    "        cl = np.argmax(cp, axis = 1)\n",
    "        return cl\n",
    "    \n"
   ]
  },
  {
   "cell_type": "code",
   "execution_count": 57,
   "id": "cac08465",
   "metadata": {},
   "outputs": [
    {
     "data": {
      "text/plain": [
       "(3822, 64)"
      ]
     },
     "execution_count": 57,
     "metadata": {},
     "output_type": "execute_result"
    }
   ],
   "source": [
    "# データを読み込む\n",
    "a = pd.read_csv('data/optdigits_train.csv')\n",
    "x = a.values[:, 0:64] > 8\n",
    "x.shape"
   ]
  },
  {
   "cell_type": "code",
   "execution_count": 58,
   "id": "d9a9b9f7",
   "metadata": {},
   "outputs": [],
   "source": [
    "y = a.values[:, 64] # 各画像データのラベル。混合モデルの推定には使わない"
   ]
  },
  {
   "cell_type": "code",
   "execution_count": 59,
   "id": "216fd623",
   "metadata": {},
   "outputs": [],
   "source": [
    "# 混合ベルヌーイ分布でデータの分布を推定\n",
    "em = EMmixBernoulli(K = 10) # コンポーネント数10でインスタンス化\n",
    "em.fit(x) # EMアルゴリズムでパラメータを推定\n",
    "ec = em.predict(x) # トレーニングデータをクラスタリング"
   ]
  },
  {
   "cell_type": "code",
   "execution_count": 60,
   "id": "71216fdb",
   "metadata": {},
   "outputs": [],
   "source": [
    "# 第１コンポーネント(インデックスは0)に所属するデータのラベルを表示\n",
    "u, c = np.unique(y[ec == 0], return_counts=True)"
   ]
  },
  {
   "cell_type": "code",
   "execution_count": 61,
   "id": "ee4d16dd",
   "metadata": {},
   "outputs": [
    {
     "data": {
      "text/plain": [
       "array([[  0,   1,   4,   5,   6,   7],\n",
       "       [  1,   2, 293,   1,   1,   1]])"
      ]
     },
     "execution_count": 61,
     "metadata": {},
     "output_type": "execute_result"
    }
   ],
   "source": [
    "np.c_[u, c].T"
   ]
  },
  {
   "cell_type": "code",
   "execution_count": 62,
   "id": "a0415de5",
   "metadata": {},
   "outputs": [],
   "source": [
    "# 第3コンポーネント(インデックスは2)に所属するデータのラベルを表示\n",
    "# np.uniqueの引数にreturn_countsをTrueで指定してやれば、左辺の変数を2つ指定してcountが抽出できる\n",
    "u, c = np.unique(y[ec == 2], return_counts=True)"
   ]
  },
  {
   "cell_type": "code",
   "execution_count": 63,
   "id": "c7f0e53f",
   "metadata": {},
   "outputs": [
    {
     "data": {
      "text/plain": [
       "array([[  0,   1,   2,   3,   5,   8,   9],\n",
       "       [  5,  11,  11, 335, 124,  40, 243]])"
      ]
     },
     "execution_count": 63,
     "metadata": {},
     "output_type": "execute_result"
    }
   ],
   "source": [
    "np.c_[u, c].T"
   ]
  },
  {
   "cell_type": "code",
   "execution_count": 64,
   "id": "c14f8266",
   "metadata": {},
   "outputs": [
    {
     "data": {
      "text/plain": [
       "76598.40324945761"
      ]
     },
     "execution_count": 64,
     "metadata": {},
     "output_type": "execute_result"
    }
   ],
   "source": [
    "em.BIC"
   ]
  },
  {
   "cell_type": "code",
   "execution_count": 65,
   "id": "3ed7c20a",
   "metadata": {},
   "outputs": [],
   "source": [
    "# コンポーネント数 Kの候補(パラメータの次元は324から3249)\n",
    "eml = EMmixBernoulli()"
   ]
  },
  {
   "cell_type": "code",
   "execution_count": 66,
   "id": "adf0791b",
   "metadata": {},
   "outputs": [],
   "source": [
    "Klist = np.arange(4, 51)\n",
    "BIClist = np.array([])\n"
   ]
  },
  {
   "cell_type": "code",
   "execution_count": 67,
   "id": "f0fec0bf",
   "metadata": {},
   "outputs": [],
   "source": [
    "for K in Klist:\n",
    "    eml.K = K\n",
    "    eml.fit(x)\n",
    "    BIClist = np.append(BIClist, eml.BIC)"
   ]
  },
  {
   "cell_type": "code",
   "execution_count": 68,
   "id": "4c48b5ad",
   "metadata": {},
   "outputs": [
    {
     "data": {
      "text/plain": [
       "26"
      ]
     },
     "execution_count": 68,
     "metadata": {},
     "output_type": "execute_result"
    }
   ],
   "source": [
    "Klist[np.argmin(BIClist)]"
   ]
  },
  {
   "cell_type": "code",
   "execution_count": 70,
   "id": "23c361ba",
   "metadata": {},
   "outputs": [
    {
     "data": {
      "image/png": "[encoded data removed]",
      "text/plain": [
       "<Figure size 432x288 with 1 Axes>"
      ]
     },
     "metadata": {
      "needs_background": "light"
     },
     "output_type": "display_data"
    }
   ],
   "source": [
    "# プロット\n",
    "plt.xlabel('K');plt.ylabel('BIC')\n",
    "plt.plot(Klist, BIClist, 'o', color='b')\n",
    "plt.show();"
   ]
  },
  {
   "cell_type": "code",
   "execution_count": null,
   "id": "404247f4",
   "metadata": {},
   "outputs": [],
   "source": []
  }
 ],
 "metadata": {
  "kernelspec": {
   "display_name": "Python 3",
   "language": "python",
   "name": "python3"
  },
  "language_info": {
   "codemirror_mode": {
    "name": "ipython",
    "version": 3
   },
   "file_extension": ".py",
   "mimetype": "text/x-python",
   "name": "python",
   "nbconvert_exporter": "python",
   "pygments_lexer": "ipython3",
   "version": "3.8.5"
  }
 },
 "nbformat": 4,
 "nbformat_minor": 5
}
