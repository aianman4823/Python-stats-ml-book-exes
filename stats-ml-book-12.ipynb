{
 "cells": [
  {
   "cell_type": "code",
   "execution_count": 1,
   "id": "d510faf0",
   "metadata": {},
   "outputs": [
    {
     "name": "stderr",
     "output_type": "stream",
     "text": [
      "/Users/akito_harada/Documents/python/stats/ml/venv/lib/python3.8/site-packages/pandas/compat/__init__.py:97: UserWarning: Could not import the lzma module. Your installed Python is incomplete. Attempting to use lzma compression will result in a RuntimeError.\n",
      "  warnings.warn(msg)\n"
     ]
    }
   ],
   "source": [
    "import numpy as np\n",
    "import matplotlib.pyplot as plt\n",
    "import pandas as pd\n",
    "from sklearn import tree, ensemble, datasets"
   ]
  },
  {
   "cell_type": "code",
   "execution_count": 2,
   "id": "58e31e67",
   "metadata": {},
   "outputs": [
    {
     "data": {
      "text/plain": [
       "DecisionTreeClassifier()"
      ]
     },
     "execution_count": 2,
     "metadata": {},
     "output_type": "execute_result"
    }
   ],
   "source": [
    "d = datasets.load_wine()\n",
    "dt = tree.DecisionTreeClassifier() # 決定木\n",
    "dt.fit(d.data, d.target)\n"
   ]
  },
  {
   "cell_type": "code",
   "execution_count": 3,
   "id": "5abeb198",
   "metadata": {},
   "outputs": [
    {
     "data": {
      "text/plain": [
       "0.0"
      ]
     },
     "execution_count": 3,
     "metadata": {},
     "output_type": "execute_result"
    }
   ],
   "source": [
    "1 - dt.score(d.data, d.target) # トレーニング誤差"
   ]
  },
  {
   "cell_type": "code",
   "execution_count": 4,
   "id": "38591190",
   "metadata": {},
   "outputs": [
    {
     "data": {
      "text/plain": [
       "0.005617977528089901"
      ]
     },
     "execution_count": 4,
     "metadata": {},
     "output_type": "execute_result"
    }
   ],
   "source": [
    "# criterionのデフォルトはgini(ジニ係数)\n",
    "dt.set_params(max_depth = 3, criterion = 'entropy') #木の深さの最大値を設定\n",
    "dt.fit(d.data, d.target)\n",
    "1 - dt.score(d.data, d.target)"
   ]
  },
  {
   "cell_type": "code",
   "execution_count": 5,
   "id": "00688648",
   "metadata": {},
   "outputs": [],
   "source": [
    "import graphviz"
   ]
  },
  {
   "cell_type": "code",
   "execution_count": 6,
   "id": "11e2de8f",
   "metadata": {},
   "outputs": [
    {
     "data": {
      "text/plain": [
       "'DTplot.pdf'"
      ]
     },
     "execution_count": 6,
     "metadata": {},
     "output_type": "execute_result"
    }
   ],
   "source": [
    "graph = graphviz.Source(tree.export_graphviz(dt, out_file=None))\n",
    "graph.render('DTplot') # 図をファイルに出力"
   ]
  },
  {
   "cell_type": "code",
   "execution_count": 7,
   "id": "b7e185c7",
   "metadata": {},
   "outputs": [],
   "source": [
    "# バギング\n",
    "d = datasets.load_iris()"
   ]
  },
  {
   "cell_type": "code",
   "execution_count": 8,
   "id": "3c602edb",
   "metadata": {},
   "outputs": [],
   "source": [
    "i = np.random.choice(d.data.shape[0], 100, replace = False)\n",
    "ti = np.delete(np.arange(d.data.shape[0]), i)\n",
    "x, y = d.data[i, :], d.target[i] # トレーニングデータ\n",
    "tx, ty = d.data[ti, :], d.target[ti] # テストデータ\n"
   ]
  },
  {
   "cell_type": "code",
   "execution_count": 9,
   "id": "6c3cdd84",
   "metadata": {},
   "outputs": [],
   "source": [
    "# バギング(B = 100)\n",
    "# n_estimatorにブートストラップによる回数を指定する\n",
    "ba = ensemble.BaggingClassifier(n_estimators=100)\n"
   ]
  },
  {
   "cell_type": "code",
   "execution_count": 10,
   "id": "d88bf78a",
   "metadata": {},
   "outputs": [
    {
     "data": {
      "text/plain": [
       "0.07999999999999996"
      ]
     },
     "execution_count": 10,
     "metadata": {},
     "output_type": "execute_result"
    }
   ],
   "source": [
    "ba.fit(x,  y)\n",
    "1 - ba.score(tx, ty) #テスト誤差"
   ]
  },
  {
   "cell_type": "code",
   "execution_count": 11,
   "id": "96de0f3a",
   "metadata": {},
   "outputs": [
    {
     "data": {
      "text/plain": [
       "0.06000000000000005"
      ]
     },
     "execution_count": 11,
     "metadata": {},
     "output_type": "execute_result"
    }
   ],
   "source": [
    "# 単独の決定技を学習\n",
    "dt = tree.DecisionTreeClassifier()\n",
    "dt.fit(x, y)\n",
    "1-dt.score(tx, ty)"
   ]
  },
  {
   "cell_type": "code",
   "execution_count": 12,
   "id": "6b13fe0d",
   "metadata": {},
   "outputs": [
    {
     "data": {
      "text/plain": [
       "(146, 8)"
      ]
     },
     "execution_count": 12,
     "metadata": {},
     "output_type": "execute_result"
    }
   ],
   "source": [
    "# ランダムフォレスト\n",
    "d = pd.read_csv('data/stagec.csv').values\n",
    "d.shape"
   ]
  },
  {
   "cell_type": "code",
   "execution_count": 13,
   "id": "409c9a97",
   "metadata": {},
   "outputs": [],
   "source": [
    "xa, ya = np.array(d[:, :6]).astype('float'), d[:, 7]"
   ]
  },
  {
   "cell_type": "code",
   "execution_count": 14,
   "id": "259d9121",
   "metadata": {},
   "outputs": [
    {
     "name": "stdout",
     "output_type": "stream",
     "text": [
      "23 3\n",
      "106 3\n",
      "1 4\n",
      "7 4\n",
      "56 4\n",
      "110 4\n",
      "114 4\n",
      "130 4\n",
      "143 4\n"
     ]
    }
   ],
   "source": [
    "# nanを確認\n",
    "for i in range(xa.shape[1]):\n",
    "    for j in range(xa.shape[0]):\n",
    "        if np.isnan(xa[j, i]).any():\n",
    "            print(j,  i)"
   ]
  },
  {
   "cell_type": "code",
   "execution_count": 15,
   "id": "4a9ca375",
   "metadata": {},
   "outputs": [
    {
     "data": {
      "text/plain": [
       "(146,)"
      ]
     },
     "execution_count": 15,
     "metadata": {},
     "output_type": "execute_result"
    }
   ],
   "source": [
    "# nanを削除\n",
    "i = ~np.isnan(xa).any(axis = 1); xa, ya = xa[i, :], ya[i]\n",
    "i.shape"
   ]
  },
  {
   "cell_type": "code",
   "execution_count": 16,
   "id": "ab6c3026",
   "metadata": {},
   "outputs": [],
   "source": [
    "x, y = xa[:100, :], ya[:100] # トレーニングデータ\n",
    "tx, ty = xa[100:, :], ya[100:] # テストデータ\n"
   ]
  },
  {
   "cell_type": "code",
   "execution_count": 17,
   "id": "87789871",
   "metadata": {},
   "outputs": [
    {
     "data": {
      "text/plain": [
       "0.027027027027026973"
      ]
     },
     "execution_count": 17,
     "metadata": {},
     "output_type": "execute_result"
    }
   ],
   "source": [
    "# ランダムフォレスト(木の数: 10)\n",
    "rf = ensemble.RandomForestClassifier(n_estimators=10)\n",
    "rf.fit(x, y)\n",
    "1 - rf.score(tx, ty)"
   ]
  },
  {
   "cell_type": "code",
   "execution_count": 18,
   "id": "4ac52e08",
   "metadata": {},
   "outputs": [
    {
     "data": {
      "text/plain": [
       "RandomForestClassifier(n_estimators=1000)"
      ]
     },
     "execution_count": 18,
     "metadata": {},
     "output_type": "execute_result"
    }
   ],
   "source": [
    "# ランダムフォレスト(木の数: 1000)\n",
    "rf.set_params(n_estimators = 1000)"
   ]
  },
  {
   "cell_type": "code",
   "execution_count": 19,
   "id": "cbb5695d",
   "metadata": {},
   "outputs": [
    {
     "data": {
      "text/plain": [
       "0.027027027027026973"
      ]
     },
     "execution_count": 19,
     "metadata": {},
     "output_type": "execute_result"
    }
   ],
   "source": [
    "rf.fit(x, y)\n",
    "1-rf.score(tx, ty)"
   ]
  },
  {
   "cell_type": "code",
   "execution_count": 20,
   "id": "32a73cf2",
   "metadata": {},
   "outputs": [
    {
     "data": {
      "text/plain": [
       "0.027027027027026973"
      ]
     },
     "execution_count": 20,
     "metadata": {},
     "output_type": "execute_result"
    }
   ],
   "source": [
    "# 決定木\n",
    "dt = tree.DecisionTreeClassifier()\n",
    "dt.fit(x,y)\n",
    "1 - dt.score(tx, ty)"
   ]
  },
  {
   "cell_type": "code",
   "execution_count": 21,
   "id": "e8b0f1eb",
   "metadata": {},
   "outputs": [
    {
     "data": {
      "text/plain": [
       "0.027027027027026973"
      ]
     },
     "execution_count": 21,
     "metadata": {},
     "output_type": "execute_result"
    }
   ],
   "source": [
    "# バギング（B = 10)\n",
    "ba = ensemble.BaggingClassifier(n_estimators=10)\n",
    "ba.fit(x, y)\n",
    "1 - ba.score(tx, ty)"
   ]
  },
  {
   "cell_type": "code",
   "execution_count": 22,
   "id": "f2a81e43",
   "metadata": {},
   "outputs": [],
   "source": [
    "# ブースティング\n",
    "# アダブースティング\n",
    "?ensemble.AdaBoostClassifier"
   ]
  },
  {
   "cell_type": "code",
   "execution_count": 23,
   "id": "d9b7315e",
   "metadata": {},
   "outputs": [
    {
     "data": {
      "text/plain": [
       "(5631, 73)"
      ]
     },
     "execution_count": 23,
     "metadata": {},
     "output_type": "execute_result"
    }
   ],
   "source": [
    "n = 4000\n",
    "d = pd.read_csv('data/soldat.csv').values; # データをよみこむ\n",
    "d.shape"
   ]
  },
  {
   "cell_type": "code",
   "execution_count": 24,
   "id": "ece56c2f",
   "metadata": {},
   "outputs": [],
   "source": [
    "# nanを除去\n",
    "# k = ~np.isnan(d).any(axis = 1); d = d[k, :]\n",
    "# d.shape"
   ]
  },
  {
   "cell_type": "code",
   "execution_count": 25,
   "id": "dceee1fd",
   "metadata": {},
   "outputs": [],
   "source": [
    "d = np.delete(d, 70, 1)\n",
    "i = np.random.choice(len(d), n, replace = False)\n",
    "ti = np.delete(np.arange(len(d)), i)\n",
    "x, y = d[i, :71], d[i, 71]\n",
    "tx, ty = d[ti, :71], d[ti, 71]\n",
    "T = 1000"
   ]
  },
  {
   "cell_type": "code",
   "execution_count": 26,
   "id": "66ae4683",
   "metadata": {},
   "outputs": [],
   "source": [
    "# 決定株\n",
    "bl = tree.DecisionTreeClassifier(max_depth=1)"
   ]
  },
  {
   "cell_type": "code",
   "execution_count": 27,
   "id": "b940542e",
   "metadata": {},
   "outputs": [],
   "source": [
    "# 決定株でアダブーストを実行\n",
    "ab = ensemble.AdaBoostClassifier(base_estimator=bl, n_estimators=T)"
   ]
  },
  {
   "cell_type": "code",
   "execution_count": 28,
   "id": "05462947",
   "metadata": {},
   "outputs": [
    {
     "data": {
      "text/plain": [
       "AdaBoostClassifier(base_estimator=DecisionTreeClassifier(max_depth=1),\n",
       "                   n_estimators=1000)"
      ]
     },
     "execution_count": 28,
     "metadata": {},
     "output_type": "execute_result"
    }
   ],
   "source": [
    "ab.fit(x, y)"
   ]
  },
  {
   "cell_type": "code",
   "execution_count": 29,
   "id": "67c30a23",
   "metadata": {},
   "outputs": [],
   "source": [
    "# 各ラウンドの誤差\n",
    "ada_tr_err = np.zeros((T, ))\n",
    "for i, score in enumerate(ab.staged_score(x, y)):\n",
    "    ada_tr_err[i] = 1 - score\n",
    "ada_te_err = np.zeros((T, ))\n",
    "for i, score in enumerate(ab.staged_score(tx, ty)):\n",
    "    ada_te_err[i] = 1 - score"
   ]
  },
  {
   "cell_type": "code",
   "execution_count": 30,
   "id": "3732f61b",
   "metadata": {},
   "outputs": [
    {
     "data": {
      "image/png": "[encoded data removed]",
      "text/plain": [
       "<Figure size 432x288 with 1 Axes>"
      ]
     },
     "metadata": {
      "needs_background": "light"
     },
     "output_type": "display_data"
    }
   ],
   "source": [
    "plt.xlabel('round: t')\n",
    "plt.ylabel('error')\n",
    "plt.plot(ada_tr_err[::10], label = 'training_error',\n",
    "        linestyle = 'dashed', lw = 3)\n",
    "plt.plot(ada_te_err[::10], label = 'test_error',\n",
    "        linestyle = 'solid', lw = 3)\n",
    "plt.legend()\n",
    "plt.show();"
   ]
  },
  {
   "cell_type": "code",
   "execution_count": 32,
   "id": "10baa43b",
   "metadata": {},
   "outputs": [],
   "source": [
    "import xgboost as xgb"
   ]
  },
  {
   "cell_type": "code",
   "execution_count": 33,
   "id": "a4bc2a49",
   "metadata": {},
   "outputs": [],
   "source": [
    "# データをよみこむ\n",
    "n = 4000\n",
    "d = pd.read_csv('data/soldat.csv').values; d = np.delete(d, 70, 1)\n",
    "i = np.random.choice(len(d), n, replace = False)\n",
    "ti = np.delete(np.arange(len(d)), i)\n",
    "x, y = d[i, :71], d[i, 71] # トレーニングデータ\n",
    "tx, ty = d[ti, :71], d[ti, 71] # テストデータ\n",
    "T = 1000 # ラウンド数:1000\n",
    "xg = xgb.XGBClassifier(n_estimators = T, max_depth = 1,\n",
    "                      objective = 'binary:logistic')\n"
   ]
  },
  {
   "cell_type": "code",
   "execution_count": 34,
   "id": "e8df8e55",
   "metadata": {},
   "outputs": [
    {
     "name": "stderr",
     "output_type": "stream",
     "text": [
      "/Users/akito_harada/Documents/python/stats/ml/venv/lib/python3.8/site-packages/xgboost/sklearn.py:1146: UserWarning: The use of label encoder in XGBClassifier is deprecated and will be removed in a future release. To remove this warning, do the following: 1) Pass option use_label_encoder=False when constructing XGBClassifier object; and 2) Encode your labels (y) as integers starting with 0, i.e. 0, 1, 2, ..., [num_class - 1].\n",
      "  warnings.warn(label_encoder_deprecation_msg, UserWarning)\n"
     ]
    },
    {
     "name": "stdout",
     "output_type": "stream",
     "text": [
      "[16:46:21] WARNING: /Users/travis/build/dmlc/xgboost/src/learner.cc:1095: Starting in XGBoost 1.3.0, the default evaluation metric used with the objective 'binary:logistic' was changed from 'error' to 'logloss'. Explicitly set eval_metric if you'd like to restore the old behavior.\n"
     ]
    },
    {
     "data": {
      "text/plain": [
       "0.2372777437155119"
      ]
     },
     "execution_count": 34,
     "metadata": {},
     "output_type": "execute_result"
    }
   ],
   "source": [
    "xg.fit(x, y)\n",
    "1 - xg.score(tx, ty) # テスト誤差"
   ]
  },
  {
   "cell_type": "code",
   "execution_count": 39,
   "id": "aa36b4ca",
   "metadata": {},
   "outputs": [
    {
     "name": "stdout",
     "output_type": "stream",
     "text": [
      "[0]\tvalidation_0-logloss:0.64791\n",
      "[1]\tvalidation_0-logloss:0.63083\n",
      "[2]\tvalidation_0-logloss:0.61194\n",
      "[3]\tvalidation_0-logloss:0.60397\n",
      "[4]\tvalidation_0-logloss:0.59690\n",
      "[5]\tvalidation_0-logloss:0.59076\n",
      "[6]\tvalidation_0-logloss:0.59030\n",
      "[7]\tvalidation_0-logloss:0.58469\n",
      "[8]\tvalidation_0-logloss:0.58038\n",
      "[9]\tvalidation_0-logloss:0.57852\n",
      "[10]\tvalidation_0-logloss:0.57622\n",
      "[11]\tvalidation_0-logloss:0.57423\n",
      "[12]\tvalidation_0-logloss:0.57281\n",
      "[13]\tvalidation_0-logloss:0.57080\n",
      "[14]\tvalidation_0-logloss:0.56859\n",
      "[15]\tvalidation_0-logloss:0.56725\n",
      "[16]\tvalidation_0-logloss:0.56727\n",
      "[17]\tvalidation_0-logloss:0.56422\n",
      "[18]\tvalidation_0-logloss:0.56298\n",
      "[19]\tvalidation_0-logloss:0.56301\n",
      "[20]\tvalidation_0-logloss:0.56091\n",
      "[21]\tvalidation_0-logloss:0.55914\n",
      "[22]\tvalidation_0-logloss:0.55834\n",
      "[23]\tvalidation_0-logloss:0.55656\n",
      "[24]\tvalidation_0-logloss:0.55553\n",
      "[25]\tvalidation_0-logloss:0.55544\n",
      "[26]\tvalidation_0-logloss:0.55270\n",
      "[27]\tvalidation_0-logloss:0.55231\n",
      "[28]\tvalidation_0-logloss:0.55021\n",
      "[29]\tvalidation_0-logloss:0.54928\n",
      "[30]\tvalidation_0-logloss:0.54880\n",
      "[31]\tvalidation_0-logloss:0.54779\n",
      "[32]\tvalidation_0-logloss:0.54738\n",
      "[33]\tvalidation_0-logloss:0.54772\n"
     ]
    },
    {
     "name": "stderr",
     "output_type": "stream",
     "text": [
      "/Users/akito_harada/Documents/python/stats/ml/venv/lib/python3.8/site-packages/xgboost/sklearn.py:1146: UserWarning: The use of label encoder in XGBClassifier is deprecated and will be removed in a future release. To remove this warning, do the following: 1) Pass option use_label_encoder=False when constructing XGBClassifier object; and 2) Encode your labels (y) as integers starting with 0, i.e. 0, 1, 2, ..., [num_class - 1].\n",
      "  warnings.warn(label_encoder_deprecation_msg, UserWarning)\n"
     ]
    },
    {
     "name": "stdout",
     "output_type": "stream",
     "text": [
      "[34]\tvalidation_0-logloss:0.54819\n",
      "[35]\tvalidation_0-logloss:0.54658\n",
      "[36]\tvalidation_0-logloss:0.54527\n",
      "[37]\tvalidation_0-logloss:0.54526\n",
      "[38]\tvalidation_0-logloss:0.54499\n",
      "[39]\tvalidation_0-logloss:0.54453\n",
      "[40]\tvalidation_0-logloss:0.54515\n",
      "[41]\tvalidation_0-logloss:0.54428\n",
      "[42]\tvalidation_0-logloss:0.54385\n",
      "[43]\tvalidation_0-logloss:0.54233\n",
      "[44]\tvalidation_0-logloss:0.54319\n",
      "[45]\tvalidation_0-logloss:0.54370\n",
      "[46]\tvalidation_0-logloss:0.54323\n",
      "[47]\tvalidation_0-logloss:0.54173\n",
      "[48]\tvalidation_0-logloss:0.54002\n",
      "[49]\tvalidation_0-logloss:0.53895\n",
      "[50]\tvalidation_0-logloss:0.53875\n",
      "[51]\tvalidation_0-logloss:0.53819\n",
      "[52]\tvalidation_0-logloss:0.53759\n",
      "[53]\tvalidation_0-logloss:0.53704\n",
      "[54]\tvalidation_0-logloss:0.53724\n",
      "[55]\tvalidation_0-logloss:0.53711\n",
      "[56]\tvalidation_0-logloss:0.53697\n",
      "[57]\tvalidation_0-logloss:0.53479\n",
      "[58]\tvalidation_0-logloss:0.53546\n",
      "[59]\tvalidation_0-logloss:0.53498\n",
      "[60]\tvalidation_0-logloss:0.53507\n",
      "[61]\tvalidation_0-logloss:0.53368\n",
      "[62]\tvalidation_0-logloss:0.53287\n",
      "[63]\tvalidation_0-logloss:0.53181\n",
      "[64]\tvalidation_0-logloss:0.53265\n",
      "[65]\tvalidation_0-logloss:0.53330\n",
      "[66]\tvalidation_0-logloss:0.53352\n",
      "[67]\tvalidation_0-logloss:0.53325\n",
      "[68]\tvalidation_0-logloss:0.53409\n",
      "[69]\tvalidation_0-logloss:0.53424\n",
      "[70]\tvalidation_0-logloss:0.53351\n",
      "[71]\tvalidation_0-logloss:0.53262\n",
      "[72]\tvalidation_0-logloss:0.53226\n"
     ]
    },
    {
     "data": {
      "text/plain": [
       "XGBClassifier(base_score=0.5, booster='gbtree', colsample_bylevel=1,\n",
       "              colsample_bynode=1, colsample_bytree=1, gamma=0, gpu_id=-1,\n",
       "              importance_type='gain', interaction_constraints='',\n",
       "              learning_rate=0.300000012, max_delta_step=0, max_depth=1,\n",
       "              min_child_weight=1, missing=nan, monotone_constraints='()',\n",
       "              n_estimators=1000, n_jobs=8, num_parallel_tree=1, random_state=0,\n",
       "              reg_alpha=0, reg_lambda=1, scale_pos_weight=1, subsample=1,\n",
       "              tree_method='exact', validate_parameters=1, verbosity=None)"
      ]
     },
     "execution_count": 39,
     "metadata": {},
     "output_type": "execute_result"
    }
   ],
   "source": [
    "xg = xgb.XGBClassifier(n_estimators = 1000, max_depth = 1,\n",
    "                      objective = 'binary:logistic')\n",
    "cvx = x[:3500, :]\n",
    "cvy = y[:3500] # トレーニングデータ\n",
    "eval_set = [(x[3500:, :], y[3500:])] # 検証用のデータ\n",
    "# verboseを設定: 途中経過をプリント\n",
    "xg.fit(cvx, cvy, early_stopping_rounds = 10, eval_metric = 'logloss',\n",
    "      eval_set = eval_set, verbose = True)"
   ]
  },
  {
   "cell_type": "code",
   "execution_count": 40,
   "id": "2bba09c5",
   "metadata": {},
   "outputs": [
    {
     "data": {
      "text/plain": [
       "63"
      ]
     },
     "execution_count": 40,
     "metadata": {},
     "output_type": "execute_result"
    }
   ],
   "source": [
    "xg.best_iteration"
   ]
  },
  {
   "cell_type": "code",
   "execution_count": 41,
   "id": "6855be63",
   "metadata": {},
   "outputs": [
    {
     "data": {
      "text/plain": [
       "0.25444512568976085"
      ]
     },
     "execution_count": 41,
     "metadata": {},
     "output_type": "execute_result"
    }
   ],
   "source": [
    "1 - xg.score(tx, ty)"
   ]
  },
  {
   "cell_type": "code",
   "execution_count": 42,
   "id": "a0f06a15",
   "metadata": {},
   "outputs": [
    {
     "data": {
      "text/plain": [
       "array([[0.7627829 , 0.23721711],\n",
       "       [0.78430164, 0.21569833],\n",
       "       [0.7871538 , 0.2128462 ],\n",
       "       ...,\n",
       "       [0.2973255 , 0.7026745 ],\n",
       "       [0.23214984, 0.76785016],\n",
       "       [0.3622679 , 0.6377321 ]], dtype=float32)"
      ]
     },
     "execution_count": 42,
     "metadata": {},
     "output_type": "execute_result"
    }
   ],
   "source": [
    "# 予測点における各ラベルの条件付き確率\n",
    "xg.predict_proba(tx)"
   ]
  },
  {
   "cell_type": "code",
   "execution_count": null,
   "id": "9e57b81a",
   "metadata": {},
   "outputs": [],
   "source": []
  }
 ],
 "metadata": {
  "kernelspec": {
   "display_name": "Python 3",
   "language": "python",
   "name": "python3"
  },
  "language_info": {
   "codemirror_mode": {
    "name": "ipython",
    "version": 3
   },
   "file_extension": ".py",
   "mimetype": "text/x-python",
   "name": "python",
   "nbconvert_exporter": "python",
   "pygments_lexer": "ipython3",
   "version": "3.8.5"
  }
 },
 "nbformat": 4,
 "nbformat_minor": 5
}
