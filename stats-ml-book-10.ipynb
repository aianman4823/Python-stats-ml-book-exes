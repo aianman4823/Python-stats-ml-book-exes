{
 "cells": [
  {
   "cell_type": "code",
   "execution_count": 1,
   "id": "7675312f",
   "metadata": {},
   "outputs": [
    {
     "name": "stderr",
     "output_type": "stream",
     "text": [
      "/Users/akito_harada/Documents/python/stats/ml/venv/lib/python3.8/site-packages/pandas/compat/__init__.py:97: UserWarning: Could not import the lzma module. Your installed Python is incomplete. Attempting to use lzma compression will result in a RuntimeError.\n",
      "  warnings.warn(msg)\n"
     ]
    }
   ],
   "source": [
    "import numpy as np\n",
    "import matplotlib.pyplot as plt\n",
    "import pandas as pd\n",
    "from sklearn.svm import SVC # SVRはサポートベクトルマシンを利用した回帰に利用する"
   ]
  },
  {
   "cell_type": "code",
   "execution_count": 2,
   "id": "8a83800c",
   "metadata": {},
   "outputs": [],
   "source": [
    "?SVC"
   ]
  },
  {
   "cell_type": "code",
   "execution_count": 3,
   "id": "59487d76",
   "metadata": {},
   "outputs": [],
   "source": [
    "?SVC.fit"
   ]
  },
  {
   "cell_type": "code",
   "execution_count": 4,
   "id": "398544ff",
   "metadata": {},
   "outputs": [],
   "source": [
    "from common import mlbench as ml"
   ]
  },
  {
   "cell_type": "code",
   "execution_count": 17,
   "id": "1417bf74",
   "metadata": {},
   "outputs": [],
   "source": [
    "# トレーニングデータ\n",
    "X, y = ml.twoDnormals(200, cl = 2, sd=1)"
   ]
  },
  {
   "cell_type": "code",
   "execution_count": 18,
   "id": "7206b827",
   "metadata": {},
   "outputs": [],
   "source": [
    "sv = SVC(kernel='linear')"
   ]
  },
  {
   "cell_type": "code",
   "execution_count": 19,
   "id": "e8d492f1",
   "metadata": {},
   "outputs": [
    {
     "data": {
      "text/plain": [
       "SVC(kernel='linear')"
      ]
     },
     "execution_count": 19,
     "metadata": {},
     "output_type": "execute_result"
    }
   ],
   "source": [
    "sv.fit(X, y)"
   ]
  },
  {
   "cell_type": "code",
   "execution_count": 20,
   "id": "7ccdee2b",
   "metadata": {},
   "outputs": [
    {
     "data": {
      "text/plain": [
       "0.085"
      ]
     },
     "execution_count": 20,
     "metadata": {},
     "output_type": "execute_result"
    }
   ],
   "source": [
    "np.mean(sv.predict(X)!=y)"
   ]
  },
  {
   "cell_type": "code",
   "execution_count": 21,
   "id": "c5774e4e",
   "metadata": {},
   "outputs": [
    {
     "data": {
      "text/plain": [
       "0.1"
      ]
     },
     "execution_count": 21,
     "metadata": {},
     "output_type": "execute_result"
    }
   ],
   "source": [
    "# テストデータ\n",
    "tX, ty = ml.twoDnormals(1000, cl = 2, sd = 1)\n",
    "py = sv.predict(tX)\n",
    "np.mean(ty!=py)"
   ]
  },
  {
   "cell_type": "code",
   "execution_count": 22,
   "id": "6ec9a3e7",
   "metadata": {},
   "outputs": [
    {
     "data": {
      "text/plain": [
       "0.09999999999999998"
      ]
     },
     "execution_count": 22,
     "metadata": {},
     "output_type": "execute_result"
    }
   ],
   "source": [
    "1 - sv.score(tX, ty) # スコアで精度を計算"
   ]
  },
  {
   "cell_type": "code",
   "execution_count": 23,
   "id": "26874e4e",
   "metadata": {},
   "outputs": [],
   "source": [
    "# ソフトマージンサポートベクトルマシン(カーネル法)\n",
    "X, y = ml.spirals(300, cycles=1, sd = 0.15) # トレーニングデータ\n",
    "tX, ty = ml.spirals(1000, cycles=1, sd = 0.15) # テストデータ"
   ]
  },
  {
   "cell_type": "code",
   "execution_count": 24,
   "id": "e81dc074",
   "metadata": {},
   "outputs": [
    {
     "data": {
      "text/plain": [
       "0.43899999999999995"
      ]
     },
     "execution_count": 24,
     "metadata": {},
     "output_type": "execute_result"
    }
   ],
   "source": [
    "# 2次多項式カーネル\n",
    "sv2 = SVC(kernel='poly', degree=2, gamma=1, coef0=1)\n",
    "sv2.fit(X, y)\n",
    "1 - sv2.score(tX, ty)"
   ]
  },
  {
   "cell_type": "code",
   "execution_count": 25,
   "id": "cf9f4b86",
   "metadata": {},
   "outputs": [
    {
     "data": {
      "text/plain": [
       "0.244"
      ]
     },
     "execution_count": 25,
     "metadata": {},
     "output_type": "execute_result"
    }
   ],
   "source": [
    "# 3次多項式カーネル\n",
    "sv3 = SVC(kernel='poly', degree=3, gamma=1, coef0=1)\n",
    "sv3.fit(X, y)\n",
    "1 - sv3.score(tX, ty)"
   ]
  },
  {
   "cell_type": "code",
   "execution_count": 27,
   "id": "fd0369d8",
   "metadata": {},
   "outputs": [],
   "source": [
    "?SVC"
   ]
  },
  {
   "cell_type": "code",
   "execution_count": 28,
   "id": "05e10586",
   "metadata": {},
   "outputs": [],
   "source": [
    "from sklearn.model_selection import cross_validate\n"
   ]
  },
  {
   "cell_type": "code",
   "execution_count": 29,
   "id": "daf31d1d",
   "metadata": {},
   "outputs": [],
   "source": [
    "# トレーニングデータ(2D混合正規)\n",
    "X, y = ml.twoDnormals(300, cl =2, sd = 1)"
   ]
  },
  {
   "cell_type": "code",
   "execution_count": 30,
   "id": "948855f6",
   "metadata": {},
   "outputs": [
    {
     "data": {
      "text/plain": [
       "array([0.91666667, 0.95      , 0.86666667, 0.88333333, 0.83333333])"
      ]
     },
     "execution_count": 30,
     "metadata": {},
     "output_type": "execute_result"
    }
   ],
   "source": [
    "# K重交差検証法(K = 5): gamma = 0.1, C = 1のときの検証誤差を計算\n",
    "sv = SVC(kernel='rbf', gamma= 0.1, C = 1) # SVM(ガウスカーネル)\n",
    "cv = cross_validate(sv, X, y, scoring='accuracy', cv = 5)\n",
    "cv['test_score'] # テスト誤差の推定結果を表示"
   ]
  },
  {
   "cell_type": "code",
   "execution_count": 31,
   "id": "b56dea40",
   "metadata": {},
   "outputs": [
    {
     "data": {
      "text/plain": [
       "0.89"
      ]
     },
     "execution_count": 31,
     "metadata": {},
     "output_type": "execute_result"
    }
   ],
   "source": [
    "np.mean(cv['test_score']) # 交差検証法による制度の推定"
   ]
  },
  {
   "cell_type": "code",
   "execution_count": 32,
   "id": "3bb5d850",
   "metadata": {},
   "outputs": [
    {
     "data": {
      "text/plain": [
       "0.10999999999999999"
      ]
     },
     "execution_count": 32,
     "metadata": {},
     "output_type": "execute_result"
    }
   ],
   "source": [
    "1 - np.mean(cv['test_score']) #検証誤差"
   ]
  },
  {
   "cell_type": "code",
   "execution_count": 33,
   "id": "9f6c9d00",
   "metadata": {},
   "outputs": [],
   "source": [
    "from scipy.spatial import distance"
   ]
  },
  {
   "cell_type": "code",
   "execution_count": 40,
   "id": "3c0584d3",
   "metadata": {},
   "outputs": [
    {
     "data": {
      "text/plain": [
       "(200, 2)"
      ]
     },
     "execution_count": 40,
     "metadata": {},
     "output_type": "execute_result"
    }
   ],
   "source": [
    "# トレーニングデータ\n",
    "X, y = ml.spirals(200, cycles=1.2, sd = 0.16)\n",
    "X.shape"
   ]
  },
  {
   "cell_type": "code",
   "execution_count": 41,
   "id": "bcf1af40",
   "metadata": {},
   "outputs": [
    {
     "data": {
      "text/plain": [
       "(19900,)"
      ]
     },
     "execution_count": 41,
     "metadata": {},
     "output_type": "execute_result"
    }
   ],
   "source": [
    "# 距離行列の計算\n",
    "dm = distance.pdist(X)\n",
    "dm.shape"
   ]
  },
  {
   "cell_type": "code",
   "execution_count": 42,
   "id": "3cd0e1a9",
   "metadata": {},
   "outputs": [
    {
     "data": {
      "text/plain": [
       "array([62.45937485, 21.80869611, 13.11351286,  9.32426812,  7.30491803,\n",
       "        5.84466563,  4.82368569,  4.10324567,  3.58317635,  3.20673633,\n",
       "        2.88363326,  2.60396141,  2.36076063,  2.1615325 ,  1.98226999,\n",
       "        1.82489544,  1.6939219 ,  1.57437788,  1.4767004 ,  1.38405195,\n",
       "        1.30437292,  1.2269715 ,  1.15234326,  1.08086139,  1.01704972,\n",
       "        0.96510953,  0.91450063,  0.86615484,  0.82285022,  0.78194322,\n",
       "        0.74097546,  0.70386959,  0.67144499,  0.63748433,  0.60553086,\n",
       "        0.57618447,  0.55108599,  0.52422649,  0.49851683,  0.47532145,\n",
       "        0.45187448,  0.42943165,  0.40411026,  0.37975338,  0.35758545,\n",
       "        0.33577553,  0.31074692,  0.28499511,  0.25379741,  0.21507332])"
      ]
     },
     "execution_count": 42,
     "metadata": {},
     "output_type": "execute_result"
    }
   ],
   "source": [
    "# 距離の分位点からgammaの候補値を設定\n",
    "cg = 1/np.percentile(dm, np.arange(1, 100, 2)) ** 2\n",
    "cg"
   ]
  },
  {
   "cell_type": "code",
   "execution_count": 43,
   "id": "49f229f8",
   "metadata": {},
   "outputs": [],
   "source": [
    "ncv = 5 # K = 5でK重交差検証法を実行\n",
    "cvg = np.array([])\n",
    "for g in cg: # gamma毎に検証誤差を計算\n",
    "    sv = SVC(kernel='rbf', gamma=g, C = 1)\n",
    "    cv = cross_validate(sv, X, y, scoring='accuracy', cv = ncv)\n",
    "    cvg = np.r_[cvg, np.mean(cv['test_score'])]\n",
    "    "
   ]
  },
  {
   "cell_type": "code",
   "execution_count": 44,
   "id": "7372ed5e",
   "metadata": {},
   "outputs": [],
   "source": [
    "cverr = 1 - cvg #検証誤差"
   ]
  },
  {
   "cell_type": "code",
   "execution_count": 45,
   "id": "90dc5294",
   "metadata": {},
   "outputs": [
    {
     "data": {
      "text/plain": [
       "9.324268117469567"
      ]
     },
     "execution_count": 45,
     "metadata": {},
     "output_type": "execute_result"
    }
   ],
   "source": [
    "opt_gamma = cg[np.argmin(cverr)] #最適なgamma\n",
    "opt_gamma"
   ]
  },
  {
   "cell_type": "code",
   "execution_count": 46,
   "id": "0706e283",
   "metadata": {},
   "outputs": [
    {
     "data": {
      "text/plain": [
       "<matplotlib.collections.PathCollection at 0x119fd8220>"
      ]
     },
     "execution_count": 46,
     "metadata": {},
     "output_type": "execute_result"
    },
    {
     "data": {
      "image/png": "[encoded data removed]",
      "text/plain": [
       "<Figure size 432x288 with 1 Axes>"
      ]
     },
     "metadata": {
      "needs_background": "light"
     },
     "output_type": "display_data"
    }
   ],
   "source": [
    "plt.scatter(cg, cverr)"
   ]
  },
  {
   "cell_type": "code",
   "execution_count": 52,
   "id": "20696123",
   "metadata": {},
   "outputs": [],
   "source": [
    "# 多値判別\n",
    "# 一対一法(one-vs-one)\n",
    "G = 8 # 8クラスの多値判別\n",
    "X, y = ml.twoDnormals(500, cl = G, sd = 0.8) # トレーニングデータ\n",
    "tX, ty = ml.twoDnormals(1000, cl = G, sd = 0.8) # テストデータ"
   ]
  },
  {
   "cell_type": "code",
   "execution_count": 53,
   "id": "917b2793",
   "metadata": {},
   "outputs": [
    {
     "data": {
      "text/plain": [
       "0.19399999999999995"
      ]
     },
     "execution_count": 53,
     "metadata": {},
     "output_type": "execute_result"
    }
   ],
   "source": [
    "# 一対一法のサポートベクトルマシンで多値判別\n",
    "# 線形カーネル\n",
    "svlin = SVC(kernel='linear', decision_function_shape='ovo')\n",
    "svlin.fit(X, y) # フィッティング\n",
    "1 - svlin.score(tX, ty) # テスト誤差"
   ]
  },
  {
   "cell_type": "code",
   "execution_count": 55,
   "id": "04d011a1",
   "metadata": {},
   "outputs": [
    {
     "data": {
      "text/plain": [
       "0.19399999999999995"
      ]
     },
     "execution_count": 55,
     "metadata": {},
     "output_type": "execute_result"
    }
   ],
   "source": [
    "# ガウスカーネル\n",
    "svrbf = SVC(kernel='rbf', decision_function_shape='ovo')\n",
    "svrbf.fit(X, y) # フィッティング\n",
    "1 - svlin.score(tX, ty) # テスト誤差"
   ]
  },
  {
   "cell_type": "code",
   "execution_count": 56,
   "id": "01a7a5b5",
   "metadata": {},
   "outputs": [],
   "source": [
    "# 手書き文字認識\n",
    "from scipy.spatial import distance # distanceを使う"
   ]
  },
  {
   "cell_type": "code",
   "execution_count": 57,
   "id": "31ed7eaf",
   "metadata": {},
   "outputs": [],
   "source": [
    "# データを読み込む\n",
    "tr = pd.read_csv('data/optdigits_train.csv').values\n",
    "te = pd.read_csv('data/optdigits_test.csv').values"
   ]
  },
  {
   "cell_type": "code",
   "execution_count": 58,
   "id": "c60f7496",
   "metadata": {},
   "outputs": [
    {
     "name": "stdout",
     "output_type": "stream",
     "text": [
      "(3822, 65) (1796, 65)\n"
     ]
    }
   ],
   "source": [
    "print(tr.shape, te.shape)"
   ]
  },
  {
   "cell_type": "code",
   "execution_count": 59,
   "id": "1e241278",
   "metadata": {},
   "outputs": [],
   "source": [
    "X, y = tr[:, :64], tr[:, 64]\n",
    "tX, ty = te[:, :64], te[:, 64]"
   ]
  },
  {
   "cell_type": "code",
   "execution_count": 61,
   "id": "d1d354c1",
   "metadata": {},
   "outputs": [
    {
     "data": {
      "text/plain": [
       "0.0"
      ]
     },
     "execution_count": 61,
     "metadata": {},
     "output_type": "execute_result"
    }
   ],
   "source": [
    "# 線形カーネルで学習\n",
    "svlin = SVC(kernel='linear', decision_function_shape='ovo')\n",
    "svlin.fit(X, y)\n",
    "# トレーニング誤差\n",
    "1 - svlin.score(X, y)"
   ]
  },
  {
   "cell_type": "code",
   "execution_count": 63,
   "id": "60904de8",
   "metadata": {},
   "outputs": [
    {
     "data": {
      "text/plain": [
       "0.03897550111358572"
      ]
     },
     "execution_count": 63,
     "metadata": {},
     "output_type": "execute_result"
    }
   ],
   "source": [
    "# テスト誤差\n",
    "1 - svlin.score(tX, ty)"
   ]
  },
  {
   "cell_type": "code",
   "execution_count": 64,
   "id": "732ad92a",
   "metadata": {},
   "outputs": [],
   "source": [
    "# ガウスカーネルによる学習\n",
    "# 1部のデータを使ってヒューリスティックでgammaを設定\n",
    "pX = X[np.random.choice(X.shape[0], round(X.shape[0]/10)), :]"
   ]
  },
  {
   "cell_type": "code",
   "execution_count": 65,
   "id": "ef1eba1e",
   "metadata": {},
   "outputs": [
    {
     "data": {
      "text/plain": [
       "0.0004152823920265781"
      ]
     },
     "execution_count": 65,
     "metadata": {},
     "output_type": "execute_result"
    }
   ],
   "source": [
    "# 距離行列からgammaの値を設定\n",
    "# 類似度の平均を取ってるイメージ\n",
    "g = 1/np.median(distance.pdist(pX)) ** 2\n",
    "g"
   ]
  },
  {
   "cell_type": "code",
   "execution_count": 66,
   "id": "10be712d",
   "metadata": {},
   "outputs": [
    {
     "data": {
      "text/plain": [
       "0.006802721088435382"
      ]
     },
     "execution_count": 66,
     "metadata": {},
     "output_type": "execute_result"
    }
   ],
   "source": [
    "svrbf = SVC(kernel='rbf', gamma=g, decision_function_shape='ovo')\n",
    "svrbf.fit(X, y)\n",
    "1 - svrbf.score(X, y) # トレーニング誤差"
   ]
  },
  {
   "cell_type": "code",
   "execution_count": 68,
   "id": "fed5cd6e",
   "metadata": {},
   "outputs": [
    {
     "data": {
      "text/plain": [
       "0.024498886414253906"
      ]
     },
     "execution_count": 68,
     "metadata": {},
     "output_type": "execute_result"
    }
   ],
   "source": [
    "1 - svrbf.score(tX, ty) # テスト誤差"
   ]
  },
  {
   "cell_type": "code",
   "execution_count": 69,
   "id": "faac9652",
   "metadata": {},
   "outputs": [
    {
     "data": {
      "text/plain": [
       "0.0"
      ]
     },
     "execution_count": 69,
     "metadata": {},
     "output_type": "execute_result"
    }
   ],
   "source": [
    "# カーネル幅(類似度の幅)を変えるとテスト誤差が大きく変化する\n",
    "g  = 0.01\n",
    "svrbf = SVC(kernel='rbf', decision_function_shape='ovo', gamma=g)\n",
    "svrbf.fit(X, y)\n",
    "1 - svrbf.score(X, y)"
   ]
  },
  {
   "cell_type": "code",
   "execution_count": 70,
   "id": "ad73a574",
   "metadata": {},
   "outputs": [
    {
     "data": {
      "text/plain": [
       "0.2611358574610245"
      ]
     },
     "execution_count": 70,
     "metadata": {},
     "output_type": "execute_result"
    }
   ],
   "source": [
    "1 - svrbf.score(tX, ty) # テスト誤差"
   ]
  },
  {
   "cell_type": "code",
   "execution_count": null,
   "id": "f2ccfb7e",
   "metadata": {},
   "outputs": [],
   "source": []
  }
 ],
 "metadata": {
  "kernelspec": {
   "display_name": "Python 3",
   "language": "python",
   "name": "python3"
  },
  "language_info": {
   "codemirror_mode": {
    "name": "ipython",
    "version": 3
   },
   "file_extension": ".py",
   "mimetype": "text/x-python",
   "name": "python",
   "nbconvert_exporter": "python",
   "pygments_lexer": "ipython3",
   "version": "3.8.5"
  }
 },
 "nbformat": 4,
 "nbformat_minor": 5
}
