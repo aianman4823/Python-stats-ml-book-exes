{
 "cells": [
  {
   "cell_type": "code",
   "execution_count": 20,
   "id": "fbd5d405",
   "metadata": {},
   "outputs": [],
   "source": [
    "import numpy as np\n",
    "from scipy  import stats\n",
    "import scipy as sp"
   ]
  },
  {
   "cell_type": "code",
   "execution_count": 8,
   "id": "721d6341",
   "metadata": {},
   "outputs": [
    {
     "data": {
      "text/plain": [
       "array([4, 2, 6, 1, 4, 4, 3, 2, 5, 3])"
      ]
     },
     "execution_count": 8,
     "metadata": {},
     "output_type": "execute_result"
    }
   ],
   "source": [
    "# デフォルトはreplace = Trueになっており、このような被りを許可した抽出の仕方を復元抽出という\n",
    "np.random.choice(np.arange(1, 7), 10)\n",
    "# Falseにした場合は、非復元抽出という\n",
    "# np.random.choice(np.arange(1, 7), 6, replace=False)"
   ]
  },
  {
   "cell_type": "code",
   "execution_count": 9,
   "id": "a9037078",
   "metadata": {},
   "outputs": [
    {
     "data": {
      "text/plain": [
       "array([5, 5, 1, 5, 5, 5, 4, 4, 6, 5])"
      ]
     },
     "execution_count": 9,
     "metadata": {},
     "output_type": "execute_result"
    }
   ],
   "source": [
    "# np.random.choiceでは、標本が等確率でサンプリングされる\n",
    "# 抽出する確率を変更したかったらpオプションを指定する\n",
    "# 4,5,6が多く出るように調節\n",
    "p = np.array([1, 1,1,3,3,3])\n",
    "p = p/np.sum(p)\n",
    "np.random.choice(np.arange(1, 7), 10, p=p)"
   ]
  },
  {
   "cell_type": "code",
   "execution_count": 10,
   "id": "1a60c5e9",
   "metadata": {},
   "outputs": [
    {
     "data": {
      "text/plain": [
       "0.9428910541873803"
      ]
     },
     "execution_count": 10,
     "metadata": {},
     "output_type": "execute_result"
    }
   ],
   "source": [
    "# 期待値1、標準偏差2の正規分布に従うデータを100個生成\n",
    "x = np.random.normal(1, 2, 100)\n",
    "x.mean()"
   ]
  },
  {
   "cell_type": "code",
   "execution_count": 11,
   "id": "e36f407e",
   "metadata": {},
   "outputs": [
    {
     "data": {
      "text/plain": [
       "2.1086374009012747"
      ]
     },
     "execution_count": 11,
     "metadata": {},
     "output_type": "execute_result"
    }
   ],
   "source": [
    "x.std()"
   ]
  },
  {
   "cell_type": "code",
   "execution_count": 12,
   "id": "ce7edc50",
   "metadata": {},
   "outputs": [
    {
     "data": {
      "text/plain": [
       "0.68"
      ]
     },
     "execution_count": 12,
     "metadata": {},
     "output_type": "execute_result"
    }
   ],
   "source": [
    "# |x - E[x]| <= sd(x)となるデータの割合\n",
    "np.mean(np.abs(x - x.mean())<= np.std(x))"
   ]
  },
  {
   "cell_type": "code",
   "execution_count": 13,
   "id": "6f2fee0b",
   "metadata": {},
   "outputs": [
    {
     "data": {
      "text/plain": [
       "0.95"
      ]
     },
     "execution_count": 13,
     "metadata": {},
     "output_type": "execute_result"
    }
   ],
   "source": [
    "# |x - E[x]| <= 2*sd(x)となるデータの割合\n",
    "np.mean(np.abs(x - x.mean())<= 2 *np.std(x))"
   ]
  },
  {
   "cell_type": "code",
   "execution_count": 16,
   "id": "6158d489",
   "metadata": {},
   "outputs": [
    {
     "data": {
      "text/plain": [
       "0.95"
      ]
     },
     "execution_count": 16,
     "metadata": {},
     "output_type": "execute_result"
    }
   ],
   "source": [
    "np.sum(np.abs(x - x.mean())<= 2 *np.std(x)) / (np.abs(x - x.mean())<= 2 *np.std(x)).size"
   ]
  },
  {
   "cell_type": "code",
   "execution_count": 21,
   "id": "6ab40a44",
   "metadata": {},
   "outputs": [
    {
     "data": {
      "text/plain": [
       "0.5244005127080407"
      ]
     },
     "execution_count": 21,
     "metadata": {},
     "output_type": "execute_result"
    }
   ],
   "source": [
    "# scipyでstatsを利用する場合は直接importで指定してやる必要がある\n",
    "stats.norm.ppf(0.7)"
   ]
  },
  {
   "cell_type": "code",
   "execution_count": 22,
   "id": "568e6401",
   "metadata": {},
   "outputs": [
    {
     "data": {
      "text/plain": [
       "2.0488010254160813"
      ]
     },
     "execution_count": 22,
     "metadata": {},
     "output_type": "execute_result"
    }
   ],
   "source": [
    "stats.norm.ppf(0.7, loc = 1, scale=2)"
   ]
  },
  {
   "cell_type": "code",
   "execution_count": 23,
   "id": "bc4cace3",
   "metadata": {},
   "outputs": [
    {
     "data": {
      "text/plain": [
       "1.6448536269514722"
      ]
     },
     "execution_count": 23,
     "metadata": {},
     "output_type": "execute_result"
    }
   ],
   "source": [
    "alpha = 0.05\n",
    "stats.norm.ppf(1-alpha)"
   ]
  },
  {
   "cell_type": "code",
   "execution_count": 24,
   "id": "370b1782",
   "metadata": {},
   "outputs": [],
   "source": [
    "from sklearn.datasets import load_iris"
   ]
  },
  {
   "cell_type": "code",
   "execution_count": 28,
   "id": "24cfe6a6",
   "metadata": {},
   "outputs": [
    {
     "data": {
      "text/plain": [
       "(150, 4)"
      ]
     },
     "execution_count": 28,
     "metadata": {},
     "output_type": "execute_result"
    }
   ],
   "source": [
    "iris = load_iris()\n",
    "iris.data.shape"
   ]
  },
  {
   "cell_type": "code",
   "execution_count": 29,
   "id": "0f24752c",
   "metadata": {},
   "outputs": [
    {
     "data": {
      "text/plain": [
       "array([[ 0.68569351, -0.042434  ,  1.27431544,  0.51627069],\n",
       "       [-0.042434  ,  0.18997942, -0.32965638, -0.12163937],\n",
       "       [ 1.27431544, -0.32965638,  3.11627785,  1.2956094 ],\n",
       "       [ 0.51627069, -0.12163937,  1.2956094 ,  0.58100626]])"
      ]
     },
     "execution_count": 29,
     "metadata": {},
     "output_type": "execute_result"
    }
   ],
   "source": [
    "# np.covは引数に確率変数の転置行列を入れてやることで分散共分散行列を得られる\n",
    "# 標本共分散と母集団の共分散は異なることを前提に押さえておく\n",
    "np.cov(iris.data.T)"
   ]
  },
  {
   "cell_type": "code",
   "execution_count": 30,
   "id": "7fccd2c6",
   "metadata": {},
   "outputs": [
    {
     "data": {
      "text/plain": [
       "array([[ 1.        , -0.11756978,  0.87175378,  0.81794113],\n",
       "       [-0.11756978,  1.        , -0.4284401 , -0.36612593],\n",
       "       [ 0.87175378, -0.4284401 ,  1.        ,  0.96286543],\n",
       "       [ 0.81794113, -0.36612593,  0.96286543,  1.        ]])"
      ]
     },
     "execution_count": 30,
     "metadata": {},
     "output_type": "execute_result"
    }
   ],
   "source": [
    "# 標本相関係数 相関係数行列(データ行列の転置を入れる)\n",
    "np.corrcoef(iris.data.T)"
   ]
  },
  {
   "cell_type": "code",
   "execution_count": 32,
   "id": "919b34d1",
   "metadata": {},
   "outputs": [
    {
     "data": {
      "text/plain": [
       "['sepal length (cm)',\n",
       " 'sepal width (cm)',\n",
       " 'petal length (cm)',\n",
       " 'petal width (cm)']"
      ]
     },
     "execution_count": 32,
     "metadata": {},
     "output_type": "execute_result"
    }
   ],
   "source": [
    "iris.feature_names"
   ]
  },
  {
   "cell_type": "code",
   "execution_count": null,
   "id": "1467c5b4",
   "metadata": {},
   "outputs": [],
   "source": []
  }
 ],
 "metadata": {
  "kernelspec": {
   "display_name": "Python 3",
   "language": "python",
   "name": "python3"
  },
  "language_info": {
   "codemirror_mode": {
    "name": "ipython",
    "version": 3
   },
   "file_extension": ".py",
   "mimetype": "text/x-python",
   "name": "python",
   "nbconvert_exporter": "python",
   "pygments_lexer": "ipython3",
   "version": "3.8.5"
  }
 },
 "nbformat": 4,
 "nbformat_minor": 5
}
