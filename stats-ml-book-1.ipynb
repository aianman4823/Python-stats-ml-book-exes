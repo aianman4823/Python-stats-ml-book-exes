{
 "cells": [
  {
   "cell_type": "code",
   "execution_count": 1,
   "id": "28d1f5e5",
   "metadata": {},
   "outputs": [
    {
     "name": "stderr",
     "output_type": "stream",
     "text": [
      "/Users/akito_harada/Documents/python/stats/ml/venv/lib/python3.8/site-packages/pandas/compat/__init__.py:97: UserWarning: Could not import the lzma module. Your installed Python is incomplete. Attempting to use lzma compression will result in a RuntimeError.\n",
      "  warnings.warn(msg)\n"
     ]
    }
   ],
   "source": [
    "import numpy as np\n",
    "import scipy as sp\n",
    "import pandas as pd\n",
    "import matplotlib.pyplot as plt"
   ]
  },
  {
   "cell_type": "code",
   "execution_count": 2,
   "id": "a04944b2",
   "metadata": {},
   "outputs": [
    {
     "data": {
      "text/plain": [
       "0.7071067811865475"
      ]
     },
     "execution_count": 2,
     "metadata": {},
     "output_type": "execute_result"
    }
   ],
   "source": [
    "np.sin(np.pi/4)"
   ]
  },
  {
   "cell_type": "code",
   "execution_count": 3,
   "id": "33acaf66",
   "metadata": {},
   "outputs": [
    {
     "data": {
      "text/plain": [
       "0.7071067811865475"
      ]
     },
     "execution_count": 3,
     "metadata": {},
     "output_type": "execute_result"
    }
   ],
   "source": [
    "1/np.sqrt(2)"
   ]
  },
  {
   "cell_type": "code",
   "execution_count": 4,
   "id": "0d189642",
   "metadata": {},
   "outputs": [
    {
     "data": {
      "text/plain": [
       "12.3"
      ]
     },
     "execution_count": 4,
     "metadata": {},
     "output_type": "execute_result"
    }
   ],
   "source": [
    "10 ** 2 * 1e-3 * 1.23e2"
   ]
  },
  {
   "cell_type": "code",
   "execution_count": 5,
   "id": "6868f6f2",
   "metadata": {},
   "outputs": [
    {
     "data": {
      "text/plain": [
       "1"
      ]
     },
     "execution_count": 5,
     "metadata": {},
     "output_type": "execute_result"
    }
   ],
   "source": [
    "0**0"
   ]
  },
  {
   "cell_type": "code",
   "execution_count": 6,
   "id": "47bc5a62",
   "metadata": {},
   "outputs": [
    {
     "data": {
      "text/plain": [
       "3"
      ]
     },
     "execution_count": 6,
     "metadata": {},
     "output_type": "execute_result"
    }
   ],
   "source": [
    "10 // 3"
   ]
  },
  {
   "cell_type": "code",
   "execution_count": 7,
   "id": "42bc2dd6",
   "metadata": {},
   "outputs": [
    {
     "data": {
      "text/plain": [
       "1"
      ]
     },
     "execution_count": 7,
     "metadata": {},
     "output_type": "execute_result"
    }
   ],
   "source": [
    "10%3"
   ]
  },
  {
   "cell_type": "code",
   "execution_count": 8,
   "id": "34bf3ca7",
   "metadata": {},
   "outputs": [
    {
     "data": {
      "text/plain": [
       "0.0"
      ]
     },
     "execution_count": 8,
     "metadata": {},
     "output_type": "execute_result"
    }
   ],
   "source": [
    "1/np.inf"
   ]
  },
  {
   "cell_type": "code",
   "execution_count": 9,
   "id": "dcc9851c",
   "metadata": {},
   "outputs": [
    {
     "data": {
      "text/plain": [
       "True"
      ]
     },
     "execution_count": 9,
     "metadata": {},
     "output_type": "execute_result"
    }
   ],
   "source": [
    "1 ==1"
   ]
  },
  {
   "cell_type": "code",
   "execution_count": 10,
   "id": "45181b45",
   "metadata": {},
   "outputs": [
    {
     "data": {
      "text/plain": [
       "False"
      ]
     },
     "execution_count": 10,
     "metadata": {},
     "output_type": "execute_result"
    }
   ],
   "source": [
    "1!=1"
   ]
  },
  {
   "cell_type": "code",
   "execution_count": 11,
   "id": "537bdb9b",
   "metadata": {},
   "outputs": [
    {
     "data": {
      "text/plain": [
       "True"
      ]
     },
     "execution_count": 11,
     "metadata": {},
     "output_type": "execute_result"
    }
   ],
   "source": [
    "np.inf == np.inf"
   ]
  },
  {
   "cell_type": "code",
   "execution_count": 12,
   "id": "db0d0943",
   "metadata": {},
   "outputs": [
    {
     "data": {
      "text/plain": [
       "True"
      ]
     },
     "execution_count": 12,
     "metadata": {},
     "output_type": "execute_result"
    }
   ],
   "source": [
    "-np.inf < 1 and 1 < np.inf"
   ]
  },
  {
   "cell_type": "code",
   "execution_count": 13,
   "id": "446e51bd",
   "metadata": {},
   "outputs": [
    {
     "data": {
      "text/plain": [
       "False"
      ]
     },
     "execution_count": 13,
     "metadata": {},
     "output_type": "execute_result"
    }
   ],
   "source": [
    "1 < 2 and 3 < -1"
   ]
  },
  {
   "cell_type": "code",
   "execution_count": 14,
   "id": "56898dcc",
   "metadata": {},
   "outputs": [
    {
     "data": {
      "text/plain": [
       "True"
      ]
     },
     "execution_count": 14,
     "metadata": {},
     "output_type": "execute_result"
    }
   ],
   "source": [
    "1 < 2 or 3 < -1"
   ]
  },
  {
   "cell_type": "code",
   "execution_count": 15,
   "id": "8816fb33",
   "metadata": {},
   "outputs": [
    {
     "data": {
      "text/plain": [
       "True"
      ]
     },
     "execution_count": 15,
     "metadata": {},
     "output_type": "execute_result"
    }
   ],
   "source": [
    "not (-1 < 3 and 2 > 3)"
   ]
  },
  {
   "cell_type": "code",
   "execution_count": 16,
   "id": "dab6d1ac",
   "metadata": {},
   "outputs": [
    {
     "data": {
      "text/plain": [
       "False"
      ]
     },
     "execution_count": 16,
     "metadata": {},
     "output_type": "execute_result"
    }
   ],
   "source": [
    "not -1 < 3 and 2 > 3"
   ]
  },
  {
   "cell_type": "code",
   "execution_count": 17,
   "id": "bc13c6bd",
   "metadata": {},
   "outputs": [
    {
     "data": {
      "text/plain": [
       "True"
      ]
     },
     "execution_count": 17,
     "metadata": {},
     "output_type": "execute_result"
    }
   ],
   "source": [
    "not -1 < 3 or 2<3"
   ]
  },
  {
   "cell_type": "code",
   "execution_count": 18,
   "id": "9157c001",
   "metadata": {},
   "outputs": [
    {
     "data": {
      "text/plain": [
       "False"
      ]
     },
     "execution_count": 18,
     "metadata": {},
     "output_type": "execute_result"
    }
   ],
   "source": [
    "not - 1 < 3 or 2 > 3"
   ]
  },
  {
   "cell_type": "code",
   "execution_count": 19,
   "id": "2377dbe9",
   "metadata": {},
   "outputs": [
    {
     "data": {
      "text/plain": [
       "False"
      ]
     },
     "execution_count": 19,
     "metadata": {},
     "output_type": "execute_result"
    }
   ],
   "source": [
    "not (-1 < 3 or 2 > 3)"
   ]
  },
  {
   "cell_type": "code",
   "execution_count": 20,
   "id": "abcccc0c",
   "metadata": {},
   "outputs": [],
   "source": [
    "x = np.array([4, -1])"
   ]
  },
  {
   "cell_type": "code",
   "execution_count": 21,
   "id": "7bf01655",
   "metadata": {},
   "outputs": [
    {
     "data": {
      "text/plain": [
       "1"
      ]
     },
     "execution_count": 21,
     "metadata": {},
     "output_type": "execute_result"
    }
   ],
   "source": [
    "x.ndim\n"
   ]
  },
  {
   "cell_type": "code",
   "execution_count": 22,
   "id": "63d7a7ae",
   "metadata": {},
   "outputs": [
    {
     "data": {
      "text/plain": [
       "(2,)"
      ]
     },
     "execution_count": 22,
     "metadata": {},
     "output_type": "execute_result"
    }
   ],
   "source": [
    "x.shape"
   ]
  },
  {
   "cell_type": "code",
   "execution_count": 23,
   "id": "b695466b",
   "metadata": {},
   "outputs": [
    {
     "data": {
      "text/plain": [
       "array([-3, -2, -1,  0,  1,  2,  3,  4])"
      ]
     },
     "execution_count": 23,
     "metadata": {},
     "output_type": "execute_result"
    }
   ],
   "source": [
    "np.arange(-3, 5)"
   ]
  },
  {
   "cell_type": "code",
   "execution_count": 24,
   "id": "8c3b3bf8",
   "metadata": {},
   "outputs": [],
   "source": [
    "a = np.array([[1, 2], [3, 4]])\n",
    "b = np.array([[-1,-2], [-3, -4]])"
   ]
  },
  {
   "cell_type": "code",
   "execution_count": 25,
   "id": "eb666366",
   "metadata": {},
   "outputs": [
    {
     "data": {
      "text/plain": [
       "array([[1, 2],\n",
       "       [3, 4]])"
      ]
     },
     "execution_count": 25,
     "metadata": {},
     "output_type": "execute_result"
    }
   ],
   "source": [
    "a"
   ]
  },
  {
   "cell_type": "code",
   "execution_count": 26,
   "id": "8507f577",
   "metadata": {},
   "outputs": [
    {
     "data": {
      "text/plain": [
       "array([[-1, -2],\n",
       "       [-3, -4]])"
      ]
     },
     "execution_count": 26,
     "metadata": {},
     "output_type": "execute_result"
    }
   ],
   "source": [
    "b"
   ]
  },
  {
   "cell_type": "code",
   "execution_count": 27,
   "id": "417fd0a7",
   "metadata": {},
   "outputs": [
    {
     "data": {
      "text/plain": [
       "array([[ 1,  2],\n",
       "       [ 3,  4],\n",
       "       [-1, -2],\n",
       "       [-3, -4]])"
      ]
     },
     "execution_count": 27,
     "metadata": {},
     "output_type": "execute_result"
    }
   ],
   "source": [
    "# np.r_は行列を縦方向に並べる\n",
    "np.r_[a, b]\n"
   ]
  },
  {
   "cell_type": "code",
   "execution_count": 28,
   "id": "3c2ab4e4",
   "metadata": {},
   "outputs": [],
   "source": [
    "# np.c_は行列を横方向に並べる\n",
    "X = np.c_[a, b]"
   ]
  },
  {
   "cell_type": "code",
   "execution_count": 29,
   "id": "0b6c8285",
   "metadata": {},
   "outputs": [
    {
     "data": {
      "text/plain": [
       "array([[ 1,  3],\n",
       "       [ 2,  4],\n",
       "       [-1, -3],\n",
       "       [-2, -4]])"
      ]
     },
     "execution_count": 29,
     "metadata": {},
     "output_type": "execute_result"
    }
   ],
   "source": [
    "# .Tは転置行列\n",
    "X.T"
   ]
  },
  {
   "cell_type": "code",
   "execution_count": 30,
   "id": "f6bd2195",
   "metadata": {},
   "outputs": [
    {
     "data": {
      "text/plain": [
       "(2, 4)"
      ]
     },
     "execution_count": 30,
     "metadata": {},
     "output_type": "execute_result"
    }
   ],
   "source": [
    "X.shape"
   ]
  },
  {
   "cell_type": "code",
   "execution_count": 31,
   "id": "9c607a45",
   "metadata": {},
   "outputs": [
    {
     "data": {
      "text/plain": [
       "(4, 2)"
      ]
     },
     "execution_count": 31,
     "metadata": {},
     "output_type": "execute_result"
    }
   ],
   "source": [
    "X.T.shape"
   ]
  },
  {
   "cell_type": "code",
   "execution_count": 32,
   "id": "2ef5579e",
   "metadata": {},
   "outputs": [
    {
     "data": {
      "text/plain": [
       "array([0, 1, 2, 3, 4, 5, 6, 7, 8, 9])"
      ]
     },
     "execution_count": 32,
     "metadata": {},
     "output_type": "execute_result"
    }
   ],
   "source": [
    "np.arange(10)"
   ]
  },
  {
   "cell_type": "code",
   "execution_count": 33,
   "id": "f9327871",
   "metadata": {},
   "outputs": [
    {
     "data": {
      "text/plain": [
       "array([2, 3, 4, 5, 6, 7, 8, 9])"
      ]
     },
     "execution_count": 33,
     "metadata": {},
     "output_type": "execute_result"
    }
   ],
   "source": [
    "np.arange(2, 10)"
   ]
  },
  {
   "cell_type": "code",
   "execution_count": 34,
   "id": "fb541169",
   "metadata": {},
   "outputs": [
    {
     "data": {
      "text/plain": [
       "array([ 2,  6, 10, 14, 18])"
      ]
     },
     "execution_count": 34,
     "metadata": {},
     "output_type": "execute_result"
    }
   ],
   "source": [
    "np.arange(2, 20, 4)"
   ]
  },
  {
   "cell_type": "code",
   "execution_count": 35,
   "id": "3f450d99",
   "metadata": {},
   "outputs": [
    {
     "data": {
      "text/plain": [
       "array([ 9. ,  7.5,  6. ,  4.5,  3. ,  1.5,  0. , -1.5])"
      ]
     },
     "execution_count": 35,
     "metadata": {},
     "output_type": "execute_result"
    }
   ],
   "source": [
    "v = np.arange(9, -2, -1.5)\n",
    "v"
   ]
  },
  {
   "cell_type": "code",
   "execution_count": 36,
   "id": "ddc88182",
   "metadata": {},
   "outputs": [
    {
     "data": {
      "text/plain": [
       "9.0"
      ]
     },
     "execution_count": 36,
     "metadata": {},
     "output_type": "execute_result"
    }
   ],
   "source": [
    "v[0]"
   ]
  },
  {
   "cell_type": "code",
   "execution_count": 37,
   "id": "4671e4da",
   "metadata": {},
   "outputs": [
    {
     "data": {
      "text/plain": [
       "array([9. , 7.5, 6. ])"
      ]
     },
     "execution_count": 37,
     "metadata": {},
     "output_type": "execute_result"
    }
   ],
   "source": [
    "v[0:3]"
   ]
  },
  {
   "cell_type": "code",
   "execution_count": 38,
   "id": "3a16a64d",
   "metadata": {},
   "outputs": [
    {
     "data": {
      "text/plain": [
       "array([7.5, 6. ])"
      ]
     },
     "execution_count": 38,
     "metadata": {},
     "output_type": "execute_result"
    }
   ],
   "source": [
    "v[1:3]"
   ]
  },
  {
   "cell_type": "code",
   "execution_count": 39,
   "id": "29d9b3bd",
   "metadata": {},
   "outputs": [
    {
     "data": {
      "text/plain": [
       "array([9. , 7.5, 6. ])"
      ]
     },
     "execution_count": 39,
     "metadata": {},
     "output_type": "execute_result"
    }
   ],
   "source": [
    "v[:3]"
   ]
  },
  {
   "cell_type": "code",
   "execution_count": 40,
   "id": "5336a43d",
   "metadata": {},
   "outputs": [
    {
     "data": {
      "text/plain": [
       "array([ 4.5,  3. ,  1.5,  0. , -1.5])"
      ]
     },
     "execution_count": 40,
     "metadata": {},
     "output_type": "execute_result"
    }
   ],
   "source": [
    "v[3:]"
   ]
  },
  {
   "cell_type": "code",
   "execution_count": 41,
   "id": "685bb33a",
   "metadata": {},
   "outputs": [
    {
     "data": {
      "text/plain": [
       "array([ True,  True,  True,  True,  True,  True, False, False])"
      ]
     },
     "execution_count": 41,
     "metadata": {},
     "output_type": "execute_result"
    }
   ],
   "source": [
    "v>0"
   ]
  },
  {
   "cell_type": "code",
   "execution_count": 42,
   "id": "1b8be8c6",
   "metadata": {},
   "outputs": [
    {
     "data": {
      "text/plain": [
       "array([9. , 7.5, 6. , 4.5, 3. , 1.5])"
      ]
     },
     "execution_count": 42,
     "metadata": {},
     "output_type": "execute_result"
    }
   ],
   "source": [
    "v[v>0]"
   ]
  },
  {
   "cell_type": "code",
   "execution_count": 43,
   "id": "c4b8f2b0",
   "metadata": {},
   "outputs": [
    {
     "data": {
      "text/plain": [
       "array([[ 1,  2,  3,  4],\n",
       "       [ 5,  6,  7,  8],\n",
       "       [ 9, 10, 11, 12]])"
      ]
     },
     "execution_count": 43,
     "metadata": {},
     "output_type": "execute_result"
    }
   ],
   "source": [
    "A = np.arange(1, 13).reshape(3, 4)\n",
    "A"
   ]
  },
  {
   "cell_type": "code",
   "execution_count": 44,
   "id": "876cbc1b",
   "metadata": {},
   "outputs": [
    {
     "data": {
      "text/plain": [
       "2"
      ]
     },
     "execution_count": 44,
     "metadata": {},
     "output_type": "execute_result"
    }
   ],
   "source": [
    "A[0, 1]"
   ]
  },
  {
   "cell_type": "code",
   "execution_count": 45,
   "id": "3239cacf",
   "metadata": {},
   "outputs": [
    {
     "data": {
      "text/plain": [
       "array([ 3,  7, 11])"
      ]
     },
     "execution_count": 45,
     "metadata": {},
     "output_type": "execute_result"
    }
   ],
   "source": [
    "A[:, 2]"
   ]
  },
  {
   "cell_type": "code",
   "execution_count": 46,
   "id": "a6bc8f1d",
   "metadata": {},
   "outputs": [
    {
     "data": {
      "text/plain": [
       "array([[ 7,  8],\n",
       "       [11, 12]])"
      ]
     },
     "execution_count": 46,
     "metadata": {},
     "output_type": "execute_result"
    }
   ],
   "source": [
    "A[1:, 2:]"
   ]
  },
  {
   "cell_type": "code",
   "execution_count": 47,
   "id": "fd382fb1",
   "metadata": {},
   "outputs": [
    {
     "data": {
      "text/plain": [
       "array([[ 1,  3],\n",
       "       [ 5,  7],\n",
       "       [ 9, 11]])"
      ]
     },
     "execution_count": 47,
     "metadata": {},
     "output_type": "execute_result"
    }
   ],
   "source": [
    "A[:, [0, 2]]"
   ]
  },
  {
   "cell_type": "code",
   "execution_count": 48,
   "id": "14492043",
   "metadata": {},
   "outputs": [
    {
     "data": {
      "text/plain": [
       "array([[ 4,  3,  2,  1],\n",
       "       [ 8,  7,  6,  5],\n",
       "       [12, 11, 10,  9]])"
      ]
     },
     "execution_count": 48,
     "metadata": {},
     "output_type": "execute_result"
    }
   ],
   "source": [
    "# 列を逆順にする\n",
    "A[:, ::-1]"
   ]
  },
  {
   "cell_type": "code",
   "execution_count": 49,
   "id": "da951a8d",
   "metadata": {},
   "outputs": [
    {
     "data": {
      "text/plain": [
       "array([[12, 11, 10,  9],\n",
       "       [ 8,  7,  6,  5],\n",
       "       [ 4,  3,  2,  1]])"
      ]
     },
     "execution_count": 49,
     "metadata": {},
     "output_type": "execute_result"
    }
   ],
   "source": [
    "# 行・列ともに逆順にする\n",
    "A[::-1, ::-1]"
   ]
  },
  {
   "cell_type": "code",
   "execution_count": 50,
   "id": "f8f18798",
   "metadata": {},
   "outputs": [
    {
     "data": {
      "text/plain": [
       "array([[ 1,  3,  4],\n",
       "       [ 5,  7,  8],\n",
       "       [ 9, 11, 12]])"
      ]
     },
     "execution_count": 50,
     "metadata": {},
     "output_type": "execute_result"
    }
   ],
   "source": [
    "np.delete(A, 1, 1)"
   ]
  },
  {
   "cell_type": "code",
   "execution_count": 51,
   "id": "4dc53e03",
   "metadata": {},
   "outputs": [
    {
     "data": {
      "text/plain": [
       "array([[ 1,  2,  3,  4],\n",
       "       [ 5,  6,  7,  8],\n",
       "       [ 9, 10, 11, 12]])"
      ]
     },
     "execution_count": 51,
     "metadata": {},
     "output_type": "execute_result"
    }
   ],
   "source": [
    "A"
   ]
  },
  {
   "cell_type": "code",
   "execution_count": 52,
   "id": "757b4233",
   "metadata": {},
   "outputs": [
    {
     "data": {
      "text/plain": [
       "array([[ 1,  4],\n",
       "       [ 5,  8],\n",
       "       [ 9, 12]])"
      ]
     },
     "execution_count": 52,
     "metadata": {},
     "output_type": "execute_result"
    }
   ],
   "source": [
    "np.delete(A, [1, 2], 1)"
   ]
  },
  {
   "cell_type": "code",
   "execution_count": 53,
   "id": "924930b8",
   "metadata": {},
   "outputs": [
    {
     "data": {
      "text/plain": [
       "array([[ 1,  2,  3,  4],\n",
       "       [ 9, 10, 11, 12]])"
      ]
     },
     "execution_count": 53,
     "metadata": {},
     "output_type": "execute_result"
    }
   ],
   "source": [
    "# np.deleteは第３引数でaxis = 0(行) or 1(列)を指定しないと先頭から始めて一致した要素をただ削除するメソッドになる\n",
    "np.delete(A, 1, 0)"
   ]
  },
  {
   "cell_type": "code",
   "execution_count": 54,
   "id": "a08e1c05",
   "metadata": {},
   "outputs": [
    {
     "data": {
      "text/plain": [
       "array([[ 1,  2,  3,  4],\n",
       "       [ 5,  6,  7,  8],\n",
       "       [ 9, 10, 11, 12]])"
      ]
     },
     "execution_count": 54,
     "metadata": {},
     "output_type": "execute_result"
    }
   ],
   "source": [
    "A"
   ]
  },
  {
   "cell_type": "code",
   "execution_count": 55,
   "id": "722b23b0",
   "metadata": {},
   "outputs": [
    {
     "data": {
      "text/plain": [
       "3"
      ]
     },
     "execution_count": 55,
     "metadata": {},
     "output_type": "execute_result"
    }
   ],
   "source": [
    "a = [[2, 3,4,5], np.arange(12).reshape(3, 4), \"letter\"]\n",
    "len(a)"
   ]
  },
  {
   "cell_type": "code",
   "execution_count": 56,
   "id": "77062914",
   "metadata": {},
   "outputs": [
    {
     "data": {
      "text/plain": [
       "[[2, 3, 4, 5],\n",
       " array([[ 0,  1,  2,  3],\n",
       "        [ 4,  5,  6,  7],\n",
       "        [ 8,  9, 10, 11]]),\n",
       " 'letter']"
      ]
     },
     "execution_count": 56,
     "metadata": {},
     "output_type": "execute_result"
    }
   ],
   "source": [
    "a"
   ]
  },
  {
   "cell_type": "code",
   "execution_count": 57,
   "id": "d989fa32",
   "metadata": {},
   "outputs": [
    {
     "data": {
      "text/plain": [
       "[2, 3, 4, 5]"
      ]
     },
     "execution_count": 57,
     "metadata": {},
     "output_type": "execute_result"
    }
   ],
   "source": [
    "a[0]"
   ]
  },
  {
   "cell_type": "code",
   "execution_count": 58,
   "id": "5cc1b6c3",
   "metadata": {},
   "outputs": [
    {
     "data": {
      "text/plain": [
       "array([[ 0,  1,  2,  3],\n",
       "       [ 4,  5,  6,  7],\n",
       "       [ 8,  9, 10, 11]])"
      ]
     },
     "execution_count": 58,
     "metadata": {},
     "output_type": "execute_result"
    }
   ],
   "source": [
    "a[1]"
   ]
  },
  {
   "cell_type": "code",
   "execution_count": 59,
   "id": "8f88fd09",
   "metadata": {},
   "outputs": [
    {
     "data": {
      "text/plain": [
       "array([[0.3 , 0.7 , 1.1 ],\n",
       "       [0.7 , 1.74, 2.78],\n",
       "       [1.1 , 2.78, 4.46]])"
      ]
     },
     "execution_count": 59,
     "metadata": {},
     "output_type": "execute_result"
    }
   ],
   "source": [
    "# 行列の演算\n",
    "A = np.arange(1, 13).reshape(3, 4)\n",
    "# np.dotはAとA.Tの積をおこなう\n",
    "B = np.dot(A, A.T)/100\n",
    "B"
   ]
  },
  {
   "cell_type": "code",
   "execution_count": 60,
   "id": "b5cd09ba",
   "metadata": {},
   "outputs": [
    {
     "data": {
      "text/plain": [
       "array([0.3 , 1.74, 4.46])"
      ]
     },
     "execution_count": 60,
     "metadata": {},
     "output_type": "execute_result"
    }
   ],
   "source": [
    "# np.diagはBの対角成分を抽出\n",
    "np.diag(B)"
   ]
  },
  {
   "cell_type": "code",
   "execution_count": 61,
   "id": "d10fafcc",
   "metadata": {},
   "outputs": [
    {
     "data": {
      "text/plain": [
       "array([0.3 , 1.74, 4.46])"
      ]
     },
     "execution_count": 61,
     "metadata": {},
     "output_type": "execute_result"
    }
   ],
   "source": [
    "B.diagonal()"
   ]
  },
  {
   "cell_type": "code",
   "execution_count": 62,
   "id": "514f8109",
   "metadata": {},
   "outputs": [
    {
     "data": {
      "text/plain": [
       "array([[1.3 , 0.7 , 1.1 ],\n",
       "       [0.7 , 2.74, 2.78],\n",
       "       [1.1 , 2.78, 5.46]])"
      ]
     },
     "execution_count": 62,
     "metadata": {},
     "output_type": "execute_result"
    }
   ],
   "source": [
    "# np.fill_diagonal(B, B.diagonal() + 1)はBの対角成分に1を加える\n",
    "# fill_diagonalは入れ替える関数\n",
    "np.fill_diagonal(B, B.diagonal() + 1)\n",
    "B"
   ]
  },
  {
   "cell_type": "code",
   "execution_count": 63,
   "id": "d69d5c44",
   "metadata": {},
   "outputs": [
    {
     "data": {
      "text/plain": [
       "array([ 1.07904316,  0.27041082, -0.53822153])"
      ]
     },
     "execution_count": 63,
     "metadata": {},
     "output_type": "execute_result"
    }
   ],
   "source": [
    "d = np.array([1, 0, -1])\n",
    "# np.linalg.solveが計算している意味は、Bx = d を解いている\n",
    "x = np.linalg.solve(B, d)\n",
    "x"
   ]
  },
  {
   "cell_type": "code",
   "execution_count": 64,
   "id": "aa8c5a1c",
   "metadata": {},
   "outputs": [
    {
     "data": {
      "text/plain": [
       "(3, 3)"
      ]
     },
     "execution_count": 64,
     "metadata": {},
     "output_type": "execute_result"
    }
   ],
   "source": [
    "B.shape"
   ]
  },
  {
   "cell_type": "code",
   "execution_count": 65,
   "id": "cf7f6d69",
   "metadata": {},
   "outputs": [
    {
     "data": {
      "text/plain": [
       "(3,)"
      ]
     },
     "execution_count": 65,
     "metadata": {},
     "output_type": "execute_result"
    }
   ],
   "source": [
    "x.shape"
   ]
  },
  {
   "cell_type": "code",
   "execution_count": 66,
   "id": "c4431bbe",
   "metadata": {},
   "outputs": [
    {
     "data": {
      "text/plain": [
       "(3,)"
      ]
     },
     "execution_count": 66,
     "metadata": {},
     "output_type": "execute_result"
    }
   ],
   "source": [
    "d.shape"
   ]
  },
  {
   "cell_type": "code",
   "execution_count": 67,
   "id": "0aa4f6b7",
   "metadata": {},
   "outputs": [
    {
     "data": {
      "text/plain": [
       "array([ 1.07904316,  0.27041082, -0.53822153])"
      ]
     },
     "execution_count": 67,
     "metadata": {},
     "output_type": "execute_result"
    }
   ],
   "source": [
    "# np.linalg.inv(B)により、Bの逆行列を作成\n",
    "np.dot(np.linalg.inv(B), d)"
   ]
  },
  {
   "cell_type": "code",
   "execution_count": 68,
   "id": "e7efe37b",
   "metadata": {},
   "outputs": [
    {
     "data": {
      "text/plain": [
       "array([7.47032607, 1.02967393, 1.        ])"
      ]
     },
     "execution_count": 68,
     "metadata": {},
     "output_type": "execute_result"
    }
   ],
   "source": [
    "# 固有値、固有ベクトルはnp.linalg.eigを使って計算\n",
    "ei = np.linalg.eig(B)\n",
    "# ０番目には固有値からなるベクトルが、格納される\n",
    "ei[0]"
   ]
  },
  {
   "cell_type": "code",
   "execution_count": 69,
   "id": "0e3af93c",
   "metadata": {},
   "outputs": [
    {
     "data": {
      "text/plain": [
       "array([[-0.20673589, -0.88915331,  0.40824829],\n",
       "       [-0.51828874, -0.25438183, -0.81649658],\n",
       "       [-0.82984158,  0.38038964,  0.40824829]])"
      ]
     },
     "execution_count": 69,
     "metadata": {},
     "output_type": "execute_result"
    }
   ],
   "source": [
    "# 1番目には固有ベクトルが格納される\n",
    "ei[1]"
   ]
  },
  {
   "cell_type": "code",
   "execution_count": 70,
   "id": "9d15442c",
   "metadata": {},
   "outputs": [
    {
     "data": {
      "text/plain": [
       "array([[7.47032607, 1.02967393, 1.        ],\n",
       "       [7.47032607, 1.02967393, 1.        ],\n",
       "       [7.47032607, 1.02967393, 1.        ]])"
      ]
     },
     "execution_count": 70,
     "metadata": {},
     "output_type": "execute_result"
    }
   ],
   "source": [
    "np.dot(B, ei[1])/ei[1]"
   ]
  },
  {
   "cell_type": "code",
   "execution_count": 71,
   "id": "cf66b8a9",
   "metadata": {},
   "outputs": [
    {
     "data": {
      "text/plain": [
       "(array([7.47032607, 1.02967393, 1.        ]),\n",
       " array([[-0.20673589, -0.88915331,  0.40824829],\n",
       "        [-0.51828874, -0.25438183, -0.81649658],\n",
       "        [-0.82984158,  0.38038964,  0.40824829]]))"
      ]
     },
     "execution_count": 71,
     "metadata": {},
     "output_type": "execute_result"
    }
   ],
   "source": [
    "ei"
   ]
  },
  {
   "cell_type": "code",
   "execution_count": 72,
   "id": "f80d6a5b",
   "metadata": {},
   "outputs": [
    {
     "data": {
      "text/plain": [
       "array([[1.3 , 0.7 , 1.1 ],\n",
       "       [0.7 , 2.74, 2.78],\n",
       "       [1.1 , 2.78, 5.46]])"
      ]
     },
     "execution_count": 72,
     "metadata": {},
     "output_type": "execute_result"
    }
   ],
   "source": [
    "B"
   ]
  },
  {
   "cell_type": "code",
   "execution_count": 73,
   "id": "feabaaa2",
   "metadata": {},
   "outputs": [],
   "source": [
    "from sklearn.datasets import load_iris\n",
    "iris = load_iris()"
   ]
  },
  {
   "cell_type": "code",
   "execution_count": 74,
   "id": "ae769b23",
   "metadata": {},
   "outputs": [
    {
     "data": {
      "image/png": "[encoded data removed]",
      "text/plain": [
       "<Figure size 432x288 with 1 Axes>"
      ]
     },
     "metadata": {
      "needs_background": "light"
     },
     "output_type": "display_data"
    }
   ],
   "source": [
    "plt.scatter(iris.data[:, 0], iris.data[:, 1])\n",
    "plt.xlabel(iris.feature_names[0])\n",
    "plt.ylabel(iris.feature_names[1])\n",
    "plt.show()"
   ]
  },
  {
   "cell_type": "code",
   "execution_count": 75,
   "id": "2938bbbe",
   "metadata": {},
   "outputs": [
    {
     "data": {
      "image/png": "[encoded data removed]",
      "text/plain": [
       "<Figure size 432x288 with 1 Axes>"
      ]
     },
     "metadata": {
      "needs_background": "light"
     },
     "output_type": "display_data"
    }
   ],
   "source": [
    "x = np.linspace(-4, 4, 100)\n",
    "y1 = 3*np.cos(x)\n",
    "# np.maximumは第二引数の数値より小さい数値は全てその第二引数の値にし、新しい配列を作成\n",
    "y2 = np.maximum(x, 0)\n",
    "plt.plot(x, y1,'r--')\n",
    "plt.plot(x, y2,'b-')\n",
    "plt.show()"
   ]
  },
  {
   "cell_type": "code",
   "execution_count": 76,
   "id": "fd403eea",
   "metadata": {},
   "outputs": [
    {
     "data": {
      "text/plain": [
       "array([0.        , 0.        , 0.        , 0.        , 0.        ,\n",
       "       0.        , 0.        , 0.        , 0.        , 0.        ,\n",
       "       0.        , 0.        , 0.        , 0.        , 0.        ,\n",
       "       0.        , 0.        , 0.        , 0.        , 0.        ,\n",
       "       0.        , 0.        , 0.        , 0.        , 0.        ,\n",
       "       0.        , 0.        , 0.        , 0.        , 0.        ,\n",
       "       0.        , 0.        , 0.        , 0.        , 0.        ,\n",
       "       0.        , 0.        , 0.        , 0.        , 0.        ,\n",
       "       0.        , 0.        , 0.        , 0.        , 0.        ,\n",
       "       0.        , 0.        , 0.        , 0.        , 0.        ,\n",
       "       0.04040404, 0.12121212, 0.2020202 , 0.28282828, 0.36363636,\n",
       "       0.44444444, 0.52525253, 0.60606061, 0.68686869, 0.76767677,\n",
       "       0.84848485, 0.92929293, 1.01010101, 1.09090909, 1.17171717,\n",
       "       1.25252525, 1.33333333, 1.41414141, 1.49494949, 1.57575758,\n",
       "       1.65656566, 1.73737374, 1.81818182, 1.8989899 , 1.97979798,\n",
       "       2.06060606, 2.14141414, 2.22222222, 2.3030303 , 2.38383838,\n",
       "       2.46464646, 2.54545455, 2.62626263, 2.70707071, 2.78787879,\n",
       "       2.86868687, 2.94949495, 3.03030303, 3.11111111, 3.19191919,\n",
       "       3.27272727, 3.35353535, 3.43434343, 3.51515152, 3.5959596 ,\n",
       "       3.67676768, 3.75757576, 3.83838384, 3.91919192, 4.        ])"
      ]
     },
     "execution_count": 76,
     "metadata": {},
     "output_type": "execute_result"
    }
   ],
   "source": [
    "y2"
   ]
  },
  {
   "cell_type": "code",
   "execution_count": 77,
   "id": "58661a99",
   "metadata": {},
   "outputs": [
    {
     "data": {
      "text/plain": [
       "array([1, 2, 3, 4, 5])"
      ]
     },
     "execution_count": 77,
     "metadata": {},
     "output_type": "execute_result"
    }
   ],
   "source": [
    "a = np.array([1,2,3,4,5])\n",
    "a"
   ]
  },
  {
   "cell_type": "code",
   "execution_count": 78,
   "id": "18233ba1",
   "metadata": {},
   "outputs": [
    {
     "name": "stdout",
     "output_type": "stream",
     "text": [
      "[5 4 3 2 1] [1 2 3 4 5] [1 3 5] [2 3 4]\n"
     ]
    }
   ],
   "source": [
    "print(a[::-1], a[:], a[::2], a[1:-1])"
   ]
  },
  {
   "cell_type": "code",
   "execution_count": null,
   "id": "0019e046",
   "metadata": {},
   "outputs": [],
   "source": []
  }
 ],
 "metadata": {
  "kernelspec": {
   "display_name": "Python 3",
   "language": "python",
   "name": "python3"
  },
  "language_info": {
   "codemirror_mode": {
    "name": "ipython",
    "version": 3
   },
   "file_extension": ".py",
   "mimetype": "text/x-python",
   "name": "python",
   "nbconvert_exporter": "python",
   "pygments_lexer": "ipython3",
   "version": "3.8.5"
  }
 },
 "nbformat": 4,
 "nbformat_minor": 5
}
