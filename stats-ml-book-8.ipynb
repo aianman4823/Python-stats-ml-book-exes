{
 "cells": [
  {
   "cell_type": "code",
   "execution_count": 1,
   "id": "51136096",
   "metadata": {},
   "outputs": [
    {
     "name": "stderr",
     "output_type": "stream",
     "text": [
      "/Users/akito_harada/Documents/python/stats/ml/venv/lib/python3.8/site-packages/pandas/compat/__init__.py:97: UserWarning: Could not import the lzma module. Your installed Python is incomplete. Attempting to use lzma compression will result in a RuntimeError.\n",
      "  warnings.warn(msg)\n"
     ]
    }
   ],
   "source": [
    "import numpy as np\n",
    "import pandas as pd\n",
    "import matplotlib.pyplot as plt\n",
    "import statsmodels.api as sm"
   ]
  },
  {
   "cell_type": "code",
   "execution_count": 2,
   "id": "dfad107d",
   "metadata": {},
   "outputs": [],
   "source": [
    "# 線形と非線形の詳しい解説\n",
    "# https://math-fun.net/20190619/1715/#i-2\n",
    "# 線形性の解説\n",
    "# https://qiita.com/te20/items/e91faee8f9eb9b1a869c#%E7%B7%9A%E5%BD%A2%E6%80%A7%E3%81%AE%E4%BE%8B"
   ]
  },
  {
   "cell_type": "code",
   "execution_count": 9,
   "id": "aeccb027",
   "metadata": {},
   "outputs": [
    {
     "data": {
      "text/plain": [
       "(207, 2)"
      ]
     },
     "execution_count": 9,
     "metadata": {},
     "output_type": "execute_result"
    }
   ],
   "source": [
    "# データを読みこむ\n",
    "UN = np.array(pd.read_csv('data/UN.csv').values[:, 1:3]).astype('float64')\n",
    "UN.shape"
   ]
  },
  {
   "cell_type": "code",
   "execution_count": 10,
   "id": "e63b33d2",
   "metadata": {},
   "outputs": [
    {
     "data": {
      "text/plain": [
       "(193, 2)"
      ]
     },
     "execution_count": 10,
     "metadata": {},
     "output_type": "execute_result"
    }
   ],
   "source": [
    "# ~a   # ビット反転\n",
    "# Nanを含むデータを除く\n",
    "UN = UN[~np.isnan(UN).any(axis = 1), :]\n",
    "UN.shape"
   ]
  },
  {
   "cell_type": "code",
   "execution_count": 27,
   "id": "1a224dfc",
   "metadata": {},
   "outputs": [
    {
     "name": "stdout",
     "output_type": "stream",
     "text": [
      "Xのshape: (193, 1)\n",
      "Yのshape: (193,)\n"
     ]
    }
   ],
   "source": [
    "# ログを取ると回帰しやすい形になるね！\n",
    "logUN = np.log(UN) # データを対数で変換\n",
    "# reshape(-1, 1)のように-1をしてやれば、軸(axis)を増やせる\n",
    "# numpyのreshapeの-1は渡してあげたところの軸を推定してreshapeしてくれる便利関数\n",
    "x = logUN[:, 1].reshape(-1, 1); y = logUN[:, 0]\n",
    "print(\"Xのshape: {}\\nYのshape: {}\".format(x.shape, y.shape))"
   ]
  },
  {
   "cell_type": "code",
   "execution_count": 28,
   "id": "bb7ed7aa",
   "metadata": {},
   "outputs": [
    {
     "data": {
      "text/plain": [
       "(193, 2)"
      ]
     },
     "execution_count": 28,
     "metadata": {},
     "output_type": "execute_result"
    }
   ],
   "source": [
    "# sm.add_constant関数を用いれば、任意の行列に定数項に対応する列を列の0番目に追加してくれる\n",
    "xc = sm.add_constant(x)\n",
    "xc.shape"
   ]
  },
  {
   "cell_type": "code",
   "execution_count": 31,
   "id": "b136af4a",
   "metadata": {},
   "outputs": [
    {
     "name": "stdout",
     "output_type": "stream",
     "text": [
      "Help on class OLS in module statsmodels.regression.linear_model:\n",
      "\n",
      "class OLS(WLS)\n",
      " |  OLS(endog, exog=None, missing='none', hasconst=None, **kwargs)\n",
      " |  \n",
      " |  Ordinary Least Squares\n",
      " |  \n",
      " |  Parameters\n",
      " |  ----------\n",
      " |  endog : array_like\n",
      " |      A 1-d endogenous response variable. The dependent variable.\n",
      " |  exog : array_like\n",
      " |      A nobs x k array where `nobs` is the number of observations and `k`\n",
      " |      is the number of regressors. An intercept is not included by default\n",
      " |      and should be added by the user. See\n",
      " |      :func:`statsmodels.tools.add_constant`.\n",
      " |  missing : str\n",
      " |      Available options are 'none', 'drop', and 'raise'. If 'none', no nan\n",
      " |      checking is done. If 'drop', any observations with nans are dropped.\n",
      " |      If 'raise', an error is raised. Default is 'none'.\n",
      " |  hasconst : None or bool\n",
      " |      Indicates whether the RHS includes a user-supplied constant. If True,\n",
      " |      a constant is not checked for and k_constant is set to 1 and all\n",
      " |      result statistics are calculated as if a constant is present. If\n",
      " |      False, a constant is not checked for and k_constant is set to 0.\n",
      " |  **kwargs\n",
      " |      Extra arguments that are used to set model properties when using the\n",
      " |      formula interface.\n",
      " |  \n",
      " |  Attributes\n",
      " |  ----------\n",
      " |  weights : scalar\n",
      " |      Has an attribute weights = array(1.0) due to inheritance from WLS.\n",
      " |  \n",
      " |  See Also\n",
      " |  --------\n",
      " |  WLS : Fit a linear model using Weighted Least Squares.\n",
      " |  GLS : Fit a linear model using Generalized Least Squares.\n",
      " |  \n",
      " |  Notes\n",
      " |  -----\n",
      " |  No constant is added by the model unless you are using formulas.\n",
      " |  \n",
      " |  Examples\n",
      " |  --------\n",
      " |  >>> import statsmodels.api as sm\n",
      " |  >>> import numpy as np\n",
      " |  >>> duncan_prestige = sm.datasets.get_rdataset(\"Duncan\", \"carData\")\n",
      " |  >>> Y = duncan_prestige.data['income']\n",
      " |  >>> X = duncan_prestige.data['education']\n",
      " |  >>> X = sm.add_constant(X)\n",
      " |  >>> model = sm.OLS(Y,X)\n",
      " |  >>> results = model.fit()\n",
      " |  >>> results.params\n",
      " |  const        10.603498\n",
      " |  education     0.594859\n",
      " |  dtype: float64\n",
      " |  \n",
      " |  >>> results.tvalues\n",
      " |  const        2.039813\n",
      " |  education    6.892802\n",
      " |  dtype: float64\n",
      " |  \n",
      " |  >>> print(results.t_test([1, 0]))\n",
      " |                               Test for Constraints\n",
      " |  ==============================================================================\n",
      " |                   coef    std err          t      P>|t|      [0.025      0.975]\n",
      " |  ------------------------------------------------------------------------------\n",
      " |  c0            10.6035      5.198      2.040      0.048       0.120      21.087\n",
      " |  ==============================================================================\n",
      " |  \n",
      " |  >>> print(results.f_test(np.identity(2)))\n",
      " |  <F test: F=array([[159.63031026]]), p=1.2607168903696672e-20, df_denom=43, df_num=2>\n",
      " |  \n",
      " |  Method resolution order:\n",
      " |      OLS\n",
      " |      WLS\n",
      " |      RegressionModel\n",
      " |      statsmodels.base.model.LikelihoodModel\n",
      " |      statsmodels.base.model.Model\n",
      " |      builtins.object\n",
      " |  \n",
      " |  Methods defined here:\n",
      " |  \n",
      " |  __init__(self, endog, exog=None, missing='none', hasconst=None, **kwargs)\n",
      " |      Initialize self.  See help(type(self)) for accurate signature.\n",
      " |  \n",
      " |  fit_regularized(self, method='elastic_net', alpha=0.0, L1_wt=1.0, start_params=None, profile_scale=False, refit=False, **kwargs)\n",
      " |      Return a regularized fit to a linear regression model.\n",
      " |      \n",
      " |      Parameters\n",
      " |      ----------\n",
      " |      method : str\n",
      " |          Either 'elastic_net' or 'sqrt_lasso'.\n",
      " |      alpha : scalar or array_like\n",
      " |          The penalty weight.  If a scalar, the same penalty weight\n",
      " |          applies to all variables in the model.  If a vector, it\n",
      " |          must have the same length as `params`, and contains a\n",
      " |          penalty weight for each coefficient.\n",
      " |      L1_wt : scalar\n",
      " |          The fraction of the penalty given to the L1 penalty term.\n",
      " |          Must be between 0 and 1 (inclusive).  If 0, the fit is a\n",
      " |          ridge fit, if 1 it is a lasso fit.\n",
      " |      start_params : array_like\n",
      " |          Starting values for ``params``.\n",
      " |      profile_scale : bool\n",
      " |          If True the penalized fit is computed using the profile\n",
      " |          (concentrated) log-likelihood for the Gaussian model.\n",
      " |          Otherwise the fit uses the residual sum of squares.\n",
      " |      refit : bool\n",
      " |          If True, the model is refit using only the variables that\n",
      " |          have non-zero coefficients in the regularized fit.  The\n",
      " |          refitted model is not regularized.\n",
      " |      **kwargs\n",
      " |          Additional keyword arguments that contain information used when\n",
      " |          constructing a model using the formula interface.\n",
      " |      \n",
      " |      Returns\n",
      " |      -------\n",
      " |      statsmodels.base.elastic_net.RegularizedResults\n",
      " |          The regularized results.\n",
      " |      \n",
      " |      Notes\n",
      " |      -----\n",
      " |      The elastic net uses a combination of L1 and L2 penalties.\n",
      " |      The implementation closely follows the glmnet package in R.\n",
      " |      \n",
      " |      The function that is minimized is:\n",
      " |      \n",
      " |      .. math::\n",
      " |      \n",
      " |          0.5*RSS/n + alpha*((1-L1\\_wt)*|params|_2^2/2 + L1\\_wt*|params|_1)\n",
      " |      \n",
      " |      where RSS is the usual regression sum of squares, n is the\n",
      " |      sample size, and :math:`|*|_1` and :math:`|*|_2` are the L1 and L2\n",
      " |      norms.\n",
      " |      \n",
      " |      For WLS and GLS, the RSS is calculated using the whitened endog and\n",
      " |      exog data.\n",
      " |      \n",
      " |      Post-estimation results are based on the same data used to\n",
      " |      select variables, hence may be subject to overfitting biases.\n",
      " |      \n",
      " |      The elastic_net method uses the following keyword arguments:\n",
      " |      \n",
      " |      maxiter : int\n",
      " |          Maximum number of iterations\n",
      " |      cnvrg_tol : float\n",
      " |          Convergence threshold for line searches\n",
      " |      zero_tol : float\n",
      " |          Coefficients below this threshold are treated as zero.\n",
      " |      \n",
      " |      The square root lasso approach is a variation of the Lasso\n",
      " |      that is largely self-tuning (the optimal tuning parameter\n",
      " |      does not depend on the standard deviation of the regression\n",
      " |      errors).  If the errors are Gaussian, the tuning parameter\n",
      " |      can be taken to be\n",
      " |      \n",
      " |      alpha = 1.1 * np.sqrt(n) * norm.ppf(1 - 0.05 / (2 * p))\n",
      " |      \n",
      " |      where n is the sample size and p is the number of predictors.\n",
      " |      \n",
      " |      The square root lasso uses the following keyword arguments:\n",
      " |      \n",
      " |      zero_tol : float\n",
      " |          Coefficients below this threshold are treated as zero.\n",
      " |      \n",
      " |      The cvxopt module is required to estimate model using the square root\n",
      " |      lasso.\n",
      " |      \n",
      " |      References\n",
      " |      ----------\n",
      " |      .. [*] Friedman, Hastie, Tibshirani (2008).  Regularization paths for\n",
      " |         generalized linear models via coordinate descent.  Journal of\n",
      " |         Statistical Software 33(1), 1-22 Feb 2010.\n",
      " |      \n",
      " |      .. [*] A Belloni, V Chernozhukov, L Wang (2011).  Square-root Lasso:\n",
      " |         pivotal recovery of sparse signals via conic programming.\n",
      " |         Biometrika 98(4), 791-806. https://arxiv.org/pdf/1009.5689.pdf\n",
      " |  \n",
      " |  hessian(self, params, scale=None)\n",
      " |      Evaluate the Hessian function at a given point.\n",
      " |      \n",
      " |      Parameters\n",
      " |      ----------\n",
      " |      params : array_like\n",
      " |          The parameter vector at which the Hessian is computed.\n",
      " |      scale : float or None\n",
      " |          If None, return the profile (concentrated) log likelihood\n",
      " |          (profiled over the scale parameter), else return the\n",
      " |          log-likelihood using the given scale value.\n",
      " |      \n",
      " |      Returns\n",
      " |      -------\n",
      " |      ndarray\n",
      " |          The Hessian matrix.\n",
      " |  \n",
      " |  hessian_factor(self, params, scale=None, observed=True)\n",
      " |      Calculate the weights for the Hessian.\n",
      " |      \n",
      " |      Parameters\n",
      " |      ----------\n",
      " |      params : ndarray\n",
      " |          The parameter at which Hessian is evaluated.\n",
      " |      scale : None or float\n",
      " |          If scale is None, then the default scale will be calculated.\n",
      " |          Default scale is defined by `self.scaletype` and set in fit.\n",
      " |          If scale is not None, then it is used as a fixed scale.\n",
      " |      observed : bool\n",
      " |          If True, then the observed Hessian is returned. If false then the\n",
      " |          expected information matrix is returned.\n",
      " |      \n",
      " |      Returns\n",
      " |      -------\n",
      " |      ndarray\n",
      " |          A 1d weight vector used in the calculation of the Hessian.\n",
      " |          The hessian is obtained by `(exog.T * hessian_factor).dot(exog)`.\n",
      " |  \n",
      " |  loglike(self, params, scale=None)\n",
      " |      The likelihood function for the OLS model.\n",
      " |      \n",
      " |      Parameters\n",
      " |      ----------\n",
      " |      params : array_like\n",
      " |          The coefficients with which to estimate the log-likelihood.\n",
      " |      scale : float or None\n",
      " |          If None, return the profile (concentrated) log likelihood\n",
      " |          (profiled over the scale parameter), else return the\n",
      " |          log-likelihood using the given scale value.\n",
      " |      \n",
      " |      Returns\n",
      " |      -------\n",
      " |      float\n",
      " |          The likelihood function evaluated at params.\n",
      " |  \n",
      " |  score(self, params, scale=None)\n",
      " |      Evaluate the score function at a given point.\n",
      " |      \n",
      " |      The score corresponds to the profile (concentrated)\n",
      " |      log-likelihood in which the scale parameter has been profiled\n",
      " |      out.\n",
      " |      \n",
      " |      Parameters\n",
      " |      ----------\n",
      " |      params : array_like\n",
      " |          The parameter vector at which the score function is\n",
      " |          computed.\n",
      " |      scale : float or None\n",
      " |          If None, return the profile (concentrated) log likelihood\n",
      " |          (profiled over the scale parameter), else return the\n",
      " |          log-likelihood using the given scale value.\n",
      " |      \n",
      " |      Returns\n",
      " |      -------\n",
      " |      ndarray\n",
      " |          The score vector.\n",
      " |  \n",
      " |  whiten(self, x)\n",
      " |      OLS model whitener does nothing.\n",
      " |      \n",
      " |      Parameters\n",
      " |      ----------\n",
      " |      x : array_like\n",
      " |          Data to be whitened.\n",
      " |      \n",
      " |      Returns\n",
      " |      -------\n",
      " |      array_like\n",
      " |          The input array unmodified.\n",
      " |      \n",
      " |      See Also\n",
      " |      --------\n",
      " |      OLS : Fit a linear model using Ordinary Least Squares.\n",
      " |  \n",
      " |  ----------------------------------------------------------------------\n",
      " |  Methods inherited from RegressionModel:\n",
      " |  \n",
      " |  fit(self, method='pinv', cov_type='nonrobust', cov_kwds=None, use_t=None, **kwargs)\n",
      " |      Full fit of the model.\n",
      " |      \n",
      " |      The results include an estimate of covariance matrix, (whitened)\n",
      " |      residuals and an estimate of scale.\n",
      " |      \n",
      " |      Parameters\n",
      " |      ----------\n",
      " |      method : str, optional\n",
      " |          Can be \"pinv\", \"qr\".  \"pinv\" uses the Moore-Penrose pseudoinverse\n",
      " |          to solve the least squares problem. \"qr\" uses the QR\n",
      " |          factorization.\n",
      " |      cov_type : str, optional\n",
      " |          See `regression.linear_model.RegressionResults` for a description\n",
      " |          of the available covariance estimators.\n",
      " |      cov_kwds : list or None, optional\n",
      " |          See `linear_model.RegressionResults.get_robustcov_results` for a\n",
      " |          description required keywords for alternative covariance\n",
      " |          estimators.\n",
      " |      use_t : bool, optional\n",
      " |          Flag indicating to use the Student's t distribution when computing\n",
      " |          p-values.  Default behavior depends on cov_type. See\n",
      " |          `linear_model.RegressionResults.get_robustcov_results` for\n",
      " |          implementation details.\n",
      " |      **kwargs\n",
      " |          Additional keyword arguments that contain information used when\n",
      " |          constructing a model using the formula interface.\n",
      " |      \n",
      " |      Returns\n",
      " |      -------\n",
      " |      RegressionResults\n",
      " |          The model estimation results.\n",
      " |      \n",
      " |      See Also\n",
      " |      --------\n",
      " |      RegressionResults\n",
      " |          The results container.\n",
      " |      RegressionResults.get_robustcov_results\n",
      " |          A method to change the covariance estimator used when fitting the\n",
      " |          model.\n",
      " |      \n",
      " |      Notes\n",
      " |      -----\n",
      " |      The fit method uses the pseudoinverse of the design/exogenous variables\n",
      " |      to solve the least squares minimization.\n",
      " |  \n",
      " |  get_distribution(self, params, scale, exog=None, dist_class=None)\n",
      " |      Construct a random number generator for the predictive distribution.\n",
      " |      \n",
      " |      Parameters\n",
      " |      ----------\n",
      " |      params : array_like\n",
      " |          The model parameters (regression coefficients).\n",
      " |      scale : scalar\n",
      " |          The variance parameter.\n",
      " |      exog : array_like\n",
      " |          The predictor variable matrix.\n",
      " |      dist_class : class\n",
      " |          A random number generator class.  Must take 'loc' and 'scale'\n",
      " |          as arguments and return a random number generator implementing\n",
      " |          an ``rvs`` method for simulating random values. Defaults to normal.\n",
      " |      \n",
      " |      Returns\n",
      " |      -------\n",
      " |      gen\n",
      " |          Frozen random number generator object with mean and variance\n",
      " |          determined by the fitted linear model.  Use the ``rvs`` method\n",
      " |          to generate random values.\n",
      " |      \n",
      " |      Notes\n",
      " |      -----\n",
      " |      Due to the behavior of ``scipy.stats.distributions objects``,\n",
      " |      the returned random number generator must be called with\n",
      " |      ``gen.rvs(n)`` where ``n`` is the number of observations in\n",
      " |      the data set used to fit the model.  If any other value is\n",
      " |      used for ``n``, misleading results will be produced.\n",
      " |  \n",
      " |  initialize(self)\n",
      " |      Initialize model components.\n",
      " |  \n",
      " |  predict(self, params, exog=None)\n",
      " |      Return linear predicted values from a design matrix.\n",
      " |      \n",
      " |      Parameters\n",
      " |      ----------\n",
      " |      params : array_like\n",
      " |          Parameters of a linear model.\n",
      " |      exog : array_like, optional\n",
      " |          Design / exogenous data. Model exog is used if None.\n",
      " |      \n",
      " |      Returns\n",
      " |      -------\n",
      " |      array_like\n",
      " |          An array of fitted values.\n",
      " |      \n",
      " |      Notes\n",
      " |      -----\n",
      " |      If the model has not yet been fit, params is not optional.\n",
      " |  \n",
      " |  ----------------------------------------------------------------------\n",
      " |  Data descriptors inherited from RegressionModel:\n",
      " |  \n",
      " |  df_model\n",
      " |      The model degree of freedom.\n",
      " |      \n",
      " |      The dof is defined as the rank of the regressor matrix minus 1 if a\n",
      " |      constant is included.\n",
      " |  \n",
      " |  df_resid\n",
      " |      The residual degree of freedom.\n",
      " |      \n",
      " |      The dof is defined as the number of observations minus the rank of\n",
      " |      the regressor matrix.\n",
      " |  \n",
      " |  ----------------------------------------------------------------------\n",
      " |  Methods inherited from statsmodels.base.model.LikelihoodModel:\n",
      " |  \n",
      " |  information(self, params)\n",
      " |      Fisher information matrix of model.\n",
      " |      \n",
      " |      Returns -1 * Hessian of the log-likelihood evaluated at params.\n",
      " |      \n",
      " |      Parameters\n",
      " |      ----------\n",
      " |      params : ndarray\n",
      " |          The model parameters.\n",
      " |  \n",
      " |  ----------------------------------------------------------------------\n",
      " |  Class methods inherited from statsmodels.base.model.Model:\n",
      " |  \n",
      " |  from_formula(formula, data, subset=None, drop_cols=None, *args, **kwargs) from builtins.type\n",
      " |      Create a Model from a formula and dataframe.\n",
      " |      \n",
      " |      Parameters\n",
      " |      ----------\n",
      " |      formula : str or generic Formula object\n",
      " |          The formula specifying the model.\n",
      " |      data : array_like\n",
      " |          The data for the model. See Notes.\n",
      " |      subset : array_like\n",
      " |          An array-like object of booleans, integers, or index values that\n",
      " |          indicate the subset of df to use in the model. Assumes df is a\n",
      " |          `pandas.DataFrame`.\n",
      " |      drop_cols : array_like\n",
      " |          Columns to drop from the design matrix.  Cannot be used to\n",
      " |          drop terms involving categoricals.\n",
      " |      *args\n",
      " |          Additional positional argument that are passed to the model.\n",
      " |      **kwargs\n",
      " |          These are passed to the model with one exception. The\n",
      " |          ``eval_env`` keyword is passed to patsy. It can be either a\n",
      " |          :class:`patsy:patsy.EvalEnvironment` object or an integer\n",
      " |          indicating the depth of the namespace to use. For example, the\n",
      " |          default ``eval_env=0`` uses the calling namespace. If you wish\n",
      " |          to use a \"clean\" environment set ``eval_env=-1``.\n",
      " |      \n",
      " |      Returns\n",
      " |      -------\n",
      " |      model\n",
      " |          The model instance.\n",
      " |      \n",
      " |      Notes\n",
      " |      -----\n",
      " |      data must define __getitem__ with the keys in the formula terms\n",
      " |      args and kwargs are passed on to the model instantiation. E.g.,\n",
      " |      a numpy structured or rec array, a dictionary, or a pandas DataFrame.\n",
      " |  \n",
      " |  ----------------------------------------------------------------------\n",
      " |  Readonly properties inherited from statsmodels.base.model.Model:\n",
      " |  \n",
      " |  endog_names\n",
      " |      Names of endogenous variables.\n",
      " |  \n",
      " |  exog_names\n",
      " |      Names of exogenous variables.\n",
      " |  \n",
      " |  ----------------------------------------------------------------------\n",
      " |  Data descriptors inherited from statsmodels.base.model.Model:\n",
      " |  \n",
      " |  __dict__\n",
      " |      dictionary for instance variables (if defined)\n",
      " |  \n",
      " |  __weakref__\n",
      " |      list of weak references to the object (if defined)\n",
      "\n"
     ]
    }
   ],
   "source": [
    "help(sm.OLS)"
   ]
  },
  {
   "cell_type": "code",
   "execution_count": 32,
   "id": "4890a91e",
   "metadata": {},
   "outputs": [
    {
     "data": {
      "text/plain": [
       "array([ 7.0452008 , -0.49320262])"
      ]
     },
     "execution_count": 32,
     "metadata": {},
     "output_type": "execute_result"
    }
   ],
   "source": [
    "lf = sm.OLS(y, xc).fit()\n",
    "lf.params"
   ]
  },
  {
   "cell_type": "code",
   "execution_count": 33,
   "id": "ea5d985d",
   "metadata": {},
   "outputs": [
    {
     "data": {
      "text/html": [
       "<table class=\"simpletable\">\n",
       "<tr>\n",
       "        <td>Model:</td>               <td>OLS</td>         <td>Adj. R-squared:</td>     <td>0.654</td> \n",
       "</tr>\n",
       "<tr>\n",
       "  <td>Dependent Variable:</td>         <td>y</td>               <td>AIC:</td>         <td>348.5429</td>\n",
       "</tr>\n",
       "<tr>\n",
       "         <td>Date:</td>        <td>2021-05-12 19:37</td>        <td>BIC:</td>         <td>355.0683</td>\n",
       "</tr>\n",
       "<tr>\n",
       "   <td>No. Observations:</td>         <td>193</td>         <td>Log-Likelihood:</td>    <td>-172.27</td>\n",
       "</tr>\n",
       "<tr>\n",
       "       <td>Df Model:</td>              <td>1</td>           <td>F-statistic:</td>       <td>363.7</td> \n",
       "</tr>\n",
       "<tr>\n",
       "     <td>Df Residuals:</td>           <td>191</td>       <td>Prob (F-statistic):</td> <td>4.32e-46</td>\n",
       "</tr>\n",
       "<tr>\n",
       "      <td>R-squared:</td>            <td>0.656</td>            <td>Scale:</td>         <td>0.35266</td>\n",
       "</tr>\n",
       "</table>\n",
       "<table class=\"simpletable\">\n",
       "<tr>\n",
       "    <td></td>     <th>Coef.</th>  <th>Std.Err.</th>     <th>t</th>     <th>P>|t|</th> <th>[0.025</th>  <th>0.975]</th> \n",
       "</tr>\n",
       "<tr>\n",
       "  <th>const</th> <td>7.0452</td>   <td>0.1991</td>   <td>35.3790</td> <td>0.0000</td> <td>6.6524</td>  <td>7.4380</td> \n",
       "</tr>\n",
       "<tr>\n",
       "  <th>x1</th>    <td>-0.4932</td>  <td>0.0259</td>  <td>-19.0697</td> <td>0.0000</td> <td>-0.5442</td> <td>-0.4422</td>\n",
       "</tr>\n",
       "</table>\n",
       "<table class=\"simpletable\">\n",
       "<tr>\n",
       "     <td>Omnibus:</td>    <td>10.055</td>  <td>Durbin-Watson:</td>    <td>1.864</td>\n",
       "</tr>\n",
       "<tr>\n",
       "  <td>Prob(Omnibus):</td>  <td>0.007</td> <td>Jarque-Bera (JB):</td> <td>21.166</td>\n",
       "</tr>\n",
       "<tr>\n",
       "       <td>Skew:</td>      <td>0.097</td>     <td>Prob(JB):</td>      <td>0.000</td>\n",
       "</tr>\n",
       "<tr>\n",
       "     <td>Kurtosis:</td>    <td>4.611</td>  <td>Condition No.:</td>     <td>36</td>  \n",
       "</tr>\n",
       "</table>"
      ],
      "text/plain": [
       "<class 'statsmodels.iolib.summary2.Summary'>\n",
       "\"\"\"\n",
       "                 Results: Ordinary least squares\n",
       "=================================================================\n",
       "Model:              OLS              Adj. R-squared:     0.654   \n",
       "Dependent Variable: y                AIC:                348.5429\n",
       "Date:               2021-05-12 19:37 BIC:                355.0683\n",
       "No. Observations:   193              Log-Likelihood:     -172.27 \n",
       "Df Model:           1                F-statistic:        363.7   \n",
       "Df Residuals:       191              Prob (F-statistic): 4.32e-46\n",
       "R-squared:          0.656            Scale:              0.35266 \n",
       "-------------------------------------------------------------------\n",
       "          Coef.    Std.Err.      t       P>|t|     [0.025    0.975]\n",
       "-------------------------------------------------------------------\n",
       "const     7.0452     0.1991    35.3790   0.0000    6.6524    7.4380\n",
       "x1       -0.4932     0.0259   -19.0697   0.0000   -0.5442   -0.4422\n",
       "-----------------------------------------------------------------\n",
       "Omnibus:              10.055       Durbin-Watson:          1.864 \n",
       "Prob(Omnibus):        0.007        Jarque-Bera (JB):       21.166\n",
       "Skew:                 0.097        Prob(JB):               0.000 \n",
       "Kurtosis:             4.611        Condition No.:          36    \n",
       "=================================================================\n",
       "\n",
       "\"\"\""
      ]
     },
     "execution_count": 33,
     "metadata": {},
     "output_type": "execute_result"
    }
   ],
   "source": [
    "lf.summary2()"
   ]
  },
  {
   "cell_type": "code",
   "execution_count": 36,
   "id": "f8abb684",
   "metadata": {},
   "outputs": [
    {
     "data": {
      "image/png": "[encoded data removed]",
      "text/plain": [
       "<Figure size 432x288 with 1 Axes>"
      ]
     },
     "metadata": {
      "needs_background": "light"
     },
     "output_type": "display_data"
    }
   ],
   "source": [
    "tx = np.linspace(x.min(), x.max(), 100).reshape(-1, 1) # 予測点の生成\n",
    "txc = sm.add_constant(tx)\n",
    "py = lf.predict(txc)\n",
    "plt.xlabel('GDP');plt.ylabel('infant.mortality')\n",
    "# これ初めて(これを事前に指定してやれば、データをlogスケールにしなくてもlogスケールの図を作れる！！！)\n",
    "plt.xscale(\"log\");plt.yscale(\"log\")\n",
    "plt.scatter(UN[:, 1], UN[:, 0], s= 10, c = 'blue')\n",
    "plt.plot(np.exp(tx), np.exp(py), 'r-', lw = 3)\n",
    "plt.show();"
   ]
  },
  {
   "cell_type": "code",
   "execution_count": 38,
   "id": "f7cba3ea",
   "metadata": {},
   "outputs": [],
   "source": [
    "# Davisの体重と身長のデータを読み込む\n",
    "dat = np.array(pd.read_csv('data/Davis.csv').values[:, 1:3].astype('float64'))"
   ]
  },
  {
   "cell_type": "code",
   "execution_count": 39,
   "id": "c74fd65b",
   "metadata": {},
   "outputs": [],
   "source": [
    "dat = dat[~np.isnan(dat).any(axis = 1), :] # nanを含むデータを除く"
   ]
  },
  {
   "cell_type": "code",
   "execution_count": 48,
   "id": "faf4d187",
   "metadata": {},
   "outputs": [],
   "source": [
    "x = dat[:, 0].reshape(-1, 1)\n",
    "y = dat[:, 1]\n",
    "xc = sm.add_constant(x)\n",
    "lf = sm.OLS(y, xc).fit()"
   ]
  },
  {
   "cell_type": "code",
   "execution_count": 49,
   "id": "c1fcbd9c",
   "metadata": {},
   "outputs": [
    {
     "data": {
      "text/plain": [
       "array([1.60093116e+02, 1.50864502e-01])"
      ]
     },
     "execution_count": 49,
     "metadata": {},
     "output_type": "execute_result"
    }
   ],
   "source": [
    "lf.params # 回帰係数の推定値 : (定数項, 傾き)"
   ]
  },
  {
   "cell_type": "code",
   "execution_count": 50,
   "id": "c90969ce",
   "metadata": {},
   "outputs": [],
   "source": [
    "c = np.linspace(20, 150, 1000)\n",
    "k = lf.params[0] + lf.params[1] * c"
   ]
  },
  {
   "cell_type": "code",
   "execution_count": 51,
   "id": "40c2a176",
   "metadata": {},
   "outputs": [
    {
     "data": {
      "text/plain": [
       "[<matplotlib.lines.Line2D at 0x1220e7160>]"
      ]
     },
     "execution_count": 51,
     "metadata": {},
     "output_type": "execute_result"
    },
    {
     "data": {
      "image/png": "[encoded data removed]",
      "text/plain": [
       "<Figure size 432x288 with 1 Axes>"
      ]
     },
     "metadata": {
      "needs_background": "light"
     },
     "output_type": "display_data"
    }
   ],
   "source": [
    "plt.scatter(dat[:, 0], dat[:, 1], marker = '.', color = 'blue')\n",
    "plt.plot(c, k, 'r--')"
   ]
  },
  {
   "cell_type": "code",
   "execution_count": 53,
   "id": "417397d0",
   "metadata": {},
   "outputs": [
    {
     "data": {
      "text/plain": [
       "array([136.83660744,   0.51689358])"
      ]
     },
     "execution_count": 53,
     "metadata": {},
     "output_type": "execute_result"
    }
   ],
   "source": [
    "# 外れ値を除いたデータに最小２乗法を利用\n",
    "lfr = sm.OLS(np.delete(y, 11, 0), np.delete(xc, 11, 0)).fit()\n",
    "lfr.params"
   ]
  },
  {
   "cell_type": "code",
   "execution_count": 54,
   "id": "1884914f",
   "metadata": {},
   "outputs": [
    {
     "name": "stdout",
     "output_type": "stream",
     "text": [
      "Help on function delete in module numpy:\n",
      "\n",
      "delete(arr, obj, axis=None)\n",
      "    Return a new array with sub-arrays along an axis deleted. For a one\n",
      "    dimensional array, this returns those entries not returned by\n",
      "    `arr[obj]`.\n",
      "    \n",
      "    Parameters\n",
      "    ----------\n",
      "    arr : array_like\n",
      "        Input array.\n",
      "    obj : slice, int or array of ints\n",
      "        Indicate indices of sub-arrays to remove along the specified axis.\n",
      "    \n",
      "        .. versionchanged:: 1.19.0\n",
      "            Boolean indices are now treated as a mask of elements to remove,\n",
      "            rather than being cast to the integers 0 and 1.\n",
      "    \n",
      "    axis : int, optional\n",
      "        The axis along which to delete the subarray defined by `obj`.\n",
      "        If `axis` is None, `obj` is applied to the flattened array.\n",
      "    \n",
      "    Returns\n",
      "    -------\n",
      "    out : ndarray\n",
      "        A copy of `arr` with the elements specified by `obj` removed. Note\n",
      "        that `delete` does not occur in-place. If `axis` is None, `out` is\n",
      "        a flattened array.\n",
      "    \n",
      "    See Also\n",
      "    --------\n",
      "    insert : Insert elements into an array.\n",
      "    append : Append elements at the end of an array.\n",
      "    \n",
      "    Notes\n",
      "    -----\n",
      "    Often it is preferable to use a boolean mask. For example:\n",
      "    \n",
      "    >>> arr = np.arange(12) + 1\n",
      "    >>> mask = np.ones(len(arr), dtype=bool)\n",
      "    >>> mask[[0,2,4]] = False\n",
      "    >>> result = arr[mask,...]\n",
      "    \n",
      "    Is equivalent to `np.delete(arr, [0,2,4], axis=0)`, but allows further\n",
      "    use of `mask`.\n",
      "    \n",
      "    Examples\n",
      "    --------\n",
      "    >>> arr = np.array([[1,2,3,4], [5,6,7,8], [9,10,11,12]])\n",
      "    >>> arr\n",
      "    array([[ 1,  2,  3,  4],\n",
      "           [ 5,  6,  7,  8],\n",
      "           [ 9, 10, 11, 12]])\n",
      "    >>> np.delete(arr, 1, 0)\n",
      "    array([[ 1,  2,  3,  4],\n",
      "           [ 9, 10, 11, 12]])\n",
      "    \n",
      "    >>> np.delete(arr, np.s_[::2], 1)\n",
      "    array([[ 2,  4],\n",
      "           [ 6,  8],\n",
      "           [10, 12]])\n",
      "    >>> np.delete(arr, [1,3,5], None)\n",
      "    array([ 1,  3,  5,  7,  8,  9, 10, 11, 12])\n",
      "\n"
     ]
    }
   ],
   "source": [
    "help(np.delete)"
   ]
  },
  {
   "cell_type": "code",
   "execution_count": 55,
   "id": "93724657",
   "metadata": {},
   "outputs": [
    {
     "data": {
      "text/plain": [
       "[<matplotlib.lines.Line2D at 0x12227ae50>]"
      ]
     },
     "execution_count": 55,
     "metadata": {},
     "output_type": "execute_result"
    },
    {
     "data": {
      "image/png": "[encoded data removed]",
      "text/plain": [
       "<Figure size 432x288 with 1 Axes>"
      ]
     },
     "metadata": {
      "needs_background": "light"
     },
     "output_type": "display_data"
    }
   ],
   "source": [
    "c = np.linspace(20, 150, 100)\n",
    "k = lfr.params[0] + lfr.params[1] * c\n",
    "plt.scatter(dat[:, 0], dat[:, 1], marker = '.', color = 'blue')\n",
    "plt.plot(c, k, 'r--')"
   ]
  },
  {
   "cell_type": "code",
   "execution_count": 56,
   "id": "7a1333ff",
   "metadata": {},
   "outputs": [],
   "source": [
    "rf = sm.RLM(y, xc).fit() # フーバー損失によるロバスト推定"
   ]
  },
  {
   "cell_type": "code",
   "execution_count": 57,
   "id": "6ac8cd9a",
   "metadata": {},
   "outputs": [
    {
     "data": {
      "text/plain": [
       "array([137.81427721,   0.50076743])"
      ]
     },
     "execution_count": 57,
     "metadata": {},
     "output_type": "execute_result"
    }
   ],
   "source": [
    "rf.params"
   ]
  },
  {
   "cell_type": "code",
   "execution_count": 58,
   "id": "2978d07c",
   "metadata": {},
   "outputs": [
    {
     "data": {
      "text/plain": [
       "5.717634656169283"
      ]
     },
     "execution_count": 58,
     "metadata": {},
     "output_type": "execute_result"
    }
   ],
   "source": [
    "# 推定されたスケール(標準偏差)\n",
    "rf.scale"
   ]
  },
  {
   "cell_type": "code",
   "execution_count": 59,
   "id": "8cec78c4",
   "metadata": {},
   "outputs": [
    {
     "data": {
      "text/html": [
       "<table class=\"simpletable\">\n",
       "<tr>\n",
       "        <td>Model:</td>               <td>RLM</td>       <td>Df Residuals:</td>   <td>198</td> \n",
       "</tr>\n",
       "<tr>\n",
       "  <td>Dependent Variable:</td>         <td>y</td>            <td>Norm:</td>     <td>HuberT</td>\n",
       "</tr>\n",
       "<tr>\n",
       "         <td>Date:</td>        <td>2021-05-13 13:33</td>  <td>Scale Est.:</td>    <td>mad</td> \n",
       "</tr>\n",
       "<tr>\n",
       "   <td>No. Observations:</td>         <td>200</td>        <td>Cov. Type:</td>     <td>H1</td>  \n",
       "</tr>\n",
       "<tr>\n",
       "       <td>Df Model:</td>              <td>1</td>           <td>Scale:</td>     <td>5.7176</td>\n",
       "</tr>\n",
       "</table>\n",
       "<table class=\"simpletable\">\n",
       "<tr>\n",
       "    <td></td>      <th>Coef.</th>  <th>Std.Err.</th>    <th>z</th>     <th>P>|z|</th>  <th>[0.025</th>   <th>0.975]</th> \n",
       "</tr>\n",
       "<tr>\n",
       "  <th>const</th> <td>137.8143</td>  <td>1.7453</td>  <td>78.9642</td> <td>0.0000</td> <td>134.3936</td> <td>141.2350</td>\n",
       "</tr>\n",
       "<tr>\n",
       "  <th>x1</th>     <td>0.5008</td>   <td>0.0259</td>  <td>19.3678</td> <td>0.0000</td>  <td>0.4501</td>   <td>0.5514</td> \n",
       "</tr>\n",
       "</table>"
      ],
      "text/plain": [
       "<class 'statsmodels.iolib.summary2.Summary'>\n",
       "\"\"\"\n",
       "              Results: Robust linear model\n",
       "=========================================================\n",
       "Model:              RLM              Df Residuals: 198   \n",
       "Dependent Variable: y                Norm:         HuberT\n",
       "Date:               2021-05-13 13:33 Scale Est.:   mad   \n",
       "No. Observations:   200              Cov. Type:    H1    \n",
       "Df Model:           1                Scale:        5.7176\n",
       "---------------------------------------------------------\n",
       "        Coef.   Std.Err.    z    P>|z|   [0.025   0.975] \n",
       "---------------------------------------------------------\n",
       "const  137.8143   1.7453 78.9642 0.0000 134.3936 141.2350\n",
       "x1       0.5008   0.0259 19.3678 0.0000   0.4501   0.5514\n",
       "=========================================================\n",
       "\n",
       "\"\"\""
      ]
     },
     "execution_count": 59,
     "metadata": {},
     "output_type": "execute_result"
    }
   ],
   "source": [
    "rf.summary2()"
   ]
  },
  {
   "cell_type": "code",
   "execution_count": 60,
   "id": "c9ffc333",
   "metadata": {},
   "outputs": [],
   "source": [
    "# 予測点の生成\n",
    "tx = np.linspace(x.min(), x.max(), 100).reshape(-1, 1)\n",
    "txc = sm.add_constant(tx)"
   ]
  },
  {
   "cell_type": "code",
   "execution_count": 62,
   "id": "b7a27162",
   "metadata": {},
   "outputs": [
    {
     "data": {
      "image/png": "[encoded data removed]",
      "text/plain": [
       "<Figure size 432x288 with 1 Axes>"
      ]
     },
     "metadata": {
      "needs_background": "light"
     },
     "output_type": "display_data"
    }
   ],
   "source": [
    "# プロット\n",
    "plt.xlabel('weight');plt.ylabel('height')\n",
    "plt.scatter(x, y,s = 10, c='black')\n",
    "plt.plot(tx, lf.predict(txc), 'r--', lw = 3)\n",
    "plt.plot(tx, lfr.predict(txc), 'g-', lw = 4)\n",
    "plt.plot(tx, rf.predict(txc), 'b-', lw = 3)\n",
    "plt.show()"
   ]
  },
  {
   "cell_type": "code",
   "execution_count": 63,
   "id": "c4368c73",
   "metadata": {},
   "outputs": [
    {
     "data": {
      "text/plain": [
       "array([136.24027068,   0.52543712])"
      ]
     },
     "execution_count": 63,
     "metadata": {},
     "output_type": "execute_result"
    }
   ],
   "source": [
    "# ハンペル損失\n",
    "rfh = sm.RLM(y, xc, M = sm.robust.norms.Hampel()).fit()\n",
    "rfh.params"
   ]
  },
  {
   "cell_type": "code",
   "execution_count": 64,
   "id": "c4448590",
   "metadata": {},
   "outputs": [
    {
     "data": {
      "text/plain": [
       "5.420989982024714"
      ]
     },
     "execution_count": 64,
     "metadata": {},
     "output_type": "execute_result"
    }
   ],
   "source": [
    "rfh.scale"
   ]
  },
  {
   "cell_type": "code",
   "execution_count": 65,
   "id": "17455f58",
   "metadata": {},
   "outputs": [
    {
     "data": {
      "text/plain": [
       "array([135.63061588,   0.53426083])"
      ]
     },
     "execution_count": 65,
     "metadata": {},
     "output_type": "execute_result"
    }
   ],
   "source": [
    "# トゥーキーの二乗平方重み損失\n",
    "rfb = sm.RLM(y, xc, M = sm.robust.norms.TukeyBiweight()).fit()\n",
    "rfb.params"
   ]
  },
  {
   "cell_type": "code",
   "execution_count": 66,
   "id": "57510ac0",
   "metadata": {},
   "outputs": [
    {
     "data": {
      "text/plain": [
       "5.453397062997567"
      ]
     },
     "execution_count": 66,
     "metadata": {},
     "output_type": "execute_result"
    }
   ],
   "source": [
    "rfb.scale"
   ]
  },
  {
   "cell_type": "code",
   "execution_count": 67,
   "id": "744f68d4",
   "metadata": {},
   "outputs": [],
   "source": [
    "# リッジ回帰\n",
    "n = 100 # データ数\n",
    "degree = 8 # 多項式モデルの次数\n",
    "pardim = degree + 1\n"
   ]
  },
  {
   "cell_type": "code",
   "execution_count": 68,
   "id": "887f9b50",
   "metadata": {},
   "outputs": [],
   "source": [
    "# データ作成\n",
    "x = np.random.uniform(-2, 2, n)\n",
    "y = np.sin(2 * np.pi * x) / x + np.random.normal(scale=0.5, size = n)"
   ]
  },
  {
   "cell_type": "code",
   "execution_count": 69,
   "id": "603d4b55",
   "metadata": {},
   "outputs": [
    {
     "data": {
      "text/plain": [
       "(100, 9)"
      ]
     },
     "execution_count": 69,
     "metadata": {},
     "output_type": "execute_result"
    }
   ],
   "source": [
    "mxc = np.power.outer(x, np.arange(pardim)) # データ行列\n",
    "mxc.shape"
   ]
  },
  {
   "cell_type": "code",
   "execution_count": 73,
   "id": "64aeccea",
   "metadata": {},
   "outputs": [],
   "source": [
    "IE = np.identity(mxc.shape[1]); IE[0, 0] = 0 # 行列 I(単位行列) - E_11(1, 1)が1の行列"
   ]
  },
  {
   "cell_type": "code",
   "execution_count": 74,
   "id": "19e24561",
   "metadata": {},
   "outputs": [
    {
     "data": {
      "text/plain": [
       "array([ 2.7579153 , -0.49494445, -5.19102601,  0.88833406,  2.96446878,\n",
       "       -0.45482068, -0.58310441,  0.07222451,  0.02176697])"
      ]
     },
     "execution_count": 74,
     "metadata": {},
     "output_type": "execute_result"
    }
   ],
   "source": [
    "# 回帰係数の推定値\n",
    "np.linalg.solve(np.dot(mxc.T, mxc) + 1*IE, np.dot(mxc.T, y))"
   ]
  },
  {
   "cell_type": "code",
   "execution_count": 76,
   "id": "cdf7aced",
   "metadata": {},
   "outputs": [
    {
     "data": {
      "image/png": "[encoded data removed]",
      "text/plain": [
       "<Figure size 432x288 with 1 Axes>"
      ]
     },
     "metadata": {
      "needs_background": "light"
     },
     "output_type": "display_data"
    }
   ],
   "source": [
    "plt.scatter(x, y, c = 'black', s = 10)\n",
    "tx = np.linspace(-2, 2, 100)\n",
    "tpx = np.power.outer(tx, np.arange(pardim))\n",
    "a = np.array([0, 2 ** (-6), 1, 2 ** 6])  # 正則化パラメータの候補\n",
    "ls = ['-', '--', '-.', ':']\n",
    "for i in np.arange(a.size):\n",
    "    theta = np.linalg.solve(np.dot(mxc.T, mxc) + a[i] * IE, np.dot(mxc.T, y))\n",
    "    py = np.dot(tpx, theta) # 予測値\n",
    "    #     プロット\n",
    "    plt.plot(tx, py, label='reg. par: '+str(round(a[i], 3)),\n",
    "            ls = ls[i], lw = 2)\n",
    "plt.legend()\n",
    "plt.show();"
   ]
  },
  {
   "cell_type": "code",
   "execution_count": 77,
   "id": "d25c4f39",
   "metadata": {},
   "outputs": [],
   "source": [
    "# データ生成の設定\n",
    "n = 100; degree = 8; pardim = degree + 1"
   ]
  },
  {
   "cell_type": "code",
   "execution_count": 88,
   "id": "d69e0b5e",
   "metadata": {},
   "outputs": [],
   "source": [
    "x = np.random.uniform(-2, 2, n)\n",
    "y = np.sin(2 * np.pi * x) / x + np.random.normal(scale = 0.5, size = n)"
   ]
  },
  {
   "cell_type": "code",
   "execution_count": 89,
   "id": "eebc8245",
   "metadata": {},
   "outputs": [
    {
     "data": {
      "text/plain": [
       "array([0.    , 0.0001, 0.0001, 0.0001, 0.0001, 0.0001, 0.0001, 0.0001,\n",
       "       0.0001])"
      ]
     },
     "execution_count": 89,
     "metadata": {},
     "output_type": "execute_result"
    }
   ],
   "source": [
    "# データ行列\n",
    "# 配列a, b全ての要素の組み合わせに対して、関数を適用する(外積のnp.outerとは違う？？)\n",
    "mx = np.power.outer(x, np.arange(pardim))\n",
    "# 正則化パラメータの設定: 定数高は正則化項に含めない\n",
    "alpha = 0.01; rp = np.r_[0, np.repeat(alpha/n, degree)]\n",
    "rp"
   ]
  },
  {
   "cell_type": "code",
   "execution_count": 90,
   "id": "e9eaa76b",
   "metadata": {},
   "outputs": [],
   "source": [
    "# リッジ回帰 L1_wt = 0とする必要がある\n",
    "ri = sm.OLS(y, mx).fit_regularized(alpha=rp, L1_wt = 0)"
   ]
  },
  {
   "cell_type": "code",
   "execution_count": 91,
   "id": "6be73865",
   "metadata": {},
   "outputs": [
    {
     "data": {
      "text/plain": [
       "array([  4.76337458,   0.06495415, -18.08108104,  -0.05214974,\n",
       "        18.85896073,  -0.08035683,  -7.22269072,   0.03118408,\n",
       "         0.90870174])"
      ]
     },
     "execution_count": 91,
     "metadata": {},
     "output_type": "execute_result"
    }
   ],
   "source": [
    "# 推定された回帰係数\n",
    "ri.params"
   ]
  },
  {
   "cell_type": "code",
   "execution_count": 92,
   "id": "fab832e1",
   "metadata": {},
   "outputs": [
    {
     "data": {
      "text/plain": [
       "array([  4.76337458,   0.06495415, -18.08108104,  -0.05214974,\n",
       "        18.85896073,  -0.08035683,  -7.22269072,   0.03118408,\n",
       "         0.90870174])"
      ]
     },
     "execution_count": 92,
     "metadata": {},
     "output_type": "execute_result"
    }
   ],
   "source": [
    "np.linalg.solve(np.dot(mx.T, mx) + alpha * IE, np.dot(mx.T, y))"
   ]
  },
  {
   "cell_type": "code",
   "execution_count": 95,
   "id": "33f76c6a",
   "metadata": {},
   "outputs": [
    {
     "data": {
      "image/png": "[encoded data removed]",
      "text/plain": [
       "<Figure size 432x288 with 1 Axes>"
      ]
     },
     "metadata": {
      "needs_background": "light"
     },
     "output_type": "display_data"
    }
   ],
   "source": [
    "tx = np.linspace(-2, 2, 100) # 予測点\n",
    "txc = np.power.outer(tx, np.arange(pardim))\n",
    "py = ri.predict(txc) # 推定値\n",
    "plt.scatter(x, y, c = 'black', s = 10)\n",
    "plt.plot(tx, py)\n",
    "plt.show();"
   ]
  },
  {
   "cell_type": "code",
   "execution_count": 96,
   "id": "267c1d27",
   "metadata": {},
   "outputs": [],
   "source": [
    "# カーネル回帰分析\n",
    "# 基底関数の代わりにカーネル関数を用いて統計モデルを表現することで、次元Dが非常に大きくても、効率的に計算することができる"
   ]
  },
  {
   "cell_type": "code",
   "execution_count": 97,
   "id": "5fd7941e",
   "metadata": {},
   "outputs": [],
   "source": [
    "from sklearn.kernel_ridge import KernelRidge\n",
    "?KernelRidge"
   ]
  },
  {
   "cell_type": "code",
   "execution_count": 98,
   "id": "90e41b78",
   "metadata": {},
   "outputs": [
    {
     "data": {
      "image/png": "[encoded data removed]",
      "text/plain": [
       "<Figure size 432x288 with 1 Axes>"
      ]
     },
     "metadata": {
      "needs_background": "light"
     },
     "output_type": "display_data"
    }
   ],
   "source": [
    "# ガウスカーネルを用いた例\n",
    "# データ生成\n",
    "n = 100\n",
    "x = np.random.uniform(-2, 2, n); X = x.reshape(-1, 1)\n",
    "y = np.sin(2 * np.pi*x) / x + np.random.normal(scale = 0.5, size = n)\n",
    "tx = np.linspace(-2, 2, 100) # テスト点\n",
    "g = np.array([0.1,1, 10, 100]) # gammaの候補\n",
    "l = ['-', '--', '-.', ':'] # プロットのラインスタイル\n",
    "plt.title('Gauss kernel')\n",
    "plt.scatter(x, y, c = 'black', s = 10)\n",
    "for i in np.arange(len(g)):\n",
    "    kr = KernelRidge(alpha = 1, kernel='rbf', gamma=g[i])\n",
    "    kr.fit(X, y) #　データへの当てはめ\n",
    "    py = kr.predict(tx.reshape(-1, 1)) # 予測値の計算\n",
    "    plt.plot(tx, py, label='gamma: ' + str(round(g[i], 3)), ls = l[i], lw = 2)\n",
    "plt.legend()\n",
    "plt.show();\n",
    "    "
   ]
  },
  {
   "cell_type": "code",
   "execution_count": 99,
   "id": "8f425c0d",
   "metadata": {},
   "outputs": [
    {
     "name": "stderr",
     "output_type": "stream",
     "text": [
      "/Users/akito_harada/Documents/python/stats/ml/venv/lib/python3.8/site-packages/sklearn/linear_model/_ridge.py:190: UserWarning: Singular matrix in solving dual problem. Using least-squares solution instead.\n",
      "  warnings.warn(\"Singular matrix in solving dual problem. Using \"\n",
      "/Users/akito_harada/Documents/python/stats/ml/venv/lib/python3.8/site-packages/sklearn/linear_model/_ridge.py:190: UserWarning: Singular matrix in solving dual problem. Using least-squares solution instead.\n",
      "  warnings.warn(\"Singular matrix in solving dual problem. Using \"\n",
      "/Users/akito_harada/Documents/python/stats/ml/venv/lib/python3.8/site-packages/sklearn/linear_model/_ridge.py:190: UserWarning: Singular matrix in solving dual problem. Using least-squares solution instead.\n",
      "  warnings.warn(\"Singular matrix in solving dual problem. Using \"\n"
     ]
    },
    {
     "data": {
      "image/png": "[encoded data removed]",
      "text/plain": [
       "<Figure size 432x288 with 1 Axes>"
      ]
     },
     "metadata": {
      "needs_background": "light"
     },
     "output_type": "display_data"
    }
   ],
   "source": [
    "# シグモイドカーネルを用いた例\n",
    "# データ生成\n",
    "n = 100\n",
    "x = np.random.uniform(-2, 2, n); X = x.reshape(-1, 1)\n",
    "y = np.sin(2 * np.pi*x) / x + np.random.normal(scale = 0.5, size = n)\n",
    "tx = np.linspace(-2, 2, 100) # テスト点\n",
    "g = np.array([0.1,1, 10, 100]) # gammaの候補\n",
    "l = ['-', '--', '-.', ':'] # プロットのラインスタイル\n",
    "plt.title('Sigmoid kernel')\n",
    "plt.scatter(x, y, c = 'black', s = 10)\n",
    "for i in np.arange(len(g)):\n",
    "    kr = KernelRidge(alpha = 1, kernel='sigmoid', gamma=g[i])\n",
    "    kr.fit(X, y) #　データへの当てはめ\n",
    "    py = kr.predict(tx.reshape(-1, 1)) # 予測値の計算\n",
    "    plt.plot(tx, py, label='gamma: ' + str(round(g[i], 3)), ls = l[i], lw = 2)\n",
    "plt.legend()\n",
    "plt.show();\n"
   ]
  },
  {
   "cell_type": "code",
   "execution_count": 101,
   "id": "6b64ec5a",
   "metadata": {},
   "outputs": [
    {
     "data": {
      "text/plain": [
       "11282.93513755021"
      ]
     },
     "execution_count": 101,
     "metadata": {},
     "output_type": "execute_result"
    }
   ],
   "source": [
    "51/(5270.514 * 0.5408) * 630582"
   ]
  },
  {
   "cell_type": "code",
   "execution_count": null,
   "id": "fb699b68",
   "metadata": {},
   "outputs": [],
   "source": []
  }
 ],
 "metadata": {
  "kernelspec": {
   "display_name": "Python 3",
   "language": "python",
   "name": "python3"
  },
  "language_info": {
   "codemirror_mode": {
    "name": "ipython",
    "version": 3
   },
   "file_extension": ".py",
   "mimetype": "text/x-python",
   "name": "python",
   "nbconvert_exporter": "python",
   "pygments_lexer": "ipython3",
   "version": "3.8.5"
  }
 },
 "nbformat": 4,
 "nbformat_minor": 5
}
