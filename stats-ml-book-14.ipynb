{
 "cells": [
  {
   "cell_type": "code",
   "execution_count": 1,
   "id": "4e97edc0",
   "metadata": {},
   "outputs": [
    {
     "name": "stderr",
     "output_type": "stream",
     "text": [
      "/Users/akito_harada/Documents/python/stats/ml/venv/lib/python3.8/site-packages/pandas/compat/__init__.py:97: UserWarning: Could not import the lzma module. Your installed Python is incomplete. Attempting to use lzma compression will result in a RuntimeError.\n",
      "  warnings.warn(msg)\n"
     ]
    }
   ],
   "source": [
    "import numpy as np\n",
    "import matplotlib.pyplot as plt\n",
    "import statsmodels.api as sm\n",
    "from scipy.stats import norm"
   ]
  },
  {
   "cell_type": "code",
   "execution_count": 2,
   "id": "38c135a1",
   "metadata": {},
   "outputs": [],
   "source": [
    "# scipy.spatial.pdistを使うと様々な距離の距離行列を計算できます。デフォルトはユークリッド距離ですが、他にもいろいろ指定できる距離の種類があります。詳細はドキュメントを見てください。\n",
    "from common.DensityRatio import kernelDensityRatio\n",
    "# ここに密度比推定をするコードが書かれている"
   ]
  },
  {
   "cell_type": "code",
   "execution_count": 3,
   "id": "f310baa0",
   "metadata": {},
   "outputs": [],
   "source": [
    "# データ設定\n",
    "n, m = 100, 200\n",
    "nu_mean, nu_sd = -0.5, 1\n",
    "a_mean, a_sd = 1, 0.8\n",
    "newdat = np.linspace(-4, 4, 500).reshape(500, 1) # 予測点\n",
    "tnu = norm.pdf(newdat, nu_mean , nu_sd) #　確率密度の計算\n",
    "tde = (norm.pdf(newdat, a_mean, a_sd) + tnu) / 2\n",
    "tw = tnu/tde # 予測点上での真の密度比"
   ]
  },
  {
   "cell_type": "code",
   "execution_count": 4,
   "id": "5782cd2c",
   "metadata": {},
   "outputs": [
    {
     "name": "stdout",
     "output_type": "stream",
     "text": [
      "98 102\n"
     ]
    }
   ],
   "source": [
    "# データ生成\n",
    "nu = np.random.normal(nu_mean, nu_sd, size = n).reshape(n, 1)\n",
    "# 0.5の確率で成功する試行をm回行なったときの成功数がmaに入れられる\n",
    "ma = np.random.binomial(m,0.5);mb = m-ma\n",
    "print(ma, m-ma)\n",
    "de = np.r_[np.random.normal(nu_mean,\n",
    "                           nu_sd, size = ma).reshape(ma, 1),\n",
    "          np.random.normal(a_mean, a_sd, size = mb).reshape(mb, 1)]"
   ]
  },
  {
   "cell_type": "code",
   "execution_count": 5,
   "id": "91e9c789",
   "metadata": {},
   "outputs": [
    {
     "data": {
      "image/png": "[encoded data removed]",
      "text/plain": [
       "<Figure size 432x288 with 1 Axes>"
      ]
     },
     "metadata": {
      "needs_background": "light"
     },
     "output_type": "display_data"
    }
   ],
   "source": [
    "plt.plot(newdat, tw, lw = 2) # 真の密度比関数のプロット\n",
    "# データ点のプロット\n",
    "plt.scatter(nu.reshape(n, ), np.repeat(0.3, n), marker = '.', c = 'black', s = 20)\n",
    "plt.scatter(de.reshape(m, ), np.repeat(0.1, m), marker = 'x', c = 'gray', s = 20)\n",
    "\n",
    "# 以下のカーネル幅で推定\n",
    "gammas = np.array([0.01, 0.1, 1])\n",
    "lines = ['--', '-.', ':']\n",
    "for i, g in enumerate(gammas):\n",
    "    dr = kernelDensityRatio(gamma=g)\n",
    "    dr.fit(de, nu) # データヘのフィッティング\n",
    "    drp = dr.predict(newdat) # 密度比の予測値\n",
    "    plt.plot(newdat, drp, linestyle=lines[i], label = g)\n",
    "plt.legend();\n",
    "plt.show();\n",
    "    "
   ]
  },
  {
   "cell_type": "code",
   "execution_count": 6,
   "id": "95d6c8b7",
   "metadata": {},
   "outputs": [],
   "source": [
    "# K重交差検証法による密度比のモデルパラメータ選択\n",
    "from scipy.spatial import distance # distanceを使う\n",
    "cvk = 5 # 交差検証のKは5\n",
    "n, m = nu.shape[0], de.shape[0]"
   ]
  },
  {
   "cell_type": "code",
   "execution_count": 7,
   "id": "9d95787d",
   "metadata": {},
   "outputs": [],
   "source": [
    "# カーネル幅パラメータの候補を生成\n",
    "idx = np.random.choice(n+m, round((n+m)/2))\n",
    "# np.percentileを利用している理由はminとmaxを利用すると外れ値の影響を受けたり、0の影響を受けたりするから\n",
    "gammas = 1/np.percentile(distance.pdist(np.r_[nu, de][idx, :]),\n",
    "                        [1, 99]) ** 2"
   ]
  },
  {
   "cell_type": "code",
   "execution_count": 8,
   "id": "39180431",
   "metadata": {},
   "outputs": [
    {
     "name": "stdout",
     "output_type": "stream",
     "text": [
      "0.0 5.580740738868126\n"
     ]
    },
    {
     "data": {
      "text/plain": [
       "array([0.0154604 , 4.34840585])"
      ]
     },
     "execution_count": 8,
     "metadata": {},
     "output_type": "execute_result"
    }
   ],
   "source": [
    "print(min(distance.pdist(np.r_[nu, de][idx, :])), max(distance.pdist(np.r_[nu, de][idx, :])))\n",
    "np.percentile(distance.pdist(np.r_[nu, de][idx, :]),\n",
    "                        [1, 99])"
   ]
  },
  {
   "cell_type": "code",
   "execution_count": 9,
   "id": "ad70672c",
   "metadata": {},
   "outputs": [],
   "source": [
    "gammas = np.logspace(np.log10(gammas.min()/100),\n",
    "                    np.log10(gammas.max()*100), 10)"
   ]
  },
  {
   "cell_type": "code",
   "execution_count": 10,
   "id": "d8db2360",
   "metadata": {},
   "outputs": [
    {
     "data": {
      "text/plain": [
       "array([0.01584893])"
      ]
     },
     "execution_count": 10,
     "metadata": {},
     "output_type": "execute_result"
    }
   ],
   "source": [
    "# 正則化パラメータlambdaの候補を生成\n",
    "lams = np.array([(min(n, m)) ** (-0.9)])\n",
    "lams"
   ]
  },
  {
   "cell_type": "code",
   "execution_count": 11,
   "id": "23ece784",
   "metadata": {},
   "outputs": [],
   "source": [
    "# モデルパラメータの候補\n",
    "modelpars = np.array([(x, y) for x in gammas for y in lams ])"
   ]
  },
  {
   "cell_type": "code",
   "execution_count": 12,
   "id": "5aefd470",
   "metadata": {},
   "outputs": [],
   "source": [
    "# それぞれのデータを5グループに分ける\n",
    "inu = np.repeat(np.arange(cvk), np.ceil(n/cvk))\n",
    "inu = inu[np.random.choice(n, n, replace = False)]\n",
    "ide = np.repeat(np.arange(cvk), np.ceil(m/cvk))\n",
    "ide = ide[np.random.choice(m, m, replace=False)]\n",
    "cvloss = []\n",
    "for gamma, lam in modelpars:\n",
    "    tcvloss = []\n",
    "    for k in np.arange(cvk):\n",
    "        # トレーニングデータ\n",
    "        trnu, trde = nu[inu != k, :], de[ide!=k, :]\n",
    "        # テストデータ\n",
    "        tenu, tede = nu[inu == k, :], de[ide == k, :]\n",
    "        # 指定されたモデルパラメータで密度比を推定\n",
    "        kdr = kernelDensityRatio(gamma=gamma, lam = lam)\n",
    "        kdr.fit(trde, trnu)\n",
    "        wde = kdr.predict(tede) # tede上で予測\n",
    "        wnu = kdr.predict(tenu) # tenu上で予測\n",
    "        tcvloss.append(np.mean(wde**2)/2 - np.mean(wnu))\n",
    "    cvloss.append(np.mean(tcvloss))\n"
   ]
  },
  {
   "cell_type": "code",
   "execution_count": 13,
   "id": "1145d4bb",
   "metadata": {},
   "outputs": [
    {
     "name": "stdout",
     "output_type": "stream",
     "text": [
      "[[5.28858949e-04 1.58489319e-02]\n",
      " [5.15265250e-03 1.58489319e-02]\n",
      " [5.02020961e-02 1.58489319e-02]\n",
      " [4.89117101e-01 1.58489319e-02]\n",
      " [4.76544920e+00 1.58489319e-02]\n",
      " [4.64295892e+01 1.58489319e-02]\n",
      " [4.52361711e+02 1.58489319e-02]\n",
      " [4.40734284e+03 1.58489319e-02]\n",
      " [4.29405726e+04 1.58489319e-02]\n",
      " [4.18368356e+05 1.58489319e-02]]\n"
     ]
    },
    {
     "data": {
      "text/plain": [
       "(4.765449201263429, 0.015848931924611134)"
      ]
     },
     "execution_count": 13,
     "metadata": {},
     "output_type": "execute_result"
    }
   ],
   "source": [
    "# 最適なモデルパラメータ\n",
    "print(modelpars)\n",
    "optgamma, optlam = modelpars[np.argmin(cvloss), :]\n",
    "optgamma, optlam"
   ]
  },
  {
   "cell_type": "code",
   "execution_count": 14,
   "id": "ee50c1d8",
   "metadata": {},
   "outputs": [
    {
     "data": {
      "image/png": "[encoded data removed]",
      "text/plain": [
       "<Figure size 432x288 with 1 Axes>"
      ]
     },
     "metadata": {
      "needs_background": "light"
     },
     "output_type": "display_data"
    }
   ],
   "source": [
    "plt.xscale('log');plt.xlabel('gamma');plt.ylabel('cv loss')\n",
    "plt.scatter(gammas, cvloss)\n",
    "plt.show();"
   ]
  },
  {
   "cell_type": "code",
   "execution_count": 15,
   "id": "640723fd",
   "metadata": {},
   "outputs": [],
   "source": [
    "kdr = kernelDensityRatio(gamma = optgamma, lam = optlam)"
   ]
  },
  {
   "cell_type": "code",
   "execution_count": 16,
   "id": "558bb293",
   "metadata": {},
   "outputs": [
    {
     "data": {
      "text/plain": [
       "(500,)"
      ]
     },
     "execution_count": 16,
     "metadata": {},
     "output_type": "execute_result"
    }
   ],
   "source": [
    "kdr.fit(de, nu)\n",
    "kdrp = kdr.predict(newdat)\n",
    "kdrp.shape"
   ]
  },
  {
   "cell_type": "code",
   "execution_count": 17,
   "id": "6a8b0abb",
   "metadata": {},
   "outputs": [
    {
     "data": {
      "text/plain": [
       "[<matplotlib.lines.Line2D at 0x120b4df10>]"
      ]
     },
     "execution_count": 17,
     "metadata": {},
     "output_type": "execute_result"
    },
    {
     "data": {
      "image/png": "[encoded data removed]",
      "text/plain": [
       "<Figure size 432x288 with 1 Axes>"
      ]
     },
     "metadata": {
      "needs_background": "light"
     },
     "output_type": "display_data"
    }
   ],
   "source": [
    "plt.plot(newdat, kdrp)\n",
    "plt.plot(newdat, tw, lw = 2) # 真の密度比関数のプロット"
   ]
  },
  {
   "cell_type": "code",
   "execution_count": 18,
   "id": "6d548ba0",
   "metadata": {},
   "outputs": [],
   "source": [
    "# 真の回帰関数\n",
    "def f(x):\n",
    "    return ((x + 2) * (x - 3) * x)"
   ]
  },
  {
   "cell_type": "code",
   "execution_count": 19,
   "id": "35eda5e8",
   "metadata": {},
   "outputs": [],
   "source": [
    "# データ設定\n",
    "ntr = 100; mtr = -1.4; sdtr = 0.7\n",
    "nte = 100; mte = 0.8; sdte = 0.8\n",
    "\n",
    "# トレーニングデータ生成\n",
    "xtr = np.random.normal(mtr, sdtr, size = ntr).reshape(ntr, 1)\n",
    "ytr = f(xtr) + np.random.normal(scale=2, size = ntr).reshape(ntr, 1)\n",
    "# テストデータ生成\n",
    "xte = np.random.normal(mte, sdte, size = nte).reshape(nte, 1)\n",
    "yte = f(xte) + np.random.normal(scale=2, size = nte).reshape(nte, 1)"
   ]
  },
  {
   "cell_type": "code",
   "execution_count": 20,
   "id": "2c94b13c",
   "metadata": {},
   "outputs": [
    {
     "name": "stdout",
     "output_type": "stream",
     "text": [
      "(100,) (100, 100) (100, 2) (100, 2) (100, 1) (2, 1)\n",
      "[[-0.67756402]\n",
      " [-3.3037433 ]]\n"
     ]
    }
   ],
   "source": [
    "# トレーニングデータ点上での密度比を推定\n",
    "kdr = kernelDensityRatio()\n",
    "kdr.fit(xtr, xte)\n",
    "pw = kdr.predict(xtr)\n",
    "\n",
    "# 重み付き最小2乗法で回帰パラメータを推定\n",
    "W = np.sqrt(np.diag(pw))\n",
    "X = sm.add_constant(xtr)\n",
    "WX = np.dot(W, X); WY = np.dot(W, ytr)\n",
    "# これは最小二乗法の行列計算の基礎公式より！\n",
    "estTheta = np.linalg.solve(np.dot(WX.T, WX), np.dot(WX.T, WY))\n",
    "print(pw.shape,W.shape, X.shape, WX.shape, WY.shape, estTheta.shape)\n",
    "print(estTheta)"
   ]
  },
  {
   "cell_type": "code",
   "execution_count": 28,
   "id": "84e99717",
   "metadata": {},
   "outputs": [],
   "source": [
    "from sklearn.preprocessing import scale\n",
    "from sklearn import datasets"
   ]
  },
  {
   "cell_type": "code",
   "execution_count": 29,
   "id": "83b1d624",
   "metadata": {},
   "outputs": [],
   "source": [
    "d = datasets.load_breast_cancer()"
   ]
  },
  {
   "cell_type": "code",
   "execution_count": 30,
   "id": "4453e9d3",
   "metadata": {},
   "outputs": [],
   "source": [
    "de = d.data[d.target == 0]; de = scale(de) # スケーリング\n",
    "nu = d.data[d.target == 1]; nu = scale(nu) # スケーリング"
   ]
  },
  {
   "cell_type": "code",
   "execution_count": 31,
   "id": "0fa58903",
   "metadata": {},
   "outputs": [
    {
     "data": {
      "text/plain": [
       "<common.DensityRatio.kernelDensityRatio at 0x12222e460>"
      ]
     },
     "execution_count": 31,
     "metadata": {},
     "output_type": "execute_result"
    }
   ],
   "source": [
    "kdr = kernelDensityRatio()\n",
    "kdr.fit(de, nu) # 密度比推定"
   ]
  },
  {
   "cell_type": "code",
   "execution_count": 32,
   "id": "7b679874",
   "metadata": {},
   "outputs": [],
   "source": [
    "L1distEst = np.mean(abs(1 - kdr.predict(de))) # L1距離の推定値"
   ]
  },
  {
   "cell_type": "code",
   "execution_count": 33,
   "id": "87800893",
   "metadata": {},
   "outputs": [],
   "source": [
    "nperm = 10000 # 並べ替え検定の繰り返し数\n",
    "nde, nnu = de.shape[0], nu.shape[1]\n",
    "dall = np.r_[de, nu]\n",
    "permL1dist = []\n",
    "for itr in np.arange(nperm):\n",
    "    # データの並び替え\n",
    "    idx = np.random.choice(nde + nnu, nde, replace = False)\n",
    "    perm_de = dall[idx, :]\n",
    "    perm_nu = np.delete(dall, idx, 0)\n",
    "    pdr = kernelDensityRatio()\n",
    "    # 並べ替え検定に対する密度比の推定\n",
    "    pdr.fit(perm_de, perm_nu)\n",
    "    # L1距離の推定\n",
    "    permL1dist.append(np.mean(abs(1 - pdr.predict(perm_de))))"
   ]
  },
  {
   "cell_type": "code",
   "execution_count": 34,
   "id": "48f4e1d1",
   "metadata": {},
   "outputs": [
    {
     "data": {
      "text/plain": [
       "0.0294"
      ]
     },
     "execution_count": 34,
     "metadata": {},
     "output_type": "execute_result"
    }
   ],
   "source": [
    "# 並べ替え検定によるp値\n",
    "np.mean(L1distEst < np.array(permL1dist))"
   ]
  },
  {
   "cell_type": "code",
   "execution_count": null,
   "id": "e0cb02f0",
   "metadata": {},
   "outputs": [],
   "source": []
  }
 ],
 "metadata": {
  "kernelspec": {
   "display_name": "Python 3",
   "language": "python",
   "name": "python3"
  },
  "language_info": {
   "codemirror_mode": {
    "name": "ipython",
    "version": 3
   },
   "file_extension": ".py",
   "mimetype": "text/x-python",
   "name": "python",
   "nbconvert_exporter": "python",
   "pygments_lexer": "ipython3",
   "version": "3.8.5"
  }
 },
 "nbformat": 4,
 "nbformat_minor": 5
}
